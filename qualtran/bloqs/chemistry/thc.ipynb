{
 "cells": [
  {
   "cell_type": "markdown",
   "id": "8a1cab3e",
   "metadata": {
    "cq.autogen": "title_cell"
   },
   "source": [
    "# Tensor Hypercontraction"
   ]
  },
  {
   "cell_type": "code",
   "execution_count": null,
   "id": "76fe66a3",
   "metadata": {
    "cq.autogen": "top_imports"
   },
   "outputs": [],
   "source": [
    "from qualtran import Bloq, CompositeBloq, BloqBuilder, Signature, Register\n",
    "from qualtran.drawing import show_bloq\n",
    "from typing import *\n",
    "import numpy as np"
   ]
  },
  {
   "cell_type": "markdown",
   "id": "1423d573",
   "metadata": {
    "cq.autogen": "_make_uniform_superposition.md"
   },
   "source": [
    "## `UniformSuperpositionTHC`\n",
    "Prepare uniform superposition state for THC.\n",
    "\n",
    "$$\n",
    "    |0\\rangle^{\\otimes 2\\log(M+1)} \\rightarrow \\sum_{\\mu\\le\\nu}^{M} |\\mu\\rangle|\\nu\\rangle + \\sum_{\\mu}^{N/2}|\\mu\\rangle|\\nu=M+1\\rangle,\n",
    "$$\n",
    "\n",
    "where $M$ is the THC auxiliary dimension, and $N$ is the number of spin orbitals.\n",
    "\n",
    "#### Parameters\n",
    " - `bitsize`: the number of bits needed for the mu and nu registers. Should be large enough to represent $M+1$.\n",
    " - `bitsize_rot`: the number of bits needed for the Ry gate for amplitude amplification which is implemented using a phase gradient gate. \n",
    "\n",
    "Registers:\n",
    "- mu: $\\mu$ register.\n",
    "- nu: $\\nu$ register.\n",
    "- succ: ancilla flagging success of amplitude amplification.\n",
    "- junk: ancillas for inequality testing.\n",
    "- amp: ancilla for amplitude amplification.\n",
    "\n",
    "#### References\n",
    "[Even more efficient quantum computations of chemistry through tensor hypercontraction](https://arxiv.org/pdf/2011.03494.pdf). Eq. 29.\n"
   ]
  },
  {
   "cell_type": "code",
   "execution_count": null,
   "id": "1b6bb0e0",
   "metadata": {
    "cq.autogen": "_make_uniform_superposition.py"
   },
   "outputs": [],
   "source": [
    "from qualtran.bloqs.chemistry.thc import UniformSuperpositionTHC\n",
    "\n",
    "num_mu = 10\n",
    "bitsize_mu = (num_mu - 1).bit_length()\n",
    "bitsize_rot = 8\n",
    "bloq = UniformSuperpositionTHC(bitsize=bitsize_mu, bitsize_rot=bitsize_rot)\n",
    "show_bloq(bloq)"
   ]
  },
  {
   "cell_type": "markdown",
   "id": "5b253057",
   "metadata": {
    "cq.autogen": "_make_prepare.md"
   },
   "source": [
    "## `PrepareTHC`\n",
    "State Preparation for THC Hamilontian.\n",
    "\n",
    "Prepares the state\n",
    "\n",
    "$$\n",
    "    \\frac{1}{\\sqrt{\\lambda}}|+\\rangle|+\\rangle\\left[\n",
    "        \\sum_\\ell^{N/2} \\sqrt{t_\\ell}|\\ell\\rangle|M+1\\rangle\n",
    "        + \\frac{1}{\\sqrt{2}} \\sum_{\\mu\\le\\nu}^M \\sqrt{\\zeta_{\\mu\\nu}} |\\mu\\rangle|\\nu\\rangle\n",
    "    \\right].\n",
    "$$\n",
    "\n",
    "#### Parameters\n",
    " - `num_mu`: THC auxiliary index dimension $M$\n",
    " - `num_spin_orb`: number of spin orbitals $N$\n",
    " - `keep_bitsize`: number of bits for keep register for coherent alias sampling. \n",
    "\n",
    "Registers:\n",
    " - mu: $\\mu$ register.\n",
    " - nu: $\\nu$ register.\n",
    " - theta: sign register.\n",
    " - succ: ancilla flagging success of amplitude amplification.\n",
    " - alt_mu: Register for alt_mu values.\n",
    " - alt_nu: Register for alt_nu values.\n",
    " - keep: Register for keep values.\n",
    " - flag_plus: ancilla for creating $|+\\rangle$ state.\n",
    " - nu_eq_M_pl_1: ancilla for flagging $\\nu = M + 1$.\n",
    "\n",
    "#### References\n",
    "[Even more efficient quantum computations of chemistry through tensor hypercontraction](https://arxiv.org/pdf/2011.03494.pdf) Fig. 2 and Fig. 3.\n"
   ]
  },
  {
   "cell_type": "code",
   "execution_count": null,
   "id": "c4886f09",
   "metadata": {
    "cq.autogen": "_make_prepare.py"
   },
   "outputs": [],
   "source": [
    "from qualtran.bloqs.chemistry.thc import PrepareTHC\n",
    "\n",
    "bloq = PrepareTHC(num_mu=10, num_spin_orb=4, keep_bitsize=8)\n",
    "show_bloq(bloq)"
   ]
  },
  {
   "cell_type": "code",
   "execution_count": null,
   "id": "93e23c6b",
   "metadata": {},
   "outputs": [],
   "source": [
    "cbloq = bloq.decompose_bloq() \n",
    "show_bloq(cbloq)"
   ]
  }
 ],
 "metadata": {
  "kernelspec": {
   "display_name": "Python 3",
   "language": "python",
   "name": "python3"
  },
  "language_info": {
   "codemirror_mode": {
    "name": "ipython",
    "version": 3
   },
   "file_extension": ".py",
   "mimetype": "text/x-python",
   "name": "python",
   "nbconvert_exporter": "python",
   "pygments_lexer": "ipython3",
   "version": "3.11.4"
  }
 },
 "nbformat": 4,
 "nbformat_minor": 5
}
