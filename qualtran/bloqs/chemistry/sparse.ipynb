{
 "cells": [
  {
   "cell_type": "markdown",
   "id": "0322a78b",
   "metadata": {
    "cq.autogen": "title_cell"
   },
   "source": [
    "# Sparse\n",
    "\n",
    "SELECT and PREPARE for the sparse chemistry Hamiltonian in second quantization.\n",
    "\n",
    "The sparse Hamiltonian simply takes the standard second quantized chemistry\n",
    "Hamiltonian and sets to zero any term whose magnitude is smaller than some\n",
    "threshold. "
   ]
  },
  {
   "cell_type": "code",
   "execution_count": null,
   "id": "fcd6b83b",
   "metadata": {
    "cq.autogen": "top_imports"
   },
   "outputs": [],
   "source": [
    "from qualtran import Bloq, CompositeBloq, BloqBuilder, Signature, Register\n",
    "from qualtran.drawing import show_bloq\n",
    "from typing import *\n",
    "import numpy as np"
   ]
  },
  {
   "cell_type": "markdown",
   "id": "b4812fa5",
   "metadata": {
    "cq.autogen": "_make_sparse_select.md"
   },
   "source": [
    "## `SelectSparse`\n",
    "SELECT oracle for the sparse Hamiltonian.\n",
    "\n",
    "Implements the two applications of Fig. 13.\n",
    "\n",
    "#### Parameters\n",
    " - `num_spin_orb`: The number of spin orbitals. Typically called N.\n",
    " - `num_controls`: The number of controls. \n",
    "\n",
    "#### Registers\n",
    " - `flag_1b`: a single qubit to flag whether the one-body Hamiltonian is to be applied or not during SELECT.\n",
    " - `swap_pq`: a |+> state to restore the symmetries of the p and q indices.\n",
    " - `swap_rs`: a |+> state to restore the symmetries of the r and s indices.\n",
    " - `swap_pqrs`: a |+> state to restore the symmetries of between (pq) and (rs).\n",
    " - `theta`: sign qubit.\n",
    " - `pqrs`: the register to store the spatial orbital index.\n",
    " - `alpha`: spin for (pq) indicies.\n",
    " - `beta`: spin for (rs) indicies. \n",
    "\n",
    "Refererences:\n",
    "    [Even More Efficient Quantum Computations of Chemistry Through Tensor\n",
    "        hypercontraction](https://arxiv.org/abs/2011.03494) Fig 13."
   ]
  },
  {
   "cell_type": "code",
   "execution_count": null,
   "id": "8031a99d",
   "metadata": {
    "cq.autogen": "_make_sparse_select.py"
   },
   "outputs": [],
   "source": [
    "from qualtran.bloqs.chemistry.sparse import SelectSparse\n",
    "\n",
    "bloq = SelectSparse(10)\n",
    "show_bloq(bloq)"
   ]
  },
  {
   "cell_type": "markdown",
   "id": "48cbeadd",
   "metadata": {
    "cq.autogen": "_make_sparse_prepare.md"
   },
   "source": [
    "## `PrepareSparse`\n",
    "Prepare oracle for the sparse chemistry Hamiltonian\n",
    "\n",
    "Prepare the state in A11 of the reference.\n",
    "\n",
    "#### Parameters\n",
    " - `num_spin_orb`: The number of spin orbitals.\n",
    " - `num_non_zero`: The number of non-zero matrix elements.\n",
    " - `num_bits_state_prep`: the number of bits of precision for state preparation. This will control the size of the keep register.\n",
    " - `num_bits_rot_aa`: The number of bits of precision for the single-qubit rotation for amplitude amplification during the uniform state preparataion. Default 8.\n",
    " - `adjoint`: Whether we are apply PREPARE or PREPARE^dag\n",
    " - `k`: qroam blocking factor. \n",
    "\n",
    "#### Registers\n",
    " - `pqrs`: the register to store the spatial orbital index.\n",
    " - `theta`: sign qubit.\n",
    " - `alpha`: spin for (pq) indicies.\n",
    " - `beta`: spin for (rs) indicies.\n",
    " - `swap_pq`: a |+> state to restore the symmetries of the p and q indices.\n",
    " - `swap_rs`: a |+> state to restore the symmetries of the r and s indices.\n",
    " - `swap_pqrs`: a |+> state to restore the symmetries of between (pq) and (rs).\n",
    " - `flag_1b`: a single qubit to flag whether the one-body Hamiltonian is to be applied or not during SELECT. \n",
    "\n",
    "Refererences:\n",
    "    [Even More Efficient Quantum Computations of Chemistry Through Tensor\n",
    "        hypercontraction](https://arxiv.org/abs/2011.03494) Eq. A11."
   ]
  },
  {
   "cell_type": "code",
   "execution_count": null,
   "id": "1d23a2ac",
   "metadata": {
    "cq.autogen": "_make_sparse_prepare.py"
   },
   "outputs": [],
   "source": [
    "from qualtran.bloqs.chemistry.sparse import PrepareSparse\n",
    "\n",
    "bloq = PrepareSparse(10, 1_000, 8)\n",
    "show_bloq(bloq)"
   ]
  }
 ],
 "metadata": {
  "kernelspec": {
   "display_name": "Python 3",
   "language": "python",
   "name": "python3"
  },
  "language_info": {
   "codemirror_mode": {
    "name": "ipython",
    "version": 3
   },
   "file_extension": ".py",
   "mimetype": "text/x-python",
   "name": "python",
   "nbconvert_exporter": "python",
   "pygments_lexer": "ipython3",
   "version": "3.11.5"
  }
 },
 "nbformat": 4,
 "nbformat_minor": 5
}
