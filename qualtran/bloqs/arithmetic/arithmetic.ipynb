{
 "cells": [
  {
   "cell_type": "markdown",
   "id": "bd6ce2e3",
   "metadata": {
    "cq.autogen": "title_cell"
   },
   "source": [
    "# Arithmetic"
   ]
  },
  {
   "cell_type": "code",
   "execution_count": 2,
   "id": "8133a7f0",
   "metadata": {
    "cq.autogen": "top_imports"
   },
   "outputs": [],
   "source": [
    "from qualtran import Bloq, CompositeBloq, BloqBuilder, Signature, Register\n",
    "from qualtran.drawing import show_bloq\n",
    "from typing import *\n",
    "import numpy as np"
   ]
  },
  {
   "cell_type": "markdown",
   "id": "ae9dfdf0",
   "metadata": {
    "cq.autogen": "_make_add.md"
   },
   "source": [
    "## `Add`\n",
    "An n-bit addition gate.\n",
    "\n",
    "Implements $U|a\\rangle|b\\rangle \\rightarrow |a\\rangle|a+b\\rangle$ using $4n - 4 T$ gates.\n",
    "\n",
    "#### Parameters\n",
    " - `bitsize`: Number of bits used to represent each integer. Must be large enough to hold the result in the output register of a + b, or else it simply drops the most significant bits. \n",
    "\n",
    "#### Registers\n",
    " - `a`: A bitsize-sized input register (register a above).\n",
    " - `b`: A bitsize-sized input/output register (register b above). \n",
    "\n",
    "#### References\n",
    "[Halving the cost of quantum addition](https://arxiv.org/abs/1709.06648)\n"
   ]
  },
  {
   "cell_type": "code",
   "execution_count": 2,
   "id": "543903f4",
   "metadata": {
    "cq.autogen": "_make_add.py"
   },
   "outputs": [],
   "source": [
    "from qualtran.bloqs.arithmetic import Add\n",
    "\n",
    "bloq = Add(bitsize=4)\n",
    "show_bloq(bloq)"
   ]
  },
  {
   "cell_type": "markdown",
   "id": "dd75387c",
   "metadata": {
    "cq.autogen": "_make_product.md"
   },
   "source": [
    "## `Product`\n",
    "Compute the product of an `n` and `m` bit binary number.\n",
    "\n",
    "Implements $U|a\\rangle|b\\rangle|0\\rangle -\\rightarrow\n",
    "|a\\rangle|b\\rangle|a\\times b\\rangle$ using $2nm-n$ Toffolis.\n",
    "\n",
    "#### Parameters\n",
    " - `a_bitsize`: Number of bits used to represent the first integer.\n",
    " - `b_bitsize`: Number of bits used to represent the second integer. \n",
    "\n",
    "#### Registers\n",
    " - `a`: a_bitsize-sized input register.\n",
    " - `b`: b_bitsize-sized input register.\n",
    " - `result`: A 2*max(a_bitsize, b_bitsize) bit-sized output register to store the result a*b. \n",
    "\n",
    "#### References\n",
    "[Fault-Tolerant Quantum Simulations of Chemistry in First Quantization](https://arxiv.org/abs/2105.12767) pg 81 gives a Toffoli complexity for multiplying two numbers.\n"
   ]
  },
  {
   "cell_type": "code",
   "execution_count": null,
   "id": "38185fa9",
   "metadata": {
    "cq.autogen": "_make_product.py"
   },
   "outputs": [],
   "source": [
    "from qualtran.bloqs.arithmetic import Product\n",
    "\n",
    "bloq = Product(a_bitsize=4, b_bitsize=6)\n",
    "show_bloq(bloq)"
   ]
  },
  {
   "cell_type": "markdown",
   "id": "4bdb27f5",
   "metadata": {
    "cq.autogen": "_make_square.md"
   },
   "source": [
    "## `Square`\n",
    "Square an n-bit binary number.\n",
    "\n",
    "Implements $U|a\\rangle|0\\rangle \\rightarrow |a\\rangle|a^2\\rangle$ using $n^2 - n$ Toffolis.\n",
    "\n",
    "#### Parameters\n",
    " - `bitsize`: Number of bits used to represent the integer to be squared. The result is stored in a register of size 2*bitsize. \n",
    "\n",
    "#### Registers\n",
    " - `a`: A bitsize-sized input register (register a above).\n",
    " - `result`: A 2-bitsize-sized input/output register. \n",
    "\n",
    "#### References\n",
    "[Fault-Tolerant Quantum Simulations of Chemistry in First Quantization](https://arxiv.org/abs/2105.12767). pg 76 for Toffoli complexity.\n"
   ]
  },
  {
   "cell_type": "code",
   "execution_count": null,
   "id": "49618c06",
   "metadata": {
    "cq.autogen": "_make_square.py"
   },
   "outputs": [],
   "source": [
    "from qualtran.bloqs.arithmetic import Square\n",
    "\n",
    "bloq = Square(bitsize=8)\n",
    "show_bloq(bloq)"
   ]
  },
  {
   "cell_type": "markdown",
   "id": "e9028de9",
   "metadata": {
    "cq.autogen": "_make_sum_of_squares.md"
   },
   "source": [
    "## `SumOfSquares`\n",
    "Compute the sum of squares of k n-bit binary numbers.\n",
    "\n",
    "Implements $U|a\\rangle|b\\rangle\\dots k\\rangle|0\\rangle \\rightarrow\n",
    "    |a\\rangle|b\\rangle\\dots|k\\rangle|a^2+b^2+\\dots k^2\\rangle$ using\n",
    "    $4 k n^2 T$ gates.\n",
    "\n",
    "The number of bits required by the output register is 2*bitsize + ceil(log2(k)).\n",
    "\n",
    "#### Parameters\n",
    " - `bitsize`: Number of bits used to represent each of the k integers.\n",
    " - `k`: The number of integers we want to square. \n",
    "\n",
    "#### Registers\n",
    " - `input`: k n-bit registers.\n",
    " - `result`: 2 * bitsize + ceil(log2(k)) sized output register. \n",
    "\n",
    "#### References\n",
    "[Fault-Tolerant Quantum Simulations of Chemistry in First Quantization](https://arxiv.org/abs/2105.12767) pg 80 give a Toffoli complexity for squaring.\n"
   ]
  },
  {
   "cell_type": "code",
   "execution_count": null,
   "id": "a5cf7d8b",
   "metadata": {
    "cq.autogen": "_make_sum_of_squares.py"
   },
   "outputs": [],
   "source": [
    "from qualtran.bloqs.arithmetic import SumOfSquares\n",
    "\n",
    "bloq = SumOfSquares(bitsize=8, k=4)\n",
    "show_bloq(bloq)"
   ]
  },
  {
   "cell_type": "markdown",
   "id": "190b0a0f",
   "metadata": {
    "cq.autogen": "_make_greater_than.md"
   },
   "source": [
    "## `GreaterThan`\n",
    "Compare two integers.\n",
    "\n",
    "Implements $U|a\\rangle|b\\rangle|0\\rangle \\rightarrow\n",
    "|a\\rangle|b\\rangle|b > a\\rangle$ using $4n$ T  gates.\n",
    "\n",
    "The bloq_counts and t_complexity are derived from equivalent qualtran gates\n",
    "assuming a clean decomposition which should yield identical costs.\n",
    "\n",
    "See: [Halving the cost of quantum addition](https://arxiv.org/abs/1709.06648) and\n",
    "    [Improved quantum circuits for elliptic curve discrete logarithms](https://arxiv.org/abs/2306.08585)\n",
    "\n",
    "#### Parameters\n",
    " - `bitsize`: Number of bits used to represent the two integers a and b.\n",
    " - `signed`: A boolean condition which controls whether the a and b registers are represented\n",
    "                in 2's Complement or Unsigned. This effects the decomposition of the comparison because\n",
    "                it relies on the 1's complement trick described above which only works for signed\n",
    "                values. If the input registers are unsigned we use 2 ancilla bits to represent the\n",
    "                registers in 2's complement.\n",
    "\n",
    "#### Registers\n",
    " - `a`: n-bit-sized input registers.\n",
    " - `b`: n-bit-sized input registers.\n",
    " - `target`: A single bit output register to store the result of B > A.\n"
   ]
  },
  {
   "cell_type": "code",
   "execution_count": 3,
   "id": "0ea3e1aa",
   "metadata": {
    "cq.autogen": "_make_greater_than.py"
   },
   "outputs": [
    {
     "data": {
      "image/svg+xml": [
       "<svg xmlns=\"http://www.w3.org/2000/svg\" xmlns:xlink=\"http://www.w3.org/1999/xlink\" width=\"227pt\" height=\"152pt\" viewBox=\"0.00 0.00 227.00 152.00\">\n",
       "<g id=\"graph0\" class=\"graph\" transform=\"scale(1 1) rotate(0) translate(4 148)\">\n",
       "<title>my_graph</title>\n",
       "<polygon fill=\"white\" stroke=\"transparent\" points=\"-4,4 -4,-148 223,-148 223,4 -4,4\"/>\n",
       "<!-- a_G7 -->\n",
       "<g id=\"node1\" class=\"node\">\n",
       "<title>a_G7</title>\n",
       "<text text-anchor=\"middle\" x=\"27\" y=\"-122.3\" font-family=\"Times,serif\" font-size=\"14.00\">a</text>\n",
       "</g>\n",
       "<!-- GreaterThan -->\n",
       "<g id=\"node4\" class=\"node\">\n",
       "<title>GreaterThan</title>\n",
       "<polygon fill=\"none\" stroke=\"black\" points=\"91.5,-104 91.5,-121 128.5,-121 128.5,-104 91.5,-104\"/>\n",
       "<text text-anchor=\"start\" x=\"102\" y=\"-110\" font-family=\"Times,serif\" font-size=\"10.00\">b&gt;a</text>\n",
       "<polygon fill=\"none\" stroke=\"black\" points=\"91.5,-83 91.5,-104 128.5,-104 128.5,-83 91.5,-83\"/>\n",
       "<text text-anchor=\"start\" x=\"106.5\" y=\"-89.8\" font-family=\"Times,serif\" font-size=\"14.00\">a</text>\n",
       "<polygon fill=\"none\" stroke=\"black\" points=\"91.5,-62 91.5,-83 128.5,-83 128.5,-62 91.5,-62\"/>\n",
       "<text text-anchor=\"start\" x=\"106.5\" y=\"-68.8\" font-family=\"Times,serif\" font-size=\"14.00\">b</text>\n",
       "<polygon fill=\"none\" stroke=\"black\" points=\"91.5,-41 91.5,-62 128.5,-62 128.5,-41 91.5,-41\"/>\n",
       "<text text-anchor=\"start\" x=\"94.5\" y=\"-47.8\" font-family=\"Times,serif\" font-size=\"14.00\">target</text>\n",
       "</g>\n",
       "<!-- a_G7&#45;&gt;GreaterThan -->\n",
       "<g id=\"edge1\" class=\"edge\">\n",
       "<title>a_G7:e-&gt;GreaterThan:w</title>\n",
       "<path fill=\"none\" stroke=\"black\" d=\"M54,-126C74.89,-126 69.72,-96.45 88.58,-94.14\"/>\n",
       "<ellipse fill=\"black\" stroke=\"black\" cx=\"90\" cy=\"-94.06\" rx=\"1\" ry=\"1\"/>\n",
       "<text text-anchor=\"middle\" x=\"72.5\" y=\"-113\" font-family=\"Times,serif\" font-size=\"10.00\">4</text>\n",
       "</g>\n",
       "<!-- b_G1 -->\n",
       "<g id=\"node2\" class=\"node\">\n",
       "<title>b_G1</title>\n",
       "<text text-anchor=\"middle\" x=\"27\" y=\"-68.3\" font-family=\"Times,serif\" font-size=\"14.00\">b</text>\n",
       "</g>\n",
       "<!-- b_G1&#45;&gt;GreaterThan -->\n",
       "<g id=\"edge2\" class=\"edge\">\n",
       "<title>b_G1:e-&gt;GreaterThan:w</title>\n",
       "<path fill=\"none\" stroke=\"black\" d=\"M54,-72C69.67,-72 74.14,-72 88.77,-72\"/>\n",
       "<ellipse fill=\"black\" stroke=\"black\" cx=\"90\" cy=\"-72\" rx=\"1\" ry=\"1\"/>\n",
       "<text text-anchor=\"middle\" x=\"72.5\" y=\"-75\" font-family=\"Times,serif\" font-size=\"10.00\">4</text>\n",
       "</g>\n",
       "<!-- target_G6 -->\n",
       "<g id=\"node3\" class=\"node\">\n",
       "<title>target_G6</title>\n",
       "<text text-anchor=\"middle\" x=\"27\" y=\"-14.3\" font-family=\"Times,serif\" font-size=\"14.00\">target</text>\n",
       "</g>\n",
       "<!-- target_G6&#45;&gt;GreaterThan -->\n",
       "<g id=\"edge3\" class=\"edge\">\n",
       "<title>target_G6:e-&gt;GreaterThan:w</title>\n",
       "<path fill=\"none\" stroke=\"black\" d=\"M54,-18C75.17,-18 69.47,-48.47 88.55,-50.85\"/>\n",
       "<ellipse fill=\"black\" stroke=\"black\" cx=\"90\" cy=\"-50.94\" rx=\"1\" ry=\"1\"/>\n",
       "<text text-anchor=\"middle\" x=\"72.5\" y=\"-39\" font-family=\"Times,serif\" font-size=\"10.00\">1</text>\n",
       "</g>\n",
       "<!-- a_G3 -->\n",
       "<g id=\"node5\" class=\"node\">\n",
       "<title>a_G3</title>\n",
       "<text text-anchor=\"middle\" x=\"192\" y=\"-122.3\" font-family=\"Times,serif\" font-size=\"14.00\">a</text>\n",
       "</g>\n",
       "<!-- GreaterThan&#45;&gt;a_G3 -->\n",
       "<g id=\"edge4\" class=\"edge\">\n",
       "<title>GreaterThan:e-&gt;a_G3:w</title>\n",
       "<path fill=\"none\" stroke=\"black\" d=\"M128,-94C148.89,-94 143.72,-123.55 162.58,-125.86\"/>\n",
       "<ellipse fill=\"black\" stroke=\"black\" cx=\"164\" cy=\"-125.94\" rx=\"1\" ry=\"1\"/>\n",
       "<text text-anchor=\"middle\" x=\"146.5\" y=\"-113\" font-family=\"Times,serif\" font-size=\"10.00\">4</text>\n",
       "</g>\n",
       "<!-- b_G5 -->\n",
       "<g id=\"node6\" class=\"node\">\n",
       "<title>b_G5</title>\n",
       "<text text-anchor=\"middle\" x=\"192\" y=\"-68.3\" font-family=\"Times,serif\" font-size=\"14.00\">b</text>\n",
       "</g>\n",
       "<!-- GreaterThan&#45;&gt;b_G5 -->\n",
       "<g id=\"edge5\" class=\"edge\">\n",
       "<title>GreaterThan:e-&gt;b_G5:w</title>\n",
       "<path fill=\"none\" stroke=\"black\" d=\"M128,-72C143.67,-72 148.14,-72 162.77,-72\"/>\n",
       "<ellipse fill=\"black\" stroke=\"black\" cx=\"164\" cy=\"-72\" rx=\"1\" ry=\"1\"/>\n",
       "<text text-anchor=\"middle\" x=\"146.5\" y=\"-75\" font-family=\"Times,serif\" font-size=\"10.00\">4</text>\n",
       "</g>\n",
       "<!-- target_G0 -->\n",
       "<g id=\"node7\" class=\"node\">\n",
       "<title>target_G0</title>\n",
       "<text text-anchor=\"middle\" x=\"192\" y=\"-14.3\" font-family=\"Times,serif\" font-size=\"14.00\">target</text>\n",
       "</g>\n",
       "<!-- GreaterThan&#45;&gt;target_G0 -->\n",
       "<g id=\"edge6\" class=\"edge\">\n",
       "<title>GreaterThan:e-&gt;target_G0:w</title>\n",
       "<path fill=\"none\" stroke=\"black\" d=\"M128,-51C149.17,-51 143.47,-20.53 162.55,-18.15\"/>\n",
       "<ellipse fill=\"black\" stroke=\"black\" cx=\"164\" cy=\"-18.06\" rx=\"1\" ry=\"1\"/>\n",
       "<text text-anchor=\"middle\" x=\"146.5\" y=\"-39\" font-family=\"Times,serif\" font-size=\"10.00\">1</text>\n",
       "</g>\n",
       "</g>\n",
       "</svg>"
      ],
      "text/plain": [
       "<IPython.core.display.SVG object>"
      ]
     },
     "metadata": {},
     "output_type": "display_data"
    }
   ],
   "source": [
    "from qualtran.bloqs.arithmetic import GreaterThan\n",
    "\n",
    "bloq = GreaterThan(bitsize=4, signed=True)\n",
    "show_bloq(bloq)"
   ]
  },
  {
   "cell_type": "markdown",
   "id": "895d5f80",
   "metadata": {
    "cq.autogen": "_make_greater_than_constant.md"
   },
   "source": [
    "## `GreaterThanConstant`\n",
    "Implements $U_a|x\\rangle = U_a|x\\rangle|z\\rangle = |x\\rangle |z \\land (x > a)\\rangle$\n",
    "\n",
    "The bloq_counts and t_complexity are derived from equivalent qualtran gates\n",
    "assuming a clean decomposition which should yield identical costs.\n",
    "\n",
    "See: https://github.com/quantumlib/Qualtran/pull/381 and\n",
    "https://qualtran.readthedocs.io/en/latest/bloqs/comparison_gates.html\n",
    "\n",
    "\n",
    "#### Parameters\n",
    " - `bitsize`: bitsize of x register.\n",
    " - `val`: integer to compare x against (a above.) \n",
    "\n",
    "#### Registers\n",
    " - `x`: Register to compare against val.\n",
    " - `target`: Register to hold result of comparison.\n"
   ]
  },
  {
   "cell_type": "code",
   "execution_count": null,
   "id": "066a16fe",
   "metadata": {
    "cq.autogen": "_make_greater_than_constant.py"
   },
   "outputs": [],
   "source": [
    "from qualtran.bloqs.arithmetic import GreaterThanConstant\n",
    "\n",
    "bloq = GreaterThanConstant(bitsize=4, val=13)\n",
    "show_bloq(bloq)"
   ]
  },
  {
   "cell_type": "markdown",
   "id": "0158ca13",
   "metadata": {
    "cq.autogen": "_make_equals_a_constant.md"
   },
   "source": [
    "## `EqualsAConstant`\n",
    "Implements $U_a|x\\rangle = U_a|x\\rangle|z\\rangle = |x\\rangle |z \\land (x = a)\\rangle$\n",
    "\n",
    "The bloq_counts and t_complexity are derived from:\n",
    "https://qualtran.readthedocs.io/en/latest/bloqs/comparison_gates.html#equality-as-a-special-case\n",
    "\n",
    "#### Parameters\n",
    " - `bitsize`: bitsize of x register.\n",
    " - `val`: integer to compare x against (a above.) \n",
    "\n",
    "#### Registers\n",
    " - `x`: Register to compare against val.\n",
    " - `target`: Register to hold result of comparison.\n"
   ]
  },
  {
   "cell_type": "code",
   "execution_count": null,
   "id": "aa8d3095",
   "metadata": {
    "cq.autogen": "_make_equals_a_constant.py"
   },
   "outputs": [],
   "source": [
    "from qualtran.bloqs.arithmetic import EqualsAConstant\n",
    "\n",
    "bloq = EqualsAConstant(bitsize=4, val=13)\n",
    "show_bloq(bloq)"
   ]
  },
  {
   "cell_type": "markdown",
   "id": "ced59882",
   "metadata": {
    "cq.autogen": "_make_to_contiguous_index.md"
   },
   "source": [
    "## `ToContiguousIndex`\n",
    "Build a contiguous register s from mu and nu.\n",
    "\n",
    "$$\n",
    "    s = \\nu (\\nu + 1) / 2 + \\mu\n",
    "$$\n",
    "\n",
    "Assuming nu is zero indexed (in contrast to the THC paper which assumes 1,\n",
    "hence the slightly different formula).\n",
    "\n",
    "#### Parameters\n",
    " - `bitsize`: number of bits for mu and nu registers.\n",
    " - `s_bitsize`: Number of bits for contiguous register. \n",
    "\n",
    "#### Registers\n",
    " - `mu`: input register\n",
    " - `nu`: input register\n",
    " - `s`: output contiguous register \n",
    "\n",
    "#### References\n",
    "(Even more efficient quantum computations of chemistry through tensor hypercontraction)[https://arxiv.org/pdf/2011.03494.pdf] Eq. 29.\n"
   ]
  },
  {
   "cell_type": "code",
   "execution_count": null,
   "id": "b0581d0a",
   "metadata": {
    "cq.autogen": "_make_to_contiguous_index.py"
   },
   "outputs": [],
   "source": [
    "from qualtran.bloqs.arithmetic import ToContiguousIndex\n",
    "\n",
    "bloq = ToContiguousIndex(bitsize=4, s_bitsize=8)\n",
    "show_bloq(bloq)"
   ]
  },
  {
   "cell_type": "markdown",
   "id": "12a1747d",
   "metadata": {
    "cq.autogen": "_make_scale_int_by_real.md"
   },
   "source": [
    "## `ScaleIntByReal`\n",
    "Scale an integer by fixed-point representation of a real number.\n",
    "\n",
    "i.e.\n",
    "\n",
    "$$\n",
    "    |r\\rangle|i\\rangle|0\\rangle \\rightarrow |r\\rangle|i\\rangle|r \\times i\\rangle\n",
    "$$\n",
    "\n",
    "The real number is assumed to be in the range [0, 1).\n",
    "\n",
    "#### Parameters\n",
    " - `r_bitsize`: Number of bits used to represent the real number.\n",
    " - `i_bitsize`: Number of bits used to represent the integer. \n",
    "\n",
    "#### Registers\n",
    " - `- real_in`: r_bitsize-sized input register.\n",
    " - `- int_in`: i_bitsize-sized input register.\n",
    " - `- result`: r_bitsize output register \n",
    "\n",
    "#### References\n",
    "[Compilation of Fault-Tolerant Quantum Heuristics for Combinatorial Optimization] (https://arxiv.org/pdf/2007.07391.pdf) pg 70.\n"
   ]
  },
  {
   "cell_type": "code",
   "execution_count": null,
   "id": "e82868fe",
   "metadata": {
    "cq.autogen": "_make_scale_int_by_real.py"
   },
   "outputs": [],
   "source": [
    "from qualtran.bloqs.arithmetic import ScaleIntByReal\n",
    "\n",
    "bloq = ScaleIntByReal(r_bitsize=8, i_bitsize=12)\n",
    "show_bloq(bloq)"
   ]
  },
  {
   "cell_type": "markdown",
   "id": "20c439a4",
   "metadata": {
    "cq.autogen": "_make_multiply_two_reals.md"
   },
   "source": [
    "## `MultiplyTwoReals`\n",
    "Multiply two fixed-point representations of real numbers\n",
    "\n",
    "i.e.\n",
    "\n",
    "$$\n",
    "    |a\\rangle|b\\rangle|0\\rangle \\rightarrow |a\\rangle|b\\rangle|a \\times b\\rangle\n",
    "$$\n",
    "\n",
    "The real numbers are assumed to be in the range [0, 1).\n",
    "\n",
    "#### Parameters\n",
    " - `bitsize`: Number of bits used to represent the real number. \n",
    "\n",
    "#### Registers\n",
    " - `- a`: bitsize-sized input register.\n",
    " - `- b`: bitsize-sized input register.\n",
    " - `- result`: bitsize output register \n",
    "\n",
    "#### References\n",
    "[Compilation of Fault-Tolerant Quantum Heuristics for Combinatorial Optimization] (https://arxiv.org/pdf/2007.07391.pdf) pg 71.\n"
   ]
  },
  {
   "cell_type": "code",
   "execution_count": null,
   "id": "6d1dffcc",
   "metadata": {
    "cq.autogen": "_make_multiply_two_reals.py"
   },
   "outputs": [],
   "source": [
    "from qualtran.bloqs.arithmetic import MultiplyTwoReals\n",
    "\n",
    "bloq = MultiplyTwoReals(bitsize=10)\n",
    "show_bloq(bloq)"
   ]
  },
  {
   "cell_type": "markdown",
   "id": "c1e1cf01",
   "metadata": {
    "cq.autogen": "_make_square_real_number.md"
   },
   "source": [
    "## `SquareRealNumber`\n",
    "Square a fixed-point representation of a real number\n",
    "\n",
    "i.e.\n",
    "\n",
    "$$\n",
    "    |a\\rangle|0\\rangle \\rightarrow |a\\rangle|a^2\\rangle\n",
    "$$\n",
    "\n",
    "The real numbers are assumed to be in the range [0, 1).\n",
    "\n",
    "#### Parameters\n",
    " - `bitsize`: Number of bits used to represent the real number. \n",
    "\n",
    "#### Registers\n",
    " - `- a`: bitsize-sized input register.\n",
    " - `- b`: bitsize-sized input register.\n",
    " - `- result`: bitsize output register \n",
    "\n",
    "#### References\n",
    "[Compilation of Fault-Tolerant Quantum Heuristics for Combinatorial Optimization ](https://arxiv.org/pdf/2007.07391.pdf) pg 74.\n"
   ]
  },
  {
   "cell_type": "code",
   "execution_count": null,
   "id": "12b00bbd",
   "metadata": {
    "cq.autogen": "_make_square_real_number.py"
   },
   "outputs": [],
   "source": [
    "from qualtran.bloqs.arithmetic import SquareRealNumber\n",
    "\n",
    "bloq = SquareRealNumber(bitsize=10)\n",
    "show_bloq(bloq)"
   ]
  },
  {
   "cell_type": "markdown",
   "id": "a780e389",
   "metadata": {
    "cq.autogen": "_make_signed_to_twos_complement.md"
   },
   "source": [
    "## `SignedIntegerToTwosComplement`\n",
    "Convert a register storing the signed integer representation to two's complement inplace.\n",
    "\n",
    "#### Parameters\n",
    " - `bitsize`: size of the register. \n",
    "\n",
    "Regs:\n",
    "    x: input signed integer register to convert to two-complement.\n",
    "\n",
    "#### References\n",
    "[Fault-Tolerant Quantum Simulations of Chemistry in First Quantization]( https://arxiv.org/abs/2105.12767) page 24, 4th paragraph from the bottom.\n"
   ]
  },
  {
   "cell_type": "code",
   "execution_count": null,
   "id": "d212d54a",
   "metadata": {
    "cq.autogen": "_make_signed_to_twos_complement.py"
   },
   "outputs": [],
   "source": [
    "from qualtran.bloqs.arithmetic import SignedIntegerToTwosComplement\n",
    "\n",
    "bloq = SignedIntegerToTwosComplement(bitsize=10)\n",
    "show_bloq(bloq)"
   ]
  }
 ],
 "metadata": {
  "kernelspec": {
   "display_name": "Python 3",
   "language": "python",
   "name": "python3"
  },
  "language_info": {
   "codemirror_mode": {
    "name": "ipython",
    "version": 3
   },
   "file_extension": ".py",
   "mimetype": "text/x-python",
   "name": "python",
   "nbconvert_exporter": "python",
   "pygments_lexer": "ipython3",
   "version": "3.10.13"
  }
 },
 "nbformat": 4,
 "nbformat_minor": 5
}
