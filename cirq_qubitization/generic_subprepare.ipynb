{
 "cells": [
  {
   "cell_type": "markdown",
   "id": "478971d2",
   "metadata": {
    "cq.autogen": "title_cell"
   },
   "source": [
    "# Subprepare\n",
    "\n",
    "Gates for preparing coefficient states.\n",
    "\n",
    "In section III.D. of the [Linear T paper](https://arxiv.org/abs/1805.03662) the authors introduce\n",
    "a technique for initializing a state with $L$ unique coefficients (provided by a classical\n",
    "database) with a number of T gates scaling as 4L + O(log(1/eps)) where eps is the\n",
    "largest absolute error that one can tolerate in the prepared amplitudes."
   ]
  },
  {
   "cell_type": "code",
   "execution_count": null,
   "id": "a8cd5e7d",
   "metadata": {
    "cq.autogen": "top_imports"
   },
   "outputs": [],
   "source": [
    "import cirq\n",
    "import numpy as np\n",
    "import cirq_qubitization\n",
    "import cirq_qubitization.testing as cq_testing\n",
    "from cirq_qubitization.jupyter_tools import display_gate_and_compilation\n",
    "from typing import *"
   ]
  },
  {
   "cell_type": "markdown",
   "id": "f2b68385",
   "metadata": {
    "cq.autogen": "_make_GenericSubPrepare.md"
   },
   "source": [
    "## `GenericSubPrepare`\n",
    "Initialize a state with $L$ unique coefficients.\n",
    "\n",
    "In particular, we take the zero state to:\n",
    "\n",
    "$$\n",
    "\\sum_{\\ell=0}^{L-1} \\sqrt{p_\\ell} |\\ell\\rangle |\\mathrm{temp}_\\ell\\rangle\n",
    "$$\n",
    "\n",
    "where the probabilities $p_\\ell$ are $\\mu$-bit binary approximations to the true values and\n",
    "where the temporary register must be treated with care, see the details in Section III.D. of\n",
    "the reference.\n",
    "\n",
    "The preparation is equivalent to [classical alias sampling](https://en.wikipedia.org/wiki/Alias_method):\n",
    "we sample `l` with probability `p[l]` by first selecting `l` uniformly at random and then\n",
    "returning it with probability `keep[l] / 2**mu`; otherwise returning `alt[l]`.\n",
    "\n",
    "Registers:\n",
    "    selection: The input/output register $|\\ell\\rangle$ of size lg(L) where the desired\n",
    "        coefficient state is prepared.\n",
    "    temp: Work space comprised of sub registers:\n",
    "        - sigma: A mu-sized register containing uniform probabilities for comparison against\n",
    "            `keep`.\n",
    "        - alt: A lg(L)-sized register of alternate indices\n",
    "        - keep: a mu-sized register of probabilities of keeping the initially sampled index.\n",
    "        - one bit for the result of the comparison.\n",
    "    selection_ancilla: Ancilla space for QROM loading.\n",
    "\n",
    "This gate corresponds to the following operations:\n",
    " - UNIFORM_L on the selection register\n",
    " - H^mu on the sigma register\n",
    " - QROM addressed by the selection register into the alt and keep registers.\n",
    " - LessThanEqualGate comparing the keep and sigma registers.\n",
    " - Coherent swap between the selection register and alt register if the comparison\n",
    "   returns True.\n",
    "\n",
    "Total space will be (2 * log(L) + 2 mu + 1) work qubits + log(L) ancillas for QROM.\n",
    "The 1 ancilla in work qubits is for the `LessThanEqualGate` followed by coherent swap.\n",
    "\n",
    "#### Parameters\n",
    " - `lcu_probabilities`: The LCU coefficients.\n",
    " - `probability_epsilon`: The desired accuracy to represent each probability (which sets mu size and keep/alt integers). See `openfermion.circuits.lcu_util.preprocess_lcu_coefficients_for_reversible_sampling` for more information. \n",
    "\n",
    "#### References\n",
    "[Encoding Electronic Spectra in Quantum Circuits with Linear T Complexity](https://arxiv.org/abs/1805.03662). Babbush et. al. (2018). Section III.D. and Figure 11.\n"
   ]
  },
  {
   "cell_type": "code",
   "execution_count": null,
   "id": "fc3fb4c1",
   "metadata": {
    "cq.autogen": "_make_GenericSubPrepare.py"
   },
   "outputs": [],
   "source": [
    "from cirq_qubitization.generic_subprepare import GenericSubPrepare\n",
    "\n",
    "coeffs = np.array([1.0, 1, 3, 2])\n",
    "mu = 3\n",
    "\n",
    "g = cq_testing.GateHelper(\n",
    "    GenericSubPrepare(coeffs, probability_epsilon=2**-mu / len(coeffs))\n",
    ")\n",
    "\n",
    "display_gate_and_compilation(g)"
   ]
  },
  {
   "cell_type": "code",
   "execution_count": null,
   "id": "b5563c73",
   "metadata": {},
   "outputs": [],
   "source": [
    "# The \"alt\" indices are log(L) bits like the \"selection\" and \"alt\" registers.\n",
    "g.gate.alternates_bitsize"
   ]
  },
  {
   "cell_type": "code",
   "execution_count": null,
   "id": "e6cba58a",
   "metadata": {},
   "outputs": [],
   "source": [
    "# The \"keep\" probabilities are mu bits like the \"keep\" and \"sigma\" registers.\n",
    "g.gate.keep_bitsize"
   ]
  }
 ],
 "metadata": {
  "kernelspec": {
   "display_name": "Python 3 (ipykernel)",
   "language": "python",
   "name": "python3"
  },
  "language_info": {
   "codemirror_mode": {
    "name": "ipython",
    "version": 3
   },
   "file_extension": ".py",
   "mimetype": "text/x-python",
   "name": "python",
   "nbconvert_exporter": "python",
   "pygments_lexer": "ipython3",
   "version": "3.10.6"
  }
 },
 "nbformat": 4,
 "nbformat_minor": 5
}
