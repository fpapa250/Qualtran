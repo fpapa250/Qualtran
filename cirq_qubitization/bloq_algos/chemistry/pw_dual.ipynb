{
 "cells": [
  {
   "cell_type": "markdown",
   "id": "563277de",
   "metadata": {
    "cq.autogen": "title_cell"
   },
   "source": [
    "# PW Dual Hamiltonian"
   ]
  },
  {
   "cell_type": "code",
   "execution_count": null,
   "id": "b0c08018",
   "metadata": {
    "cq.autogen": "top_imports"
   },
   "outputs": [],
   "source": [
    "import cirq\n",
    "import numpy as np\n",
    "import cirq_qubitization\n",
    "import cirq_qubitization.cirq_infra.testing as cq_testing\n",
    "from cirq_qubitization.jupyter_tools import display_gate_and_compilation, show_bloq\n",
    "from typing import *"
   ]
  },
  {
   "cell_type": "markdown",
   "id": "6b47eba0",
   "metadata": {
    "cq.autogen": "_make_select.md"
   },
   "source": [
    "## `SelectChem`\n",
    "#### Parameters\n",
    " - `cv1`: Whether the first bit is a positive control.\n",
    " - `cv2`: Whether the second bit is a positive control. \n",
    "\n",
    "Registers:\n",
    "\n",
    "References:"
   ]
  },
  {
   "cell_type": "code",
   "execution_count": null,
   "id": "aa96663d",
   "metadata": {
    "cq.autogen": "_make_select.py"
   },
   "outputs": [],
   "source": [
    "from cirq_qubitization.bloq_algos.chemistry.pw_dual import SelectChem\n",
    "\n",
    "M = 8\n",
    "bloq = SelectChem(8)\n",
    "show_bloq(bloq)"
   ]
  },
  {
   "cell_type": "markdown",
   "id": "e5e9de8f",
   "metadata": {
    "cq.autogen": "_make_prepare.md"
   },
   "source": [
    "## `PrepareChem`\n",
    "#### Parameters\n",
    " - `cv1`: Whether the first bit is a positive control.\n",
    " - `cv2`: Whether the second bit is a positive control. \n",
    "\n",
    "Registers:\n",
    " - p: A two-bit control register.\n",
    " - (right) target: The output bit.\n",
    "\n",
    "#### References\n",
    "(Encoding Electronic Spectra in Quantum Circuits with Linear T Complexity)[https://arxiv.org/abs/1805.03662]. Babbush et. al. 2018. Section III.A. and Fig. 4. (Verifying Measurement Based Uncomputation)[https://algassert.com/post/1903]. Gidney, C. 2019.\n"
   ]
  },
  {
   "cell_type": "code",
   "execution_count": null,
   "id": "4f3ac73b",
   "metadata": {
    "cq.autogen": "_make_prepare.py"
   },
   "outputs": [],
   "source": [
    "from cirq_qubitization.bloq_algos.chemistry.pw_dual import PrepareChem\n",
    "\n",
    "M = 8\n",
    "bloq = PrepareChem(M)\n",
    "show_bloq(bloq)"
   ]
  },
  {
   "cell_type": "markdown",
   "id": "4320ff93",
   "metadata": {
    "cq.autogen": "_make_unary_iteration.md"
   },
   "source": [
    "## `UnaryIteration`\n",
    "Placeholder for unary iteration bloq\n",
    "#### References\n",
    "(Encoding Electronic Spectra in Quantum Circuits with Linear T Complexity)[https://arxiv.org/abs/1805.03662]. Babbush et. al. 2018. Section III.A. and Fig. 4.\n"
   ]
  },
  {
   "cell_type": "code",
   "execution_count": null,
   "id": "f6223018",
   "metadata": {
    "cq.autogen": "_make_unary_iteration.py"
   },
   "outputs": [],
   "source": [
    "from cirq_qubitization.bloq_algos.chemistry.pw_dual import UnaryIteration\n",
    "\n",
    "shape = (2, 3, 5)\n",
    "bloq = UnaryIteration(shape)\n",
    "show_bloq(bloq)"
   ]
  },
  {
   "cell_type": "markdown",
   "id": "f0bbab55",
   "metadata": {
    "cq.autogen": "_make_selected_majorana.md"
   },
   "source": [
    "## `SelectedMajoranaFermion`"
   ]
  },
  {
   "cell_type": "code",
   "execution_count": null,
   "id": "e21c415a",
   "metadata": {
    "cq.autogen": "_make_selected_majorana.py"
   },
   "outputs": [],
   "source": [
    "import numpy as np\n",
    "\n",
    "from cirq_qubitization.bloq_algos.basic_gates import XGate\n",
    "from cirq_qubitization.bloq_algos.chemistry.pw_dual import SelectedMajoranaFermion\n",
    "\n",
    "selection_desc = ((\"p\", (3, 3, 3)), (\"alpha\", (2,)))\n",
    "bloq = SelectedMajoranaFermion(selection_desc, XGate())\n",
    "show_bloq(bloq)"
   ]
  },
  {
   "cell_type": "code",
   "execution_count": null,
   "id": "e77fb74d",
   "metadata": {},
   "outputs": [],
   "source": []
  }
 ],
 "metadata": {
  "kernelspec": {
   "display_name": "Python 3",
   "language": "python",
   "name": "python3"
  },
  "language_info": {
   "codemirror_mode": {
    "name": "ipython",
    "version": 3
   },
   "file_extension": ".py",
   "mimetype": "text/x-python",
   "name": "python",
   "nbconvert_exporter": "python",
   "pygments_lexer": "ipython3",
   "version": "3.10.0"
  }
 },
 "nbformat": 4,
 "nbformat_minor": 5
}
