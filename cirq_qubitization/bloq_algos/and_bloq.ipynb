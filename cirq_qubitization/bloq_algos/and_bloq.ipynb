{
 "cells": [
  {
   "cell_type": "markdown",
   "id": "0fe14f49",
   "metadata": {
    "cq.autogen": "title_cell"
   },
   "source": [
    "# And"
   ]
  },
  {
   "cell_type": "code",
   "execution_count": null,
   "id": "47e0d2c9",
   "metadata": {
    "cq.autogen": "top_imports"
   },
   "outputs": [],
   "source": [
    "import cirq\n",
    "import numpy as np\n",
    "import cirq_qubitization\n",
    "import cirq_qubitization.cirq_infra.testing as cq_testing\n",
    "from cirq_qubitization.jupyter_tools import display_gate_and_compilation, show_bloq\n",
    "from typing import *"
   ]
  },
  {
   "cell_type": "markdown",
   "id": "dd63e8be",
   "metadata": {
    "cq.autogen": "_make_and.md"
   },
   "source": [
    "## `And`\n",
    "A two-bit and operation.\n",
    "\n",
    "#### Parameters\n",
    " - `cv1`: Whether the first bit is a positive control.\n",
    " - `cv2`: Whether the second bit is a positive control. \n",
    "\n",
    "Registers:\n",
    " - control: A two-bit control register.\n",
    " - (right) target: The output bit."
   ]
  },
  {
   "cell_type": "code",
   "execution_count": null,
   "id": "4c4ec376",
   "metadata": {
    "cq.autogen": "_make_and.py"
   },
   "outputs": [],
   "source": [
    "from cirq_qubitization.bloq_algos.and_bloq import And\n",
    "\n",
    "bloq = And()\n",
    "show_bloq(bloq)"
   ]
  },
  {
   "cell_type": "markdown",
   "id": "9f0b6b69",
   "metadata": {},
   "source": [
    "### Test `adjoint`"
   ]
  },
  {
   "cell_type": "code",
   "execution_count": null,
   "id": "3750053b",
   "metadata": {},
   "outputs": [],
   "source": [
    "from cirq_qubitization.quantum_graph.composite_bloq import CompositeBloqBuilder, FancyRegisters\n",
    "\n",
    "bb = CompositeBloqBuilder()\n",
    "q0 = bb.add_register('q0', 1)\n",
    "q1 = bb.add_register('q1', 1)\n",
    "qs, trg = bb.add(And(), ctrl=[q0, q1])\n",
    "(qs,) = bb.add(And(adjoint=True), ctrl=qs, target=trg)\n",
    "cbloq = bb.finalize(q0=qs[0], q1=qs[1])\n",
    "\n",
    "show_bloq(cbloq)"
   ]
  },
  {
   "cell_type": "code",
   "execution_count": null,
   "id": "a65ce1f3",
   "metadata": {},
   "outputs": [],
   "source": [
    "import numpy as np\n",
    "\n",
    "mat = cbloq.tensor_contract()\n",
    "np.testing.assert_allclose(np.eye(4), mat)\n",
    "mat"
   ]
  }
 ],
 "metadata": {
  "kernelspec": {
   "display_name": "Python 3 (ipykernel)",
   "language": "python",
   "name": "python3"
  },
  "language_info": {
   "codemirror_mode": {
    "name": "ipython",
    "version": 3
   },
   "file_extension": ".py",
   "mimetype": "text/x-python",
   "name": "python",
   "nbconvert_exporter": "python",
   "pygments_lexer": "ipython3",
   "version": "3.10.9"
  }
 },
 "nbformat": 4,
 "nbformat_minor": 5
}
