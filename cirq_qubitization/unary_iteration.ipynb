{
 "cells": [
  {
   "cell_type": "markdown",
   "id": "49b5e1e6",
   "metadata": {},
   "source": [
    "# Unary Iteration"
   ]
  },
  {
   "cell_type": "markdown",
   "id": "fcdb39f2",
   "metadata": {},
   "source": [
    "Given an array of potential operations, for example:\n",
    "\n",
    "    ops = [X(i) for i in range(5)]\n",
    "    \n",
    "we would like to select an operation to apply:\n",
    "\n",
    "    n = 4 --> apply ops[4]\n",
    "    \n",
    "If $n$ is a quantum integer, we need to apply the transformation\n",
    "\n",
    "$$\n",
    "    |n \\rangle |\\psi\\rangle \\rightarrow |n\\rangle \\, \\mathrm{ops}_n \\cdot |\\psi\\rangle\n",
    "$$\n",
    "\n",
    "The simplest conceptual way to do this is to use a \"total control\" quantum circuit where you introduce a multi-controlled operation for each of the `len(ops)` possible `n` values."
   ]
  },
  {
   "cell_type": "code",
   "execution_count": 2,
   "id": "0148f529",
   "metadata": {},
   "outputs": [],
   "source": [
    "import cirq\n",
    "from cirq.contrib.svg import SVGCircuit\n",
    "import numpy as np\n",
    "from typing import *"
   ]
  },
  {
   "cell_type": "code",
   "execution_count": 3,
   "id": "32e90969",
   "metadata": {},
   "outputs": [],
   "source": [
    "import operator\n",
    "import functools\n",
    "import itertools"
   ]
  },
  {
   "cell_type": "markdown",
   "id": "a6d947da",
   "metadata": {},
   "source": [
    "## Total Control\n",
    "\n",
    "Here, we'll use Sympy's boolean logic to show how total control works. We perform an `And( ... )` for each possible bit pattern. We use an `Xnor` on each selection bit to toggle whether it's a positive or negative control (filled or open circle in quantum circuit diagrams).\n",
    "\n",
    "In this example, we indeed consider $X_n$ as our potential operations and toggle bits in the `target` register according to the total control."
   ]
  },
  {
   "cell_type": "code",
   "execution_count": 4,
   "id": "8e61bf03",
   "metadata": {
    "scrolled": false
   },
   "outputs": [
    {
     "name": "stdout",
     "output_type": "stream",
     "text": [
      "Selection is [0, 0, 0]\n",
      "Step 0, apply total control: (0, 0, 0)\n",
      "  -> At this stage, 0= and our output bit is set\n",
      "Step 1, apply total control: (0, 0, 1)\n",
      "Step 2, apply total control: (0, 1, 0)\n",
      "Step 3, apply total control: (0, 1, 1)\n",
      "Step 4, apply total control: (1, 0, 0)\n",
      "Step 5, apply total control: (1, 0, 1)\n",
      "Step 6, apply total control: (1, 1, 0)\n",
      "Step 7, apply total control: (1, 1, 1)\n",
      "\n",
      "Target:\n",
      "[True, False, False, False, False, False, False, False]\n"
     ]
    }
   ],
   "source": [
    "import sympy as S\n",
    "import sympy.logic.boolalg as slb\n",
    "\n",
    "def total_control(selection, target):\n",
    "    \"\"\"Toggle bits in `target` depending on `selection`.\"\"\"\n",
    "    print(f\"Selection is {selection}\")\n",
    "    \n",
    "    for n, trial in enumerate(itertools.product((0, 1), repeat=len(selection))):\n",
    "        print(f\"Step {n}, apply total control: {trial}\")\n",
    "        target[n] ^= slb.And(*[slb.Xnor(s, t) for s, t in zip(selection, trial)])\n",
    "          \n",
    "        if target[n] == S.true:\n",
    "            print(f\"  -> At this stage, {n}= and our output bit is set\")\n",
    "\n",
    "        \n",
    "selection = [0, 0, 0]\n",
    "target = [False]*8\n",
    "total_control(selection, target)    \n",
    "print()\n",
    "print(\"Target:\")\n",
    "print(target)"
   ]
  },
  {
   "cell_type": "markdown",
   "id": "e572a31d",
   "metadata": {},
   "source": [
    "Note that our target register shows we have indeed applied $X_\\mathrm{0b010}$. Try changing `selection` to other bit patterns and notice how it changes."
   ]
  },
  {
   "cell_type": "markdown",
   "id": "a4a75f61",
   "metadata": {},
   "source": [
    "Of course, we don't know what state the selection register will be in. We can use sympy's support for symbolic boolean logic to verify our gadget for all possible selection inputs."
   ]
  },
  {
   "cell_type": "code",
   "execution_count": 5,
   "id": "5df67d45",
   "metadata": {},
   "outputs": [
    {
     "name": "stdout",
     "output_type": "stream",
     "text": [
      "Selection is [s0, s1, s2]\n",
      "Step 0, apply total control: (0, 0, 0)\n",
      "Step 1, apply total control: (0, 0, 1)\n",
      "Step 2, apply total control: (0, 1, 0)\n",
      "Step 3, apply total control: (0, 1, 1)\n",
      "Step 4, apply total control: (1, 0, 0)\n",
      "Step 5, apply total control: (1, 0, 1)\n",
      "Step 6, apply total control: (1, 1, 0)\n",
      "Step 7, apply total control: (1, 1, 1)\n",
      "\n",
      "Target:\n",
      "0= ~s0 & ~s1 & ~s2\n",
      "1= s2 & ~s0 & ~s1\n",
      "2= s1 & ~s0 & ~s2\n",
      "3= s1 & s2 & ~s0\n",
      "4= s0 & ~s1 & ~s2\n",
      "5= s0 & s2 & ~s1\n",
      "6= s0 & s1 & ~s2\n",
      "7= s0 & s1 & s2\n"
     ]
    }
   ],
   "source": [
    "selection = [S.Symbol(f's{i}') for i in range(3)]\n",
    "target = [S.false for i in range(2**len(selection)) ]\n",
    "total_control(selection, target)\n",
    "\n",
    "print()\n",
    "print(\"Target:\")\n",
    "for n, t in enumerate(target):\n",
    "    print(f'{n}= {t}')\n",
    "    \n",
    "tc_target = target.copy()"
   ]
  },
  {
   "cell_type": "markdown",
   "id": "deab0553",
   "metadata": {},
   "source": [
    "As expected, the \"not pattern\" (where `~` is boolean not) matches the binary representations of `n`."
   ]
  },
  {
   "attachments": {},
   "cell_type": "markdown",
   "id": "81b69e70",
   "metadata": {},
   "source": [
    "## Unary Iteration with segment trees\n",
    "\n",
    "A [segment tree](https://en.wikipedia.org/wiki/Segment_tree) is a data structure that allows logrithmic-time querying of intervals. We use a segment tree where each interval is length 1 and comprises all the `n` integers we may select.\n",
    "\n",
    "It is defined recursively by dividing the input interval into two half-size intervals until the left limit meets the right limit."
   ]
  },
  {
   "cell_type": "code",
   "execution_count": 6,
   "id": "ab998aa4",
   "metadata": {},
   "outputs": [],
   "source": [
    "def segtree(ctrl, selection, target, depth, left, right):\n",
    "    \"\"\"Toggle bits in `target` depending on `selection` using a recursive segment tree.\"\"\"\n",
    "    print(f'{depth=} {left=} {right=}', end=' ')\n",
    "    \n",
    "    if left == (right - 1):\n",
    "        # Leaf of the recusion.\n",
    "        print(f'{n=} {ctrl=}')\n",
    "        target[left] ^= ctrl\n",
    "        return \n",
    "    print()\n",
    "    \n",
    "    assert depth < len(selection)\n",
    "    mid = (left + right) >> 1\n",
    "    \n",
    "    # Recurse left interval\n",
    "    new_ctrl = slb.And(ctrl, slb.Not(selection[depth]))\n",
    "    segtree(ctrl=new_ctrl, selection=selection, target=target, depth=depth+1, left=left, right=mid)\n",
    "    \n",
    "    # Recurse right interval\n",
    "    new_ctrl = slb.And(ctrl, selection[depth])\n",
    "    segtree(ctrl=new_ctrl, selection=selection, target=target, depth=depth+1, left=mid, right=right)\n",
    "    \n",
    "    # Quantum note:\n",
    "    # instead of throwing away the first value of `new_ctrl` and re-anding\n",
    "    # with selection, we can just invert the first one (but only if `ctrl` is active)\n",
    "    # new_ctrl ^= ctrl"
   ]
  },
  {
   "cell_type": "code",
   "execution_count": 7,
   "id": "6a514ee6",
   "metadata": {},
   "outputs": [
    {
     "name": "stdout",
     "output_type": "stream",
     "text": [
      "depth=0 left=0 right=8 \n",
      "depth=1 left=0 right=4 \n",
      "depth=2 left=0 right=2 \n",
      "depth=3 left=0 right=1 n=7 ctrl=~s0 & ~s1 & ~s2\n",
      "depth=3 left=1 right=2 n=7 ctrl=s2 & ~s0 & ~s1\n",
      "depth=2 left=2 right=4 \n",
      "depth=3 left=2 right=3 n=7 ctrl=s1 & ~s0 & ~s2\n",
      "depth=3 left=3 right=4 n=7 ctrl=s1 & s2 & ~s0\n",
      "depth=1 left=4 right=8 \n",
      "depth=2 left=4 right=6 \n",
      "depth=3 left=4 right=5 n=7 ctrl=s0 & ~s1 & ~s2\n",
      "depth=3 left=5 right=6 n=7 ctrl=s0 & s2 & ~s1\n",
      "depth=2 left=6 right=8 \n",
      "depth=3 left=6 right=7 n=7 ctrl=s0 & s1 & ~s2\n",
      "depth=3 left=7 right=8 n=7 ctrl=s0 & s1 & s2\n",
      "\n",
      "Target:\n",
      "n=0 ~s0 & ~s1 & ~s2\n",
      "n=1 s2 & ~s0 & ~s1\n",
      "n=2 s1 & ~s0 & ~s2\n",
      "n=3 s1 & s2 & ~s0\n",
      "n=4 s0 & ~s1 & ~s2\n",
      "n=5 s0 & s2 & ~s1\n",
      "n=6 s0 & s1 & ~s2\n",
      "n=7 s0 & s1 & s2\n"
     ]
    }
   ],
   "source": [
    "selection = [S.Symbol(f's{i}') for i in range(3)]\n",
    "target = [S.false for i in range(2**len(selection)) ]\n",
    "segtree(S.true, selection, target, 0, 0, 2**len(selection))\n",
    "\n",
    "print()\n",
    "print(\"Target:\")\n",
    "for n, t in enumerate(target):\n",
    "    print(f'{n=} {slb.simplify_logic(t)}')"
   ]
  },
  {
   "cell_type": "code",
   "execution_count": 8,
   "id": "23d91438",
   "metadata": {},
   "outputs": [
    {
     "name": "stdout",
     "output_type": "stream",
     "text": [
      "n   | segtree            | total control      | same?\n",
      "  0 | ~s0 & ~s1 & ~s2    | ~s0 & ~s1 & ~s2    | True\n",
      "  1 | s2 & ~s0 & ~s1     | s2 & ~s0 & ~s1     | True\n",
      "  2 | s1 & ~s0 & ~s2     | s1 & ~s0 & ~s2     | True\n",
      "  3 | s1 & s2 & ~s0      | s1 & s2 & ~s0      | True\n",
      "  4 | s0 & ~s1 & ~s2     | s0 & ~s1 & ~s2     | True\n",
      "  5 | s0 & s2 & ~s1      | s0 & s2 & ~s1      | True\n",
      "  6 | s0 & s1 & ~s2      | s0 & s1 & ~s2      | True\n",
      "  7 | s0 & s1 & s2       | s0 & s1 & s2       | True\n"
     ]
    }
   ],
   "source": [
    "print(f\"{'n':3s} | {'segtree':18s} | {'total control':18s} | same?\")\n",
    "for n, (t1, t2) in enumerate(zip(target, tc_target)):\n",
    "    t1 = slb.simplify_logic(t1)\n",
    "    print(f'{n:3d} | {str(t1):18s} | {str(t2):18s} | {str(t1==t2)}')"
   ]
  },
  {
   "attachments": {},
   "cell_type": "markdown",
   "id": "e39448e6",
   "metadata": {},
   "source": [
    "## Quantum Circuit\n",
    "\n",
    "We can translate the boolean logic to reversible, quantum logic. It is instructive to start from the suboptimal total control quantum circuit for comparison purposes. We can build this as in the sympy boolean-logic case by adding controlled X operations to the target registers, with the controls on the selection registers toggled on or off according to the binary representation of the selection index.\n",
    "\n",
    "Let us first build a GateWithRegisters object to implement the circuit"
   ]
  },
  {
   "cell_type": "code",
   "execution_count": 9,
   "id": "6b37d717",
   "metadata": {},
   "outputs": [],
   "source": [
    "import cirq\n",
    "from cirq_qubitization.gate_with_registers import Registers\n",
    "from cirq_qubitization.gate_with_registers import GateWithRegisters\n",
    "from functools import cached_property\n",
    "from cirq_qubitization.bit_tools import iter_bits\n",
    "\n",
    "class TotallyControlledNot(GateWithRegisters):\n",
    "    \n",
    "    def __init__(self, selection_bitsize: int, target_bitsize: int, control_bitsize: int = 1):\n",
    "        self._selection_bitsize = selection_bitsize\n",
    "        self._target_bitsize = target_bitsize\n",
    "        self._control_bitsize = control_bitsize\n",
    "\n",
    "    @cached_property\n",
    "    def control_registers(self) -> Registers:\n",
    "        return Registers.build(control=self._control_bitsize)\n",
    "\n",
    "    @cached_property\n",
    "    def selection_registers(self) -> Registers:\n",
    "        return Registers.build(selection=self._selection_bitsize)\n",
    "\n",
    "    @cached_property\n",
    "    def target_registers(self) -> Registers:\n",
    "        return Registers.build(target=self._target_bitsize)\n",
    "\n",
    "    @cached_property\n",
    "    def registers(self) -> Registers:\n",
    "        return Registers(\n",
    "            [\n",
    "                *self.control_registers,\n",
    "                *self.selection_registers,\n",
    "                *self.target_registers,\n",
    "            ]\n",
    "        )\n",
    "\n",
    "    def decompose_from_registers(self, **qubit_regs: Sequence[cirq.Qid]) -> cirq.OP_TREE:\n",
    "        num_controls = self._control_bitsize + self._selection_bitsize\n",
    "        for target_bit in range(self._target_bitsize):\n",
    "            bit_pattern = iter_bits(target_bit, self._selection_bitsize)\n",
    "            num_controls = self._selection_bitsize + self._control_bitsize\n",
    "            control_values = [1]*self._control_bitsize + list(bit_pattern)\n",
    "            yield cirq.X.controlled(\n",
    "                num_controls=num_controls,\n",
    "                control_values=control_values\n",
    "                ).on(\n",
    "                    *qubit_regs[\"control\"], \n",
    "                    *qubit_regs[\"selection\"],\n",
    "                    qubit_regs[\"target\"][-(target_bit+1)])\n",
    "        "
   ]
  },
  {
   "cell_type": "code",
   "execution_count": 10,
   "id": "1f7b6758",
   "metadata": {},
   "outputs": [
    {
     "data": {
      "text/html": [
       "<pre style=\"overflow: auto; white-space: pre;\">control: ──────@─────@─────@─────@─────@─────\n",
       "               │     │     │     │     │\n",
       "selection0: ───(0)───(0)───(0)───(0)───@─────\n",
       "               │     │     │     │     │\n",
       "selection1: ───(0)───(0)───@─────@─────(0)───\n",
       "               │     │     │     │     │\n",
       "selection2: ───(0)───@─────(0)───@─────(0)───\n",
       "               │     │     │     │     │\n",
       "target0: ──────┼─────┼─────┼─────┼─────X─────\n",
       "               │     │     │     │\n",
       "target1: ──────┼─────┼─────┼─────X───────────\n",
       "               │     │     │\n",
       "target2: ──────┼─────┼─────X─────────────────\n",
       "               │     │\n",
       "target3: ──────┼─────X───────────────────────\n",
       "               │\n",
       "target4: ──────X─────────────────────────────</pre>"
      ],
      "text/plain": [
       "control: ──────@─────@─────@─────@─────@─────\n",
       "               │     │     │     │     │\n",
       "selection0: ───(0)───(0)───(0)───(0)───@─────\n",
       "               │     │     │     │     │\n",
       "selection1: ───(0)───(0)───@─────@─────(0)───\n",
       "               │     │     │     │     │\n",
       "selection2: ───(0)───@─────(0)───@─────(0)───\n",
       "               │     │     │     │     │\n",
       "target0: ──────┼─────┼─────┼─────┼─────X─────\n",
       "               │     │     │     │\n",
       "target1: ──────┼─────┼─────┼─────X───────────\n",
       "               │     │     │\n",
       "target2: ──────┼─────┼─────X─────────────────\n",
       "               │     │\n",
       "target3: ──────┼─────X───────────────────────\n",
       "               │\n",
       "target4: ──────X─────────────────────────────"
      ]
     },
     "execution_count": 10,
     "metadata": {},
     "output_type": "execute_result"
    }
   ],
   "source": [
    "import cirq_qubitization.testing as cq_testing\n",
    "gate = TotallyControlledNot(3, 5)\n",
    "g = cq_testing.GateHelper(gate)\n",
    "cirq.Circuit((cirq.decompose_once(g.operation)))"
   ]
  },
  {
   "attachments": {},
   "cell_type": "markdown",
   "id": "7b28663a",
   "metadata": {},
   "source": [
    "## Tests for Correctness\n",
    "\n",
    "We can use a full statevector simulation to compare the desired statevector to the one generated by the unary iteration circuit for each basis state."
   ]
  },
  {
   "cell_type": "code",
   "execution_count": 11,
   "id": "0ba55bd1",
   "metadata": {},
   "outputs": [],
   "source": [
    "from cirq_qubitization.bit_tools import iter_bits\n",
    "\n",
    "def test_for_correctness(gate, selection_bitsize, target_bitsize):\n",
    "    for n in range(target_bitsize):\n",
    "        # Initial qubit values\n",
    "        qubit_vals = {q: 0 for q in gate.all_qubits}\n",
    "        # All controls 'on' to activate circuit\n",
    "        qubit_vals |= {c: 1 for c in gate.quregs['control']}\n",
    "        # Set selection according to `n`\n",
    "        qubit_vals |= zip(g.quregs['selection'], iter_bits(n, selection_bitsize))\n",
    "\n",
    "        initial_state = [qubit_vals[x] for x in gate.all_qubits]\n",
    "        print(initial_state)\n",
    "        final_state = initial_state.copy()\n",
    "        # Note big-endian convention of bit order \n",
    "        final_state[-(n + 1)] = 1\n",
    "        cq_testing.assert_circuit_inp_out_cirqsim(\n",
    "            gate.circuit, gate.all_qubits, initial_state, final_state\n",
    "        )\n",
    "        print(f'{n=} checked!')"
   ]
  },
  {
   "cell_type": "code",
   "execution_count": 12,
   "id": "574c5058",
   "metadata": {},
   "outputs": [
    {
     "name": "stdout",
     "output_type": "stream",
     "text": [
      "[1, 0, 0, 0, 0, 0, 0, 0, 0]\n",
      "n=0 checked!\n",
      "[1, 0, 0, 1, 0, 0, 0, 0, 0]\n",
      "n=1 checked!\n",
      "[1, 0, 1, 0, 0, 0, 0, 0, 0]\n",
      "n=2 checked!\n",
      "[1, 0, 1, 1, 0, 0, 0, 0, 0]\n",
      "n=3 checked!\n",
      "[1, 1, 0, 0, 0, 0, 0, 0, 0]\n",
      "n=4 checked!\n"
     ]
    }
   ],
   "source": [
    "selection_bitsize = 3\n",
    "target_bitsize = 5\n",
    "test_for_correctness(g, selection_bitsize, target_bitsize)"
   ]
  },
  {
   "attachments": {},
   "cell_type": "markdown",
   "id": "d76fcf8f",
   "metadata": {},
   "source": [
    "## Towards a segment tree \n",
    "\n",
    "Next let's see how we can reduce the circuit to the observe the tree structure.\n",
    "First let's recall what we are trying to do with the controlled not. Given a\n",
    "selection integer (say 3 = 011), we want to toggle the bit in the target\n",
    "register to on if the bit is set in out input state.\n",
    "\n",
    "As an example let us assume that our input state has the control bit set to 1 and the selection bits are set to our desired index 3.  "
   ]
  },
  {
   "cell_type": "code",
   "execution_count": 13,
   "id": "3aca2666",
   "metadata": {},
   "outputs": [
    {
     "name": "stdout",
     "output_type": "stream",
     "text": [
      "simulated:  100110010\n",
      "expected :  101101000\n"
     ]
    }
   ],
   "source": [
    "# number of selection bits = 4\n",
    "# number of target bits = 4\n",
    "# The selection bits [1-3] are set according to binary representation of the number 3 (011)\n",
    "initial_state = [1, 0, 0, 1, 1, 0, 0, 0, 0]\n",
    "result = cirq.Simulator(dtype=np.complex128).simulate(\n",
    "    g.circuit, initial_state=initial_state, qubit_order=g.all_qubits\n",
    ")\n",
    "actual = result.dirac_notation(decimals=2)[1:-1]\n",
    "print(\"simulated: \", actual)\n",
    "print(\"expected :  101101000\")\n"
   ]
  },
  {
   "attachments": {},
   "cell_type": "markdown",
   "id": "4640eeed",
   "metadata": {},
   "source": [
    "Now what is important to note is that we can remove many repeated controlled operations by using ancilla qubits to flag what part of the circuit we need to apply, this works because we know the bit pattern of nearby integers is very similar. \n",
    "\n",
    "A circuit demonstrating this for our example is given below. Reading from left to right we first check the control is set and the selection qubit is off, if both these conditions are met then the ancilla qubit (2) is now set to 1. The next control checks if the previous condition was met and likewise the second selection index is also off, at this point if both these conditions are met we must be indexing 0 as the first two qubits are set to off (00), otherwise we know that we want to apply X to qubit 1 so we perform a CNOT operation to flip the bit value in the second ancilla qubit (4), before returning back up the circuit. Now if the left half of the circuit was not applied (i.e. the first selection register was set to 1) then the CNOT between the control qubit and the first ancilla qubit cause the ancilla qubit to toggle on. This triggers the right side of the circuit, which now performs the previously described operations to figure out if the lowest bit is set. Combining these two then yields the expected controlled X operation. \n"
   ]
  },
  {
   "cell_type": "code",
   "execution_count": 87,
   "id": "ef853ae7",
   "metadata": {},
   "outputs": [
    {
     "name": "stdout",
     "output_type": "stream",
     "text": [
      "0: ───@──────────────────────────────@────────────────────────────@──────\n",
      "      │                              │                            │\n",
      "1: ───(0)────────────────────────────┼────────────────────────────@──────\n",
      "      │                              │                            │\n",
      "2: ───And───@─────────@───────@──────X───@─────────@───────@──────And†───\n",
      "            │         │       │          │         │       │\n",
      "3: ─────────(0)───────┼───────@──────────(0)───────┼───────@─────────────\n",
      "            │         │       │          │         │       │\n",
      "4: ─────────And───@───X───@───And†───────And───@───X───@───And†──────────\n",
      "                  │       │                    │       │\n",
      "5: ───────────────┼───────┼────────────────────┼───────X─────────────────\n",
      "                  │       │                    │\n",
      "6: ───────────────┼───────┼────────────────────X─────────────────────────\n",
      "                  │       │\n",
      "7: ───────────────┼───────X──────────────────────────────────────────────\n",
      "                  │\n",
      "8: ───────────────X──────────────────────────────────────────────────────\n"
     ]
    }
   ],
   "source": [
    "from cirq_qubitization.and_gate import And\n",
    "selection_bitsize = 2\n",
    "target_bitsize = 4\n",
    "qubits = cirq.LineQubit(0).range(1+selection_bitsize*2+target_bitsize)\n",
    "circuit = cirq.Circuit()\n",
    "circuit.append(\n",
    "    [\n",
    "    And((1,0)).on(qubits[0], qubits[1], qubits[2]),\n",
    "    And((1,0)).on(qubits[2], qubits[3], qubits[4]),\n",
    "    cirq.CX(qubits[4], qubits[8]),\n",
    "    cirq.CNOT(qubits[2], qubits[4]),\n",
    "    cirq.CX(qubits[4], qubits[7]),\n",
    "    And(adjoint=True).on(qubits[2], qubits[3], qubits[4]),\n",
    "    cirq.CNOT(qubits[0], qubits[2]),\n",
    "    And((1,0)).on(qubits[2], qubits[3], qubits[4]),\n",
    "    cirq.CX(qubits[4], qubits[6]),\n",
    "    cirq.CNOT(qubits[2], qubits[4]),\n",
    "    cirq.CX(qubits[4], qubits[5]),\n",
    "    And(adjoint=True).on(qubits[2], qubits[3], qubits[4]),\n",
    "    And(adjoint=True).on(qubits[0], qubits[1], qubits[2]),\n",
    "    ]\n",
    ")\n",
    "print(circuit)"
   ]
  },
  {
   "attachments": {},
   "cell_type": "markdown",
   "id": "b9d45d52",
   "metadata": {},
   "source": [
    "Below we check the circuit is giving the expected behaviour."
   ]
  },
  {
   "cell_type": "code",
   "execution_count": 88,
   "id": "83d1287d",
   "metadata": {},
   "outputs": [
    {
     "name": "stdout",
     "output_type": "stream",
     "text": [
      "simulated: 110101000, index set in string 5\n"
     ]
    }
   ],
   "source": [
    "\n",
    "initial_state = [1, 0, 0, 0, 0, 0, 0, 0, 0]\n",
    "target_indx = 3\n",
    "sel_bits = list(iter_bits(target_indx, selection_bitsize))\n",
    "sel_indices = [i for i in range(1, 2*selection_bitsize+1, 2)]\n",
    "initial_state[sel_indices[0]] = sel_bits[0]\n",
    "initial_state[sel_indices[1]] = sel_bits[1]\n",
    "result = cirq.Simulator(dtype=np.complex128).simulate(\n",
    "    circuit, initial_state=initial_state\n",
    ")\n",
    "actual = result.dirac_notation(decimals=2)[1:-1]\n",
    "print(\"simulated: {}, index set in string {}\".format(actual, len(qubits)-1-target_indx))"
   ]
  },
  {
   "attachments": {},
   "cell_type": "markdown",
   "id": "a86e0d42",
   "metadata": {},
   "source": [
    "Extending the above idea to larger ranges of integers is relatively straightforward. For example consider the next simplest case of $L=8 = 2^3$. We can copy the above circuit and just add an additional selection and ancilla qubit. The circuit is then copied with some minor modifications to include additional `AND` operations to control on the additional higher bit, and a CNOT to switch between the original range `[0,3]` or the new range `[4,7]` depending on whether the new selection register is off or on respectively. \n",
    "\n",
    "This structure is just the segtree described previously for boolean logic and this gives is the basic idea of unary iteration, \n",
    "which uses `L-1` `AND` operations. Below the `ApplyXToLthQubit` builds the controlled Not operation using the `UnaryIterationGate` as a base class which defines the `decompose_from_registers` method appropriately to recursively construct the unary iteration circuit.\n",
    "\n",
    "Note below a different ordering of ancilla and selection qubits is taken to what was used in the simpler `L=4` example."
   ]
  },
  {
   "cell_type": "code",
   "execution_count": 81,
   "id": "9cba52b1",
   "metadata": {},
   "outputs": [],
   "source": [
    "from cirq_qubitization.gate_with_registers import Registers\n",
    "from cirq_qubitization.unary_iteration import UnaryIterationGate\n",
    "from functools import cached_property\n",
    "\n",
    "# TODO: mpharrigan thinks that UnaryIterationGate should have-a operation rather\n",
    "# than be subclassed each time.\n",
    "\n",
    "class ApplyXToLthQubit(UnaryIterationGate):\n",
    "    def __init__(self, selection_bitsize: int, target_bitsize: int, control_bitsize: int = 1):\n",
    "        self._selection_bitsize = selection_bitsize\n",
    "        self._target_bitsize = target_bitsize\n",
    "        self._control_bitsize = control_bitsize\n",
    "\n",
    "    @cached_property\n",
    "    def control_registers(self) -> Registers:\n",
    "        return Registers.build(control=self._control_bitsize)\n",
    "\n",
    "    @cached_property\n",
    "    def selection_registers(self) -> Registers:\n",
    "        return Registers.build(selection=self._selection_bitsize)\n",
    "\n",
    "    @cached_property\n",
    "    def target_registers(self) -> Registers:\n",
    "        return Registers.build(target=self._target_bitsize)\n",
    "\n",
    "    @cached_property\n",
    "    def iteration_lengths(self) -> Tuple[int, ...]:\n",
    "        return (self._target_bitsize,)\n",
    "\n",
    "    def nth_operation(\n",
    "        self, control: cirq.Qid, selection: int, target: Sequence[cirq.Qid]\n",
    "    ) -> cirq.OP_TREE:\n",
    "        return cirq.CNOT(control, target[-(selection + 1)])"
   ]
  },
  {
   "cell_type": "code",
   "execution_count": 83,
   "id": "a1e4bafa",
   "metadata": {},
   "outputs": [
    {
     "name": "stdout",
     "output_type": "stream",
     "text": [
      "5 0 1\n"
     ]
    },
    {
     "data": {
      "image/svg+xml": "<svg xmlns=\"http://www.w3.org/2000/svg\" width=\"1163.818515625\" height=\"600.0\"><line x1=\"47.63832031250001\" x2=\"1133.818515625\" y1=\"25.0\" y2=\"25.0\" stroke=\"#1967d2\" stroke-width=\"1\" /><line x1=\"47.63832031250001\" x2=\"1133.818515625\" y1=\"75.0\" y2=\"75.0\" stroke=\"#1967d2\" stroke-width=\"1\" /><line x1=\"47.63832031250001\" x2=\"1133.818515625\" y1=\"125.0\" y2=\"125.0\" stroke=\"#1967d2\" stroke-width=\"1\" /><line x1=\"47.63832031250001\" x2=\"1133.818515625\" y1=\"175.0\" y2=\"175.0\" stroke=\"#1967d2\" stroke-width=\"1\" /><line x1=\"47.63832031250001\" x2=\"1133.818515625\" y1=\"225.0\" y2=\"225.0\" stroke=\"#1967d2\" stroke-width=\"1\" /><line x1=\"47.63832031250001\" x2=\"1133.818515625\" y1=\"275.0\" y2=\"275.0\" stroke=\"#1967d2\" stroke-width=\"1\" /><line x1=\"47.63832031250001\" x2=\"1133.818515625\" y1=\"325.0\" y2=\"325.0\" stroke=\"#1967d2\" stroke-width=\"1\" /><line x1=\"47.63832031250001\" x2=\"1133.818515625\" y1=\"375.0\" y2=\"375.0\" stroke=\"#1967d2\" stroke-width=\"1\" /><line x1=\"47.63832031250001\" x2=\"1133.818515625\" y1=\"425.0\" y2=\"425.0\" stroke=\"#1967d2\" stroke-width=\"1\" /><line x1=\"47.63832031250001\" x2=\"1133.818515625\" y1=\"475.0\" y2=\"475.0\" stroke=\"#1967d2\" stroke-width=\"1\" /><line x1=\"47.63832031250001\" x2=\"1133.818515625\" y1=\"525.0\" y2=\"525.0\" stroke=\"#1967d2\" stroke-width=\"1\" /><line x1=\"47.63832031250001\" x2=\"1133.818515625\" y1=\"575.0\" y2=\"575.0\" stroke=\"#1967d2\" stroke-width=\"1\" /><line x1=\"125.27664062500001\" x2=\"125.27664062500001\" y1=\"25.0\" y2=\"225.0\" stroke=\"black\" stroke-width=\"3\" /><line x1=\"185.27664062500003\" x2=\"185.27664062500003\" y1=\"25.0\" y2=\"275.0\" stroke=\"black\" stroke-width=\"3\" /><line x1=\"245.27664062500003\" x2=\"245.27664062500003\" y1=\"75.0\" y2=\"325.0\" stroke=\"black\" stroke-width=\"3\" /><line x1=\"305.276640625\" x2=\"305.276640625\" y1=\"125.0\" y2=\"575.0\" stroke=\"black\" stroke-width=\"3\" /><line x1=\"365.276640625\" x2=\"365.276640625\" y1=\"75.0\" y2=\"125.0\" stroke=\"black\" stroke-width=\"3\" /><line x1=\"425.276640625\" x2=\"425.276640625\" y1=\"125.0\" y2=\"525.0\" stroke=\"black\" stroke-width=\"3\" /><line x1=\"486.344375\" x2=\"486.344375\" y1=\"75.0\" y2=\"325.0\" stroke=\"black\" stroke-width=\"3\" /><line x1=\"547.412109375\" x2=\"547.412109375\" y1=\"25.0\" y2=\"75.0\" stroke=\"black\" stroke-width=\"3\" /><line x1=\"607.412109375\" x2=\"607.412109375\" y1=\"75.0\" y2=\"325.0\" stroke=\"black\" stroke-width=\"3\" /><line x1=\"667.412109375\" x2=\"667.412109375\" y1=\"125.0\" y2=\"475.0\" stroke=\"black\" stroke-width=\"3\" /><line x1=\"727.412109375\" x2=\"727.412109375\" y1=\"75.0\" y2=\"125.0\" stroke=\"black\" stroke-width=\"3\" /><line x1=\"787.412109375\" x2=\"787.412109375\" y1=\"125.0\" y2=\"425.0\" stroke=\"black\" stroke-width=\"3\" /><line x1=\"848.47984375\" x2=\"848.47984375\" y1=\"75.0\" y2=\"325.0\" stroke=\"black\" stroke-width=\"3\" /><line x1=\"910.6153125\" x2=\"910.6153125\" y1=\"25.0\" y2=\"275.0\" stroke=\"black\" stroke-width=\"3\" /><line x1=\"971.683046875\" x2=\"971.683046875\" y1=\"25.0\" y2=\"175.0\" stroke=\"black\" stroke-width=\"3\" /><line x1=\"1031.683046875\" x2=\"1031.683046875\" y1=\"25.0\" y2=\"375.0\" stroke=\"black\" stroke-width=\"3\" /><line x1=\"1092.75078125\" x2=\"1092.75078125\" y1=\"25.0\" y2=\"225.0\" stroke=\"black\" stroke-width=\"3\" /><rect x=\"10.0\" y=\"5.0\" width=\"75.27664062500001\" height=\"40\" stroke=\"black\" fill=\"white\" stroke-width=\"0\" /><text x=\"47.63832031250001\" y=\"25.0\" dominant-baseline=\"middle\" text-anchor=\"middle\" font-size=\"14px\" font-family=\"Arial\">ancilla0: </text><rect x=\"10.0\" y=\"55.0\" width=\"75.27664062500001\" height=\"40\" stroke=\"black\" fill=\"white\" stroke-width=\"0\" /><text x=\"47.63832031250001\" y=\"75.0\" dominant-baseline=\"middle\" text-anchor=\"middle\" font-size=\"14px\" font-family=\"Arial\">ancilla1: </text><rect x=\"10.0\" y=\"105.0\" width=\"75.27664062500001\" height=\"40\" stroke=\"black\" fill=\"white\" stroke-width=\"0\" /><text x=\"47.63832031250001\" y=\"125.0\" dominant-baseline=\"middle\" text-anchor=\"middle\" font-size=\"14px\" font-family=\"Arial\">ancilla2: </text><rect x=\"10.0\" y=\"155.0\" width=\"75.27664062500001\" height=\"40\" stroke=\"black\" fill=\"white\" stroke-width=\"0\" /><text x=\"47.63832031250001\" y=\"175.0\" dominant-baseline=\"middle\" text-anchor=\"middle\" font-size=\"14px\" font-family=\"Arial\">control: </text><rect x=\"10.0\" y=\"205.0\" width=\"75.27664062500001\" height=\"40\" stroke=\"black\" fill=\"white\" stroke-width=\"0\" /><text x=\"47.63832031250001\" y=\"225.0\" dominant-baseline=\"middle\" text-anchor=\"middle\" font-size=\"14px\" font-family=\"Arial\">selection0: </text><rect x=\"10.0\" y=\"255.0\" width=\"75.27664062500001\" height=\"40\" stroke=\"black\" fill=\"white\" stroke-width=\"0\" /><text x=\"47.63832031250001\" y=\"275.0\" dominant-baseline=\"middle\" text-anchor=\"middle\" font-size=\"14px\" font-family=\"Arial\">selection1: </text><rect x=\"10.0\" y=\"305.0\" width=\"75.27664062500001\" height=\"40\" stroke=\"black\" fill=\"white\" stroke-width=\"0\" /><text x=\"47.63832031250001\" y=\"325.0\" dominant-baseline=\"middle\" text-anchor=\"middle\" font-size=\"14px\" font-family=\"Arial\">selection2: </text><rect x=\"10.0\" y=\"355.0\" width=\"75.27664062500001\" height=\"40\" stroke=\"black\" fill=\"white\" stroke-width=\"0\" /><text x=\"47.63832031250001\" y=\"375.0\" dominant-baseline=\"middle\" text-anchor=\"middle\" font-size=\"14px\" font-family=\"Arial\">target0: </text><rect x=\"10.0\" y=\"405.0\" width=\"75.27664062500001\" height=\"40\" stroke=\"black\" fill=\"white\" stroke-width=\"0\" /><text x=\"47.63832031250001\" y=\"425.0\" dominant-baseline=\"middle\" text-anchor=\"middle\" font-size=\"14px\" font-family=\"Arial\">target1: </text><rect x=\"10.0\" y=\"455.0\" width=\"75.27664062500001\" height=\"40\" stroke=\"black\" fill=\"white\" stroke-width=\"0\" /><text x=\"47.63832031250001\" y=\"475.0\" dominant-baseline=\"middle\" text-anchor=\"middle\" font-size=\"14px\" font-family=\"Arial\">target2: </text><rect x=\"10.0\" y=\"505.0\" width=\"75.27664062500001\" height=\"40\" stroke=\"black\" fill=\"white\" stroke-width=\"0\" /><text x=\"47.63832031250001\" y=\"525.0\" dominant-baseline=\"middle\" text-anchor=\"middle\" font-size=\"14px\" font-family=\"Arial\">target3: </text><rect x=\"10.0\" y=\"555.0\" width=\"75.27664062500001\" height=\"40\" stroke=\"black\" fill=\"white\" stroke-width=\"0\" /><text x=\"47.63832031250001\" y=\"575.0\" dominant-baseline=\"middle\" text-anchor=\"middle\" font-size=\"14px\" font-family=\"Arial\">target4: </text><circle cx=\"125.27664062500001\" cy=\"175.0\" r=\"10.0\" /><rect x=\"105.27664062500001\" y=\"205.0\" width=\"40\" height=\"40\" stroke=\"black\" fill=\"white\" stroke-width=\"1\" /><text x=\"125.27664062500001\" y=\"225.0\" dominant-baseline=\"middle\" text-anchor=\"middle\" font-size=\"14px\" font-family=\"Arial\">(0)</text><rect x=\"105.27664062500001\" y=\"5.0\" width=\"40\" height=\"40\" stroke=\"black\" fill=\"white\" stroke-width=\"1\" /><text x=\"125.27664062500001\" y=\"25.0\" dominant-baseline=\"middle\" text-anchor=\"middle\" font-size=\"14px\" font-family=\"Arial\">And</text><circle cx=\"185.27664062500003\" cy=\"25.0\" r=\"10.0\" /><rect x=\"165.27664062500003\" y=\"255.0\" width=\"40\" height=\"40\" stroke=\"black\" fill=\"white\" stroke-width=\"1\" /><text x=\"185.27664062500003\" y=\"275.0\" dominant-baseline=\"middle\" text-anchor=\"middle\" font-size=\"14px\" font-family=\"Arial\">(0)</text><rect x=\"165.27664062500003\" y=\"55.0\" width=\"40\" height=\"40\" stroke=\"black\" fill=\"white\" stroke-width=\"1\" /><text x=\"185.27664062500003\" y=\"75.0\" dominant-baseline=\"middle\" text-anchor=\"middle\" font-size=\"14px\" font-family=\"Arial\">And</text><circle cx=\"245.27664062500003\" cy=\"75.0\" r=\"10.0\" /><rect x=\"225.27664062500003\" y=\"305.0\" width=\"40\" height=\"40\" stroke=\"black\" fill=\"white\" stroke-width=\"1\" /><text x=\"245.27664062500003\" y=\"325.0\" dominant-baseline=\"middle\" text-anchor=\"middle\" font-size=\"14px\" font-family=\"Arial\">(0)</text><rect x=\"225.27664062500003\" y=\"105.0\" width=\"40\" height=\"40\" stroke=\"black\" fill=\"white\" stroke-width=\"1\" /><text x=\"245.27664062500003\" y=\"125.0\" dominant-baseline=\"middle\" text-anchor=\"middle\" font-size=\"14px\" font-family=\"Arial\">And</text><circle cx=\"305.276640625\" cy=\"125.0\" r=\"10.0\" /><rect x=\"285.276640625\" y=\"555.0\" width=\"40\" height=\"40\" stroke=\"black\" fill=\"white\" stroke-width=\"1\" /><text x=\"305.276640625\" y=\"575.0\" dominant-baseline=\"middle\" text-anchor=\"middle\" font-size=\"18px\" font-family=\"Arial\">X</text><circle cx=\"365.276640625\" cy=\"75.0\" r=\"10.0\" /><rect x=\"345.276640625\" y=\"105.0\" width=\"40\" height=\"40\" stroke=\"black\" fill=\"white\" stroke-width=\"1\" /><text x=\"365.276640625\" y=\"125.0\" dominant-baseline=\"middle\" text-anchor=\"middle\" font-size=\"18px\" font-family=\"Arial\">X</text><circle cx=\"425.276640625\" cy=\"125.0\" r=\"10.0\" /><rect x=\"405.276640625\" y=\"505.0\" width=\"40\" height=\"40\" stroke=\"black\" fill=\"white\" stroke-width=\"1\" /><text x=\"425.276640625\" y=\"525.0\" dominant-baseline=\"middle\" text-anchor=\"middle\" font-size=\"18px\" font-family=\"Arial\">X</text><circle cx=\"486.344375\" cy=\"75.0\" r=\"10.0\" /><circle cx=\"486.344375\" cy=\"325.0\" r=\"10.0\" /><rect x=\"465.276640625\" y=\"105.0\" width=\"42.13546875000001\" height=\"40\" stroke=\"black\" fill=\"white\" stroke-width=\"1\" /><text x=\"486.344375\" y=\"125.0\" dominant-baseline=\"middle\" text-anchor=\"middle\" font-size=\"14px\" font-family=\"Arial\">And†</text><circle cx=\"547.412109375\" cy=\"25.0\" r=\"10.0\" /><rect x=\"527.412109375\" y=\"55.0\" width=\"40\" height=\"40\" stroke=\"black\" fill=\"white\" stroke-width=\"1\" /><text x=\"547.412109375\" y=\"75.0\" dominant-baseline=\"middle\" text-anchor=\"middle\" font-size=\"18px\" font-family=\"Arial\">X</text><circle cx=\"607.412109375\" cy=\"75.0\" r=\"10.0\" /><rect x=\"587.412109375\" y=\"305.0\" width=\"40\" height=\"40\" stroke=\"black\" fill=\"white\" stroke-width=\"1\" /><text x=\"607.412109375\" y=\"325.0\" dominant-baseline=\"middle\" text-anchor=\"middle\" font-size=\"14px\" font-family=\"Arial\">(0)</text><rect x=\"587.412109375\" y=\"105.0\" width=\"40\" height=\"40\" stroke=\"black\" fill=\"white\" stroke-width=\"1\" /><text x=\"607.412109375\" y=\"125.0\" dominant-baseline=\"middle\" text-anchor=\"middle\" font-size=\"14px\" font-family=\"Arial\">And</text><circle cx=\"667.412109375\" cy=\"125.0\" r=\"10.0\" /><rect x=\"647.412109375\" y=\"455.0\" width=\"40\" height=\"40\" stroke=\"black\" fill=\"white\" stroke-width=\"1\" /><text x=\"667.412109375\" y=\"475.0\" dominant-baseline=\"middle\" text-anchor=\"middle\" font-size=\"18px\" font-family=\"Arial\">X</text><circle cx=\"727.412109375\" cy=\"75.0\" r=\"10.0\" /><rect x=\"707.412109375\" y=\"105.0\" width=\"40\" height=\"40\" stroke=\"black\" fill=\"white\" stroke-width=\"1\" /><text x=\"727.412109375\" y=\"125.0\" dominant-baseline=\"middle\" text-anchor=\"middle\" font-size=\"18px\" font-family=\"Arial\">X</text><circle cx=\"787.412109375\" cy=\"125.0\" r=\"10.0\" /><rect x=\"767.412109375\" y=\"405.0\" width=\"40\" height=\"40\" stroke=\"black\" fill=\"white\" stroke-width=\"1\" /><text x=\"787.412109375\" y=\"425.0\" dominant-baseline=\"middle\" text-anchor=\"middle\" font-size=\"18px\" font-family=\"Arial\">X</text><circle cx=\"848.47984375\" cy=\"75.0\" r=\"10.0\" /><circle cx=\"848.47984375\" cy=\"325.0\" r=\"10.0\" /><rect x=\"827.412109375\" y=\"105.0\" width=\"42.13546875000001\" height=\"40\" stroke=\"black\" fill=\"white\" stroke-width=\"1\" /><text x=\"848.47984375\" y=\"125.0\" dominant-baseline=\"middle\" text-anchor=\"middle\" font-size=\"14px\" font-family=\"Arial\">And†</text><circle cx=\"910.6153125\" cy=\"25.0\" r=\"10.0\" /><circle cx=\"910.6153125\" cy=\"275.0\" r=\"10.0\" /><rect x=\"889.547578125\" y=\"55.0\" width=\"42.13546875000001\" height=\"40\" stroke=\"black\" fill=\"white\" stroke-width=\"1\" /><text x=\"910.6153125\" y=\"75.0\" dominant-baseline=\"middle\" text-anchor=\"middle\" font-size=\"14px\" font-family=\"Arial\">And†</text><circle cx=\"971.683046875\" cy=\"175.0\" r=\"10.0\" /><rect x=\"951.683046875\" y=\"5.0\" width=\"40\" height=\"40\" stroke=\"black\" fill=\"white\" stroke-width=\"1\" /><text x=\"971.683046875\" y=\"25.0\" dominant-baseline=\"middle\" text-anchor=\"middle\" font-size=\"18px\" font-family=\"Arial\">X</text><circle cx=\"1031.683046875\" cy=\"25.0\" r=\"10.0\" /><rect x=\"1011.683046875\" y=\"355.0\" width=\"40\" height=\"40\" stroke=\"black\" fill=\"white\" stroke-width=\"1\" /><text x=\"1031.683046875\" y=\"375.0\" dominant-baseline=\"middle\" text-anchor=\"middle\" font-size=\"18px\" font-family=\"Arial\">X</text><circle cx=\"1092.75078125\" cy=\"175.0\" r=\"10.0\" /><circle cx=\"1092.75078125\" cy=\"225.0\" r=\"10.0\" /><rect x=\"1071.683046875\" y=\"5.0\" width=\"42.13546875000001\" height=\"40\" stroke=\"black\" fill=\"white\" stroke-width=\"1\" /><text x=\"1092.75078125\" y=\"25.0\" dominant-baseline=\"middle\" text-anchor=\"middle\" font-size=\"14px\" font-family=\"Arial\">And†</text></svg>",
      "text/plain": [
       "<cirq.contrib.svg.svg.SVGCircuit at 0x7f5d7fd7ceb0>"
      ]
     },
     "execution_count": 83,
     "metadata": {},
     "output_type": "execute_result"
    }
   ],
   "source": [
    "import cirq_qubitization.testing as cq_testing\n",
    "selection_bitsize = 3\n",
    "target_bitsize = 5\n",
    "\n",
    "g_segtree = cq_testing.GateHelper(\n",
    "    ApplyXToLthQubit(selection_bitsize, target_bitsize))\n",
    "SVGCircuit(cirq.Circuit(cirq.decompose_once(g_segtree.operation)))"
   ]
  },
  {
   "attachments": {},
   "cell_type": "markdown",
   "id": "13773620",
   "metadata": {},
   "source": [
    "## Tests for Correctness\n",
    "\n",
    "We can use a full statevector simulation to check again that the optimized circuit produces the expected result."
   ]
  },
  {
   "cell_type": "code",
   "execution_count": 85,
   "id": "32ae469b",
   "metadata": {},
   "outputs": [
    {
     "name": "stdout",
     "output_type": "stream",
     "text": [
      "[1, 0, 0, 0, 0, 0, 0, 0, 0, 0, 0, 0]\n",
      "n=0 checked!\n",
      "[1, 0, 0, 1, 0, 0, 0, 0, 0, 0, 0, 0]\n",
      "n=1 checked!\n",
      "[1, 0, 1, 0, 0, 0, 0, 0, 0, 0, 0, 0]\n",
      "n=2 checked!\n",
      "[1, 0, 1, 1, 0, 0, 0, 0, 0, 0, 0, 0]\n",
      "n=3 checked!\n",
      "[1, 1, 0, 0, 0, 0, 0, 0, 0, 0, 0, 0]\n",
      "n=4 checked!\n"
     ]
    }
   ],
   "source": [
    "test_for_correctness(g_segtree, selection_bitsize, target_bitsize)"
   ]
  }
 ],
 "metadata": {
  "kernelspec": {
   "display_name": "qubitization",
   "language": "python",
   "name": "python3"
  },
  "language_info": {
   "codemirror_mode": {
    "name": "ipython",
    "version": 3
   },
   "file_extension": ".py",
   "mimetype": "text/x-python",
   "name": "python",
   "nbconvert_exporter": "python",
   "pygments_lexer": "ipython3",
   "version": "3.10.9"
  },
  "vscode": {
   "interpreter": {
    "hash": "4587b499bc0e93b7fd5bd43a928c2009928964bbad1f52af90c3e08584bf2706"
   }
  }
 },
 "nbformat": 4,
 "nbformat_minor": 5
}
