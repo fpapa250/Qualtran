{
 "cells": [
  {
   "cell_type": "code",
   "execution_count": 26,
   "id": "9d693acc",
   "metadata": {},
   "outputs": [],
   "source": [
    "from cirq_qubitization.quantum_graph.bloq_counts import get_counts_graph, print_counts_graph, \\\n",
    "    GraphvizCounts, markdown_bloq_expr, markdown_counts_graph, SympySymbolAllocator"
   ]
  },
  {
   "cell_type": "markdown",
   "id": "030536c3",
   "metadata": {},
   "source": [
    "## Basic counts graph of And"
   ]
  },
  {
   "cell_type": "code",
   "execution_count": 34,
   "id": "031d2cfe",
   "metadata": {},
   "outputs": [
    {
     "name": "stdout",
     "output_type": "stream",
     "text": [
      "MultiAnd(cvs=(1, 1, 1, 1, 1, 1), adjoint=False) -- 5 -> And(cv1=1, cv2=1, adjoint=False)\n",
      "And(cv1=1, cv2=1, adjoint=False) -- 9 -> ArbitraryClifford(n=2)\n",
      "And(cv1=1, cv2=1, adjoint=False) -- 4 -> TGate()\n"
     ]
    }
   ],
   "source": [
    "from cirq_qubitization.bloq_algos.and_bloq import MultiAnd, And\n",
    "\n",
    "\n",
    "graph, sigma = get_counts_graph(MultiAnd(cvs=(1,)*6))\n",
    "print_counts_graph(graph)"
   ]
  },
  {
   "cell_type": "code",
   "execution_count": 35,
   "id": "bec7f661",
   "metadata": {},
   "outputs": [
    {
     "data": {
      "text/markdown": [
       " - `MultiAnd(cvs=(1, 1, 1, 1, 1, 1), adjoint=False)`\n",
       "   - `And(cv1=1, cv2=1, adjoint=False)`: $\\displaystyle 5$\n",
       " - `And(cv1=1, cv2=1, adjoint=False)`\n",
       "   - `ArbitraryClifford(n=2)`: $\\displaystyle 9$\n",
       "   - `TGate()`: $\\displaystyle 4$\n"
      ],
      "text/plain": [
       "<IPython.core.display.Markdown object>"
      ]
     },
     "execution_count": 35,
     "metadata": {},
     "output_type": "execute_result"
    }
   ],
   "source": [
    "markdown_counts_graph(graph)"
   ]
  },
  {
   "cell_type": "code",
   "execution_count": 36,
   "id": "e4d2a25f",
   "metadata": {},
   "outputs": [
    {
     "data": {
      "image/svg+xml": [
       "<svg xmlns=\"http://www.w3.org/2000/svg\" xmlns:xlink=\"http://www.w3.org/1999/xlink\" width=\"307pt\" height=\"218pt\" viewBox=\"0.00 0.00 307.00 218.00\">\n",
       "<g id=\"graph0\" class=\"graph\" transform=\"scale(1 1) rotate(0) translate(4 214)\">\n",
       "<title>my_graph</title>\n",
       "<polygon fill=\"white\" stroke=\"none\" points=\"-4,4 -4,-214 303,-214 303,4 -4,4\"/>\n",
       "<!-- 0 -->\n",
       "<g id=\"node1\" class=\"node\">\n",
       "<title>0</title>\n",
       "<polygon fill=\"none\" stroke=\"black\" points=\"299,-210 0,-210 0,-174 299,-174 299,-210\"/>\n",
       "<text text-anchor=\"start\" x=\"137.5\" y=\"-193.8\" font-family=\"Times,serif\" font-size=\"14.00\">And</text>\n",
       "<text text-anchor=\"start\" x=\"8\" y=\"-183\" font-family=\"monospace\" font-size=\"10.00\">MultiAnd(cvs=(1, 1, 1, 1, 1, 1), adjoint=False)</text>\n",
       "</g>\n",
       "<!-- 1 -->\n",
       "<g id=\"node2\" class=\"node\">\n",
       "<title>1</title>\n",
       "<polygon fill=\"none\" stroke=\"black\" points=\"254,-123 45,-123 45,-87 254,-87 254,-123\"/>\n",
       "<text text-anchor=\"start\" x=\"137.5\" y=\"-106.8\" font-family=\"Times,serif\" font-size=\"14.00\">And</text>\n",
       "<text text-anchor=\"start\" x=\"53\" y=\"-96\" font-family=\"monospace\" font-size=\"10.00\">And(cv1=1, cv2=1, adjoint=False)</text>\n",
       "</g>\n",
       "<!-- 0&#45;&gt;1 -->\n",
       "<g id=\"edge1\" class=\"edge\">\n",
       "<title>0-&gt;1</title>\n",
       "<path fill=\"none\" stroke=\"black\" d=\"M149.5,-173.8C149.5,-162.16 149.5,-146.55 149.5,-133.24\"/>\n",
       "<polygon fill=\"black\" stroke=\"black\" points=\"153,-133.18 149.5,-123.18 146,-133.18 153,-133.18\"/>\n",
       "<text text-anchor=\"middle\" x=\"153\" y=\"-144.8\" font-family=\"Times,serif\" font-size=\"14.00\">5</text>\n",
       "</g>\n",
       "<!-- 2 -->\n",
       "<g id=\"node3\" class=\"node\">\n",
       "<title>2</title>\n",
       "<polygon fill=\"none\" stroke=\"black\" points=\"163,-36 14,-36 14,0 163,0 163,-36\"/>\n",
       "<text text-anchor=\"start\" x=\"41.5\" y=\"-19.8\" font-family=\"Times,serif\" font-size=\"14.00\">ArbitraryClifford</text>\n",
       "<text text-anchor=\"start\" x=\"22\" y=\"-9\" font-family=\"monospace\" font-size=\"10.00\">ArbitraryClifford(n=2)</text>\n",
       "</g>\n",
       "<!-- 1&#45;&gt;2 -->\n",
       "<g id=\"edge2\" class=\"edge\">\n",
       "<title>1-&gt;2</title>\n",
       "<path fill=\"none\" stroke=\"black\" d=\"M137.16,-86.8C128.47,-74.7 116.71,-58.3 106.92,-44.67\"/>\n",
       "<polygon fill=\"black\" stroke=\"black\" points=\"109.5,-42.26 100.83,-36.18 103.81,-46.34 109.5,-42.26\"/>\n",
       "<text text-anchor=\"middle\" x=\"127\" y=\"-57.8\" font-family=\"Times,serif\" font-size=\"14.00\">9</text>\n",
       "</g>\n",
       "<!-- 3 -->\n",
       "<g id=\"node4\" class=\"node\">\n",
       "<title>3</title>\n",
       "<polygon fill=\"none\" stroke=\"black\" points=\"240,-36 181,-36 181,0 240,0 240,-36\"/>\n",
       "<text text-anchor=\"start\" x=\"193.5\" y=\"-19.8\" font-family=\"Times,serif\" font-size=\"14.00\">TGate</text>\n",
       "<text text-anchor=\"start\" x=\"189\" y=\"-9\" font-family=\"monospace\" font-size=\"10.00\">TGate()</text>\n",
       "</g>\n",
       "<!-- 1&#45;&gt;3 -->\n",
       "<g id=\"edge3\" class=\"edge\">\n",
       "<title>1-&gt;3</title>\n",
       "<path fill=\"none\" stroke=\"black\" d=\"M161.84,-86.8C170.53,-74.7 182.29,-58.3 192.08,-44.67\"/>\n",
       "<polygon fill=\"black\" stroke=\"black\" points=\"195.19,-46.34 198.17,-36.18 189.5,-42.26 195.19,-46.34\"/>\n",
       "<text text-anchor=\"middle\" x=\"187\" y=\"-57.8\" font-family=\"Times,serif\" font-size=\"14.00\">4</text>\n",
       "</g>\n",
       "</g>\n",
       "</svg>"
      ],
      "text/plain": [
       "<IPython.core.display.SVG object>"
      ]
     },
     "execution_count": 36,
     "metadata": {},
     "output_type": "execute_result"
    }
   ],
   "source": [
    "GraphvizCounts(graph).get_svg()"
   ]
  },
  {
   "cell_type": "code",
   "execution_count": 37,
   "id": "a2d5a3fe",
   "metadata": {},
   "outputs": [
    {
     "name": "stdout",
     "output_type": "stream",
     "text": [
      "ArbitraryClifford(n=2) 45\n",
      "TGate() 20\n"
     ]
    }
   ],
   "source": [
    "for bloq, expr in sigma.items():\n",
    "    print(bloq, expr)"
   ]
  },
  {
   "cell_type": "markdown",
   "id": "59d1e9d0",
   "metadata": {},
   "source": [
    "## Importance of canonicalization"
   ]
  },
  {
   "cell_type": "code",
   "execution_count": 38,
   "id": "085af840",
   "metadata": {},
   "outputs": [
    {
     "data": {
      "image/svg+xml": [
       "<svg xmlns=\"http://www.w3.org/2000/svg\" xmlns:xlink=\"http://www.w3.org/1999/xlink\" width=\"444pt\" height=\"218pt\" viewBox=\"0.00 0.00 444.00 218.00\">\n",
       "<g id=\"graph0\" class=\"graph\" transform=\"scale(1 1) rotate(0) translate(4 214)\">\n",
       "<title>my_graph</title>\n",
       "<polygon fill=\"white\" stroke=\"none\" points=\"-4,4 -4,-214 440,-214 440,4 -4,4\"/>\n",
       "<!-- 0 -->\n",
       "<g id=\"node1\" class=\"node\">\n",
       "<title>0</title>\n",
       "<polygon fill=\"none\" stroke=\"black\" points=\"367,-210 68,-210 68,-174 367,-174 367,-210\"/>\n",
       "<text text-anchor=\"start\" x=\"205.5\" y=\"-193.8\" font-family=\"Times,serif\" font-size=\"14.00\">And</text>\n",
       "<text text-anchor=\"start\" x=\"76\" y=\"-183\" font-family=\"monospace\" font-size=\"10.00\">MultiAnd(cvs=(1, 0, 1, 0, 1, 0), adjoint=False)</text>\n",
       "</g>\n",
       "<!-- 1 -->\n",
       "<g id=\"node2\" class=\"node\">\n",
       "<title>1</title>\n",
       "<polygon fill=\"none\" stroke=\"black\" points=\"209,-123 0,-123 0,-87 209,-87 209,-123\"/>\n",
       "<text text-anchor=\"start\" x=\"92.5\" y=\"-106.8\" font-family=\"Times,serif\" font-size=\"14.00\">And</text>\n",
       "<text text-anchor=\"start\" x=\"8\" y=\"-96\" font-family=\"monospace\" font-size=\"10.00\">And(cv1=1, cv2=0, adjoint=False)</text>\n",
       "</g>\n",
       "<!-- 0&#45;&gt;1 -->\n",
       "<g id=\"edge1\" class=\"edge\">\n",
       "<title>0-&gt;1</title>\n",
       "<path fill=\"none\" stroke=\"black\" d=\"M194.63,-173.8C177.63,-161.01 154.24,-143.42 135.55,-129.36\"/>\n",
       "<polygon fill=\"black\" stroke=\"black\" points=\"137.43,-126.39 127.33,-123.18 133.22,-131.98 137.43,-126.39\"/>\n",
       "<text text-anchor=\"middle\" x=\"172\" y=\"-144.8\" font-family=\"Times,serif\" font-size=\"14.00\">3</text>\n",
       "</g>\n",
       "<!-- 2 -->\n",
       "<g id=\"node3\" class=\"node\">\n",
       "<title>2</title>\n",
       "<polygon fill=\"none\" stroke=\"black\" points=\"436,-123 227,-123 227,-87 436,-87 436,-123\"/>\n",
       "<text text-anchor=\"start\" x=\"319.5\" y=\"-106.8\" font-family=\"Times,serif\" font-size=\"14.00\">And</text>\n",
       "<text text-anchor=\"start\" x=\"235\" y=\"-96\" font-family=\"monospace\" font-size=\"10.00\">And(cv1=1, cv2=1, adjoint=False)</text>\n",
       "</g>\n",
       "<!-- 0&#45;&gt;2 -->\n",
       "<g id=\"edge2\" class=\"edge\">\n",
       "<title>0-&gt;2</title>\n",
       "<path fill=\"none\" stroke=\"black\" d=\"M240.57,-173.8C257.8,-160.95 281.53,-143.26 300.43,-129.17\"/>\n",
       "<polygon fill=\"black\" stroke=\"black\" points=\"302.54,-131.96 308.46,-123.18 298.36,-126.35 302.54,-131.96\"/>\n",
       "<text text-anchor=\"middle\" x=\"284\" y=\"-144.8\" font-family=\"Times,serif\" font-size=\"14.00\">2</text>\n",
       "</g>\n",
       "<!-- 3 -->\n",
       "<g id=\"node4\" class=\"node\">\n",
       "<title>3</title>\n",
       "<polygon fill=\"none\" stroke=\"black\" points=\"257,-36 108,-36 108,0 257,0 257,-36\"/>\n",
       "<text text-anchor=\"start\" x=\"135.5\" y=\"-19.8\" font-family=\"Times,serif\" font-size=\"14.00\">ArbitraryClifford</text>\n",
       "<text text-anchor=\"start\" x=\"116\" y=\"-9\" font-family=\"monospace\" font-size=\"10.00\">ArbitraryClifford(n=2)</text>\n",
       "</g>\n",
       "<!-- 1&#45;&gt;3 -->\n",
       "<g id=\"edge3\" class=\"edge\">\n",
       "<title>1-&gt;3</title>\n",
       "<path fill=\"none\" stroke=\"black\" d=\"M120.28,-86.8C131.6,-74.47 147.01,-57.68 159.66,-43.89\"/>\n",
       "<polygon fill=\"black\" stroke=\"black\" points=\"162.56,-45.91 166.74,-36.18 157.4,-41.18 162.56,-45.91\"/>\n",
       "<text text-anchor=\"middle\" x=\"155.5\" y=\"-57.8\" font-family=\"Times,serif\" font-size=\"14.00\">11</text>\n",
       "</g>\n",
       "<!-- 4 -->\n",
       "<g id=\"node5\" class=\"node\">\n",
       "<title>4</title>\n",
       "<polygon fill=\"none\" stroke=\"black\" points=\"347,-36 288,-36 288,0 347,0 347,-36\"/>\n",
       "<text text-anchor=\"start\" x=\"300.5\" y=\"-19.8\" font-family=\"Times,serif\" font-size=\"14.00\">TGate</text>\n",
       "<text text-anchor=\"start\" x=\"296\" y=\"-9\" font-family=\"monospace\" font-size=\"10.00\">TGate()</text>\n",
       "</g>\n",
       "<!-- 1&#45;&gt;4 -->\n",
       "<g id=\"edge4\" class=\"edge\">\n",
       "<title>1-&gt;4</title>\n",
       "<path fill=\"none\" stroke=\"black\" d=\"M147.35,-86.9C185.6,-71.64 241.15,-49.47 278.26,-34.66\"/>\n",
       "<polygon fill=\"black\" stroke=\"black\" points=\"279.75,-37.83 287.74,-30.87 277.16,-31.33 279.75,-37.83\"/>\n",
       "<text text-anchor=\"middle\" x=\"228\" y=\"-57.8\" font-family=\"Times,serif\" font-size=\"14.00\">4</text>\n",
       "</g>\n",
       "<!-- 2&#45;&gt;3 -->\n",
       "<g id=\"edge5\" class=\"edge\">\n",
       "<title>2-&gt;3</title>\n",
       "<path fill=\"none\" stroke=\"black\" d=\"M301.35,-86.8C278.25,-73.62 246.21,-55.34 221.21,-41.08\"/>\n",
       "<polygon fill=\"black\" stroke=\"black\" points=\"222.77,-37.95 212.35,-36.03 219.3,-44.03 222.77,-37.95\"/>\n",
       "<text text-anchor=\"middle\" x=\"269\" y=\"-57.8\" font-family=\"Times,serif\" font-size=\"14.00\">9</text>\n",
       "</g>\n",
       "<!-- 2&#45;&gt;4 -->\n",
       "<g id=\"edge6\" class=\"edge\">\n",
       "<title>2-&gt;4</title>\n",
       "<path fill=\"none\" stroke=\"black\" d=\"M328.67,-86.8C326.75,-75.16 324.18,-59.55 321.99,-46.24\"/>\n",
       "<polygon fill=\"black\" stroke=\"black\" points=\"325.41,-45.47 320.33,-36.18 318.5,-46.61 325.41,-45.47\"/>\n",
       "<text text-anchor=\"middle\" x=\"328\" y=\"-57.8\" font-family=\"Times,serif\" font-size=\"14.00\">4</text>\n",
       "</g>\n",
       "</g>\n",
       "</svg>"
      ],
      "text/plain": [
       "<IPython.core.display.SVG object>"
      ]
     },
     "execution_count": 38,
     "metadata": {},
     "output_type": "execute_result"
    }
   ],
   "source": [
    "graph, sigma = get_counts_graph(MultiAnd(cvs=(1,0)*3))\n",
    "GraphvizCounts(graph).get_svg()"
   ]
  },
  {
   "cell_type": "code",
   "execution_count": 41,
   "id": "0eec2358",
   "metadata": {},
   "outputs": [
    {
     "data": {
      "image/svg+xml": [
       "<svg xmlns=\"http://www.w3.org/2000/svg\" xmlns:xlink=\"http://www.w3.org/1999/xlink\" width=\"307pt\" height=\"218pt\" viewBox=\"0.00 0.00 307.00 218.00\">\n",
       "<g id=\"graph0\" class=\"graph\" transform=\"scale(1 1) rotate(0) translate(4 214)\">\n",
       "<title>my_graph</title>\n",
       "<polygon fill=\"white\" stroke=\"none\" points=\"-4,4 -4,-214 303,-214 303,4 -4,4\"/>\n",
       "<!-- 0 -->\n",
       "<g id=\"node1\" class=\"node\">\n",
       "<title>0</title>\n",
       "<polygon fill=\"none\" stroke=\"black\" points=\"299,-210 0,-210 0,-174 299,-174 299,-210\"/>\n",
       "<text text-anchor=\"start\" x=\"137.5\" y=\"-193.8\" font-family=\"Times,serif\" font-size=\"14.00\">And</text>\n",
       "<text text-anchor=\"start\" x=\"8\" y=\"-183\" font-family=\"monospace\" font-size=\"10.00\">MultiAnd(cvs=(1, 0, 1, 0, 1, 0), adjoint=False)</text>\n",
       "</g>\n",
       "<!-- 1 -->\n",
       "<g id=\"node2\" class=\"node\">\n",
       "<title>1</title>\n",
       "<polygon fill=\"none\" stroke=\"black\" points=\"278,-123 21,-123 21,-87 278,-87 278,-123\"/>\n",
       "<text text-anchor=\"start\" x=\"137.5\" y=\"-106.8\" font-family=\"Times,serif\" font-size=\"14.00\">And</text>\n",
       "<text text-anchor=\"start\" x=\"29\" y=\"-96\" font-family=\"monospace\" font-size=\"10.00\">And(cv1=_cv10, cv2=_cv20, adjoint=False)</text>\n",
       "</g>\n",
       "<!-- 0&#45;&gt;1 -->\n",
       "<g id=\"edge1\" class=\"edge\">\n",
       "<title>0-&gt;1</title>\n",
       "<path fill=\"none\" stroke=\"black\" d=\"M149.5,-173.8C149.5,-162.16 149.5,-146.55 149.5,-133.24\"/>\n",
       "<polygon fill=\"black\" stroke=\"black\" points=\"153,-133.18 149.5,-123.18 146,-133.18 153,-133.18\"/>\n",
       "<text text-anchor=\"middle\" x=\"153\" y=\"-144.8\" font-family=\"Times,serif\" font-size=\"14.00\">5</text>\n",
       "</g>\n",
       "<!-- 2 -->\n",
       "<g id=\"node3\" class=\"node\">\n",
       "<title>2</title>\n",
       "<polygon fill=\"none\" stroke=\"black\" points=\"163,-36 14,-36 14,0 163,0 163,-36\"/>\n",
       "<text text-anchor=\"start\" x=\"41.5\" y=\"-19.8\" font-family=\"Times,serif\" font-size=\"14.00\">ArbitraryClifford</text>\n",
       "<text text-anchor=\"start\" x=\"22\" y=\"-9\" font-family=\"monospace\" font-size=\"10.00\">ArbitraryClifford(n=2)</text>\n",
       "</g>\n",
       "<!-- 1&#45;&gt;2 -->\n",
       "<g id=\"edge2\" class=\"edge\">\n",
       "<title>1-&gt;2</title>\n",
       "<path fill=\"none\" stroke=\"black\" d=\"M137.16,-86.8C128.47,-74.7 116.71,-58.3 106.92,-44.67\"/>\n",
       "<polygon fill=\"black\" stroke=\"black\" points=\"109.5,-42.26 100.83,-36.18 103.81,-46.34 109.5,-42.26\"/>\n",
       "<text text-anchor=\"middle\" x=\"136.5\" y=\"-57.8\" font-family=\"Times,serif\" font-size=\"14.00\">O(1)</text>\n",
       "</g>\n",
       "<!-- 3 -->\n",
       "<g id=\"node4\" class=\"node\">\n",
       "<title>3</title>\n",
       "<polygon fill=\"none\" stroke=\"black\" points=\"240,-36 181,-36 181,0 240,0 240,-36\"/>\n",
       "<text text-anchor=\"start\" x=\"193.5\" y=\"-19.8\" font-family=\"Times,serif\" font-size=\"14.00\">TGate</text>\n",
       "<text text-anchor=\"start\" x=\"189\" y=\"-9\" font-family=\"monospace\" font-size=\"10.00\">TGate()</text>\n",
       "</g>\n",
       "<!-- 1&#45;&gt;3 -->\n",
       "<g id=\"edge3\" class=\"edge\">\n",
       "<title>1-&gt;3</title>\n",
       "<path fill=\"none\" stroke=\"black\" d=\"M161.84,-86.8C170.53,-74.7 182.29,-58.3 192.08,-44.67\"/>\n",
       "<polygon fill=\"black\" stroke=\"black\" points=\"195.19,-46.34 198.17,-36.18 189.5,-42.26 195.19,-46.34\"/>\n",
       "<text text-anchor=\"middle\" x=\"187\" y=\"-57.8\" font-family=\"Times,serif\" font-size=\"14.00\">8</text>\n",
       "</g>\n",
       "</g>\n",
       "</svg>"
      ],
      "text/plain": [
       "<IPython.core.display.SVG object>"
      ]
     },
     "execution_count": 41,
     "metadata": {},
     "output_type": "execute_result"
    }
   ],
   "source": [
    "import attrs\n",
    "\n",
    "ss = SympySymbolAllocator()\n",
    "cv1 = ss.new_symbol('cv1')\n",
    "cv2 = ss.new_symbol('cv2')\n",
    "\n",
    "\n",
    "def canonicalize(bloq):\n",
    "    if isinstance(bloq, And):\n",
    "        return attrs.evolve(bloq, cv1=cv1, cv2=cv2)\n",
    "    \n",
    "    return bloq\n",
    "\n",
    "graph, sigma = get_counts_graph(MultiAnd(cvs=(1,0)*3), ss, canonicalize)\n",
    "GraphvizCounts(graph).get_svg()"
   ]
  }
 ],
 "metadata": {
  "kernelspec": {
   "display_name": "Python 3 (ipykernel)",
   "language": "python",
   "name": "python3"
  },
  "language_info": {
   "codemirror_mode": {
    "name": "ipython",
    "version": 3
   },
   "file_extension": ".py",
   "mimetype": "text/x-python",
   "name": "python",
   "nbconvert_exporter": "python",
   "pygments_lexer": "ipython3",
   "version": "3.10.9"
  }
 },
 "nbformat": 4,
 "nbformat_minor": 5
}
