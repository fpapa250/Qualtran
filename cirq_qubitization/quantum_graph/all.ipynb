{
 "cells": [
  {
   "cell_type": "code",
   "execution_count": 1,
   "id": "91aaec8f",
   "metadata": {
    "cq.autogen": "top_imports"
   },
   "outputs": [],
   "source": [
    "import cirq\n",
    "import numpy as np\n",
    "import cirq_qubitization\n",
    "import cirq_qubitization.testing as cq_testing\n",
    "from cirq_qubitization.jupyter_tools import display_gate_and_compilation\n",
    "from cirq.contrib.svg import SVGCircuit\n",
    "from typing import *\n",
    "from pprint import pprint"
   ]
  },
  {
   "cell_type": "code",
   "execution_count": 2,
   "id": "718515b1",
   "metadata": {},
   "outputs": [],
   "source": [
    "from cirq_qubitization.quantum_graph.graphviz import GraphDrawer, PrettyGraphDrawer\n",
    "from IPython.display import SVG"
   ]
  },
  {
   "cell_type": "code",
   "execution_count": 3,
   "id": "d022f65d",
   "metadata": {},
   "outputs": [],
   "source": [
    "from cirq_qubitization.quantum_graph.examples import *\n",
    "from cirq_qubitization.quantum_graph.util_bloqs import *"
   ]
  },
  {
   "cell_type": "code",
   "execution_count": 4,
   "id": "49c1da89",
   "metadata": {},
   "outputs": [],
   "source": [
    "DrawCls = GraphDrawer\n",
    "DrawCls = PrettyGraphDrawer"
   ]
  },
  {
   "cell_type": "markdown",
   "id": "23748672",
   "metadata": {},
   "source": [
    "## TestBloq"
   ]
  },
  {
   "cell_type": "code",
   "execution_count": 5,
   "id": "093e945b",
   "metadata": {},
   "outputs": [
    {
     "data": {
      "image/svg+xml": [
       "<svg xmlns=\"http://www.w3.org/2000/svg\" xmlns:xlink=\"http://www.w3.org/1999/xlink\" width=\"237pt\" height=\"98pt\" viewBox=\"0.00 0.00 237.00 98.00\">\n",
       "<g id=\"graph0\" class=\"graph\" transform=\"scale(1 1) rotate(0) translate(4 94)\">\n",
       "<title>my_graph</title>\n",
       "<polygon fill=\"white\" stroke=\"transparent\" points=\"-4,4 -4,-94 233,-94 233,4 -4,4\"/>\n",
       "<!-- control_G1 -->\n",
       "<g id=\"node1\" class=\"node\">\n",
       "<title>control_G1</title>\n",
       "<text text-anchor=\"middle\" x=\"27.5\" y=\"-68.3\" font-family=\"Times,serif\" font-size=\"14.00\">control</text>\n",
       "</g>\n",
       "<!-- TestBloq -->\n",
       "<g id=\"node3\" class=\"node\">\n",
       "<title>TestBloq</title>\n",
       "<polygon fill=\"none\" stroke=\"black\" points=\"92.5,-66 92.5,-83 137.5,-83 137.5,-66 92.5,-66\"/>\n",
       "<text text-anchor=\"start\" x=\"96.5\" y=\"-72\" font-family=\"Times,serif\" font-size=\"10.00\">TestBloq</text>\n",
       "<polygon fill=\"none\" stroke=\"black\" points=\"92.5,-45 92.5,-66 137.5,-66 137.5,-45 92.5,-45\"/>\n",
       "<text text-anchor=\"start\" x=\"95.5\" y=\"-51.8\" font-family=\"Times,serif\" font-size=\"14.00\">control</text>\n",
       "<polygon fill=\"none\" stroke=\"black\" points=\"92.5,-24 92.5,-45 137.5,-45 137.5,-24 92.5,-24\"/>\n",
       "<text text-anchor=\"start\" x=\"99.5\" y=\"-30.8\" font-family=\"Times,serif\" font-size=\"14.00\">target</text>\n",
       "</g>\n",
       "<!-- control_G1&#45;&gt;TestBloq -->\n",
       "<g id=\"edge1\" class=\"edge\">\n",
       "<title>control_G1:e-&gt;TestBloq:w</title>\n",
       "<path fill=\"none\" stroke=\"black\" d=\"M55,-72C72.22,-72 73.97,-57.23 89.98,-56.07\"/>\n",
       "<ellipse fill=\"black\" stroke=\"black\" cx=\"91\" cy=\"-56.04\" rx=\"1\" ry=\"1\"/>\n",
       "<text text-anchor=\"middle\" x=\"73.5\" y=\"-67\" font-family=\"Times,serif\" font-size=\"10.00\">1</text>\n",
       "</g>\n",
       "<!-- target_G0 -->\n",
       "<g id=\"node2\" class=\"node\">\n",
       "<title>target_G0</title>\n",
       "<text text-anchor=\"middle\" x=\"27.5\" y=\"-14.3\" font-family=\"Times,serif\" font-size=\"14.00\">target</text>\n",
       "</g>\n",
       "<!-- target_G0&#45;&gt;TestBloq -->\n",
       "<g id=\"edge2\" class=\"edge\">\n",
       "<title>target_G0:e-&gt;TestBloq:w</title>\n",
       "<path fill=\"none\" stroke=\"black\" d=\"M55,-18C72.22,-18 73.97,-32.77 89.98,-33.93\"/>\n",
       "<ellipse fill=\"black\" stroke=\"black\" cx=\"91\" cy=\"-33.96\" rx=\"1\" ry=\"1\"/>\n",
       "<text text-anchor=\"middle\" x=\"73.5\" y=\"-29\" font-family=\"Times,serif\" font-size=\"10.00\">1</text>\n",
       "</g>\n",
       "<!-- control_G3 -->\n",
       "<g id=\"node4\" class=\"node\">\n",
       "<title>control_G3</title>\n",
       "<text text-anchor=\"middle\" x=\"201.5\" y=\"-68.3\" font-family=\"Times,serif\" font-size=\"14.00\">control</text>\n",
       "</g>\n",
       "<!-- TestBloq&#45;&gt;control_G3 -->\n",
       "<g id=\"edge3\" class=\"edge\">\n",
       "<title>TestBloq:e-&gt;control_G3:w</title>\n",
       "<path fill=\"none\" stroke=\"black\" d=\"M137,-56C154.22,-56 155.97,-70.77 171.98,-71.93\"/>\n",
       "<ellipse fill=\"black\" stroke=\"black\" cx=\"173\" cy=\"-71.96\" rx=\"1\" ry=\"1\"/>\n",
       "<text text-anchor=\"middle\" x=\"155.5\" y=\"-67\" font-family=\"Times,serif\" font-size=\"10.00\">1</text>\n",
       "</g>\n",
       "<!-- target_G2 -->\n",
       "<g id=\"node5\" class=\"node\">\n",
       "<title>target_G2</title>\n",
       "<text text-anchor=\"middle\" x=\"201.5\" y=\"-14.3\" font-family=\"Times,serif\" font-size=\"14.00\">target</text>\n",
       "</g>\n",
       "<!-- TestBloq&#45;&gt;target_G2 -->\n",
       "<g id=\"edge4\" class=\"edge\">\n",
       "<title>TestBloq:e-&gt;target_G2:w</title>\n",
       "<path fill=\"none\" stroke=\"black\" d=\"M137,-34C154.22,-34 155.97,-19.23 171.98,-18.07\"/>\n",
       "<ellipse fill=\"black\" stroke=\"black\" cx=\"173\" cy=\"-18.04\" rx=\"1\" ry=\"1\"/>\n",
       "<text text-anchor=\"middle\" x=\"155.5\" y=\"-29\" font-family=\"Times,serif\" font-size=\"10.00\">1</text>\n",
       "</g>\n",
       "</g>\n",
       "</svg>"
      ],
      "text/plain": [
       "<IPython.core.display.SVG object>"
      ]
     },
     "execution_count": 5,
     "metadata": {},
     "output_type": "execute_result"
    }
   ],
   "source": [
    "cbloq = TestBloq()\n",
    "dr = DrawCls(cbloq)\n",
    "SVG(dr.get_graph().create_svg())"
   ]
  },
  {
   "cell_type": "markdown",
   "id": "b93fb302",
   "metadata": {},
   "source": [
    "## Other tests"
   ]
  },
  {
   "cell_type": "code",
   "execution_count": 7,
   "id": "a3d9f574",
   "metadata": {},
   "outputs": [],
   "source": [
    "from cirq_qubitization.quantum_graph.graphviz_test import Atom, TestParallelBloq\n",
    "\n",
    "def show_bloq(bloq):\n",
    "    display(SVG(PrettyGraphDrawer(bloq).get_graph().create_svg()))"
   ]
  },
  {
   "cell_type": "code",
   "execution_count": 8,
   "id": "e8417048",
   "metadata": {},
   "outputs": [
    {
     "data": {
      "image/svg+xml": [
       "<svg xmlns=\"http://www.w3.org/2000/svg\" xmlns:xlink=\"http://www.w3.org/1999/xlink\" width=\"220pt\" height=\"54pt\" viewBox=\"0.00 0.00 220.00 54.00\">\n",
       "<g id=\"graph0\" class=\"graph\" transform=\"scale(1 1) rotate(0) translate(4 50)\">\n",
       "<title>my_graph</title>\n",
       "<polygon fill=\"white\" stroke=\"transparent\" points=\"-4,4 -4,-50 216,-50 216,4 -4,4\"/>\n",
       "<!-- q_G1 -->\n",
       "<g id=\"node1\" class=\"node\">\n",
       "<title>q_G1</title>\n",
       "<text text-anchor=\"middle\" x=\"27\" y=\"-14.3\" font-family=\"Times,serif\" font-size=\"14.00\">q</text>\n",
       "</g>\n",
       "<!-- Atom -->\n",
       "<g id=\"node2\" class=\"node\">\n",
       "<title>Atom</title>\n",
       "<polygon fill=\"none\" stroke=\"black\" points=\"91,-29 91,-46 121,-46 121,-29 91,-29\"/>\n",
       "<text text-anchor=\"start\" x=\"94\" y=\"-35\" font-family=\"Times,serif\" font-size=\"10.00\">Atom</text>\n",
       "<polygon fill=\"none\" stroke=\"black\" points=\"91,-8 91,-29 121,-29 121,-8 91,-8\"/>\n",
       "<text text-anchor=\"start\" x=\"102.5\" y=\"-14.8\" font-family=\"Times,serif\" font-size=\"14.00\">q</text>\n",
       "</g>\n",
       "<!-- q_G1&#45;&gt;Atom -->\n",
       "<g id=\"edge1\" class=\"edge\">\n",
       "<title>q_G1:e-&gt;Atom:w</title>\n",
       "<path fill=\"none\" stroke=\"black\" d=\"M54,-18C69.67,-18 74.14,-18 88.77,-18\"/>\n",
       "<ellipse fill=\"black\" stroke=\"black\" cx=\"90\" cy=\"-18\" rx=\"1\" ry=\"1\"/>\n",
       "<text text-anchor=\"middle\" x=\"72.5\" y=\"-21\" font-family=\"Times,serif\" font-size=\"10.00\">1</text>\n",
       "</g>\n",
       "<!-- q_G0 -->\n",
       "<g id=\"node3\" class=\"node\">\n",
       "<title>q_G0</title>\n",
       "<text text-anchor=\"middle\" x=\"185\" y=\"-14.3\" font-family=\"Times,serif\" font-size=\"14.00\">q</text>\n",
       "</g>\n",
       "<!-- Atom&#45;&gt;q_G0 -->\n",
       "<g id=\"edge2\" class=\"edge\">\n",
       "<title>Atom:e-&gt;q_G0:w</title>\n",
       "<path fill=\"none\" stroke=\"black\" d=\"M121,-18C136.67,-18 141.14,-18 155.77,-18\"/>\n",
       "<ellipse fill=\"black\" stroke=\"black\" cx=\"157\" cy=\"-18\" rx=\"1\" ry=\"1\"/>\n",
       "<text text-anchor=\"middle\" x=\"139.5\" y=\"-21\" font-family=\"Times,serif\" font-size=\"10.00\">1</text>\n",
       "</g>\n",
       "</g>\n",
       "</svg>"
      ],
      "text/plain": [
       "<IPython.core.display.SVG object>"
      ]
     },
     "metadata": {},
     "output_type": "display_data"
    }
   ],
   "source": [
    "show_bloq(Atom())"
   ]
  },
  {
   "cell_type": "code",
   "execution_count": 10,
   "id": "258b8459",
   "metadata": {},
   "outputs": [
    {
     "data": {
      "image/svg+xml": [
       "<svg xmlns=\"http://www.w3.org/2000/svg\" xmlns:xlink=\"http://www.w3.org/1999/xlink\" width=\"227pt\" height=\"54pt\" viewBox=\"0.00 0.00 227.00 54.00\">\n",
       "<g id=\"graph0\" class=\"graph\" transform=\"scale(1 1) rotate(0) translate(4 50)\">\n",
       "<title>my_graph</title>\n",
       "<polygon fill=\"white\" stroke=\"transparent\" points=\"-4,4 -4,-50 223,-50 223,4 -4,4\"/>\n",
       "<!-- stuff_G2 -->\n",
       "<g id=\"node1\" class=\"node\">\n",
       "<title>stuff_G2</title>\n",
       "<text text-anchor=\"middle\" x=\"27\" y=\"-14.3\" font-family=\"Times,serif\" font-size=\"14.00\">stuff</text>\n",
       "</g>\n",
       "<!-- TestParallelBloq -->\n",
       "<g id=\"node2\" class=\"node\">\n",
       "<title>TestParallelBloq</title>\n",
       "<polygon fill=\"none\" stroke=\"black\" points=\"91.5,-29 91.5,-46 128.5,-46 128.5,-29 91.5,-29\"/>\n",
       "<text text-anchor=\"start\" x=\"94.5\" y=\"-35\" font-family=\"Times,serif\" font-size=\"10.00\">TestPa..</text>\n",
       "<polygon fill=\"none\" stroke=\"black\" points=\"91.5,-8 91.5,-29 128.5,-29 128.5,-8 91.5,-8\"/>\n",
       "<text text-anchor=\"start\" x=\"97.5\" y=\"-14.8\" font-family=\"Times,serif\" font-size=\"14.00\">stuff</text>\n",
       "</g>\n",
       "<!-- stuff_G2&#45;&gt;TestParallelBloq -->\n",
       "<g id=\"edge1\" class=\"edge\">\n",
       "<title>stuff_G2:e-&gt;TestParallelBloq:w</title>\n",
       "<path fill=\"none\" stroke=\"black\" d=\"M54,-18C69.67,-18 74.14,-18 88.77,-18\"/>\n",
       "<ellipse fill=\"black\" stroke=\"black\" cx=\"90\" cy=\"-18\" rx=\"1\" ry=\"1\"/>\n",
       "<text text-anchor=\"middle\" x=\"72.5\" y=\"-21\" font-family=\"Times,serif\" font-size=\"10.00\">3</text>\n",
       "</g>\n",
       "<!-- stuff_G0 -->\n",
       "<g id=\"node3\" class=\"node\">\n",
       "<title>stuff_G0</title>\n",
       "<text text-anchor=\"middle\" x=\"192\" y=\"-14.3\" font-family=\"Times,serif\" font-size=\"14.00\">stuff</text>\n",
       "</g>\n",
       "<!-- TestParallelBloq&#45;&gt;stuff_G0 -->\n",
       "<g id=\"edge2\" class=\"edge\">\n",
       "<title>TestParallelBloq:e-&gt;stuff_G0:w</title>\n",
       "<path fill=\"none\" stroke=\"black\" d=\"M128,-18C143.67,-18 148.14,-18 162.77,-18\"/>\n",
       "<ellipse fill=\"black\" stroke=\"black\" cx=\"164\" cy=\"-18\" rx=\"1\" ry=\"1\"/>\n",
       "<text text-anchor=\"middle\" x=\"146.5\" y=\"-21\" font-family=\"Times,serif\" font-size=\"10.00\">3</text>\n",
       "</g>\n",
       "</g>\n",
       "</svg>"
      ],
      "text/plain": [
       "<IPython.core.display.SVG object>"
      ]
     },
     "metadata": {},
     "output_type": "display_data"
    }
   ],
   "source": [
    "show_bloq(TestParallelBloq())"
   ]
  },
  {
   "cell_type": "code",
   "execution_count": 11,
   "id": "1e766516",
   "metadata": {},
   "outputs": [
    {
     "data": {
      "image/svg+xml": [
       "<svg xmlns=\"http://www.w3.org/2000/svg\" xmlns:xlink=\"http://www.w3.org/1999/xlink\" width=\"318pt\" height=\"158pt\" viewBox=\"0.00 0.00 318.00 158.00\">\n",
       "<g id=\"graph0\" class=\"graph\" transform=\"scale(1 1) rotate(0) translate(4 154)\">\n",
       "<title>my_graph</title>\n",
       "<polygon fill=\"white\" stroke=\"transparent\" points=\"-4,4 -4,-154 314,-154 314,4 -4,4\"/>\n",
       "<!-- stuff_G15 -->\n",
       "<g id=\"node1\" class=\"node\">\n",
       "<title>stuff_G15</title>\n",
       "<text text-anchor=\"middle\" x=\"27\" y=\"-62.3\" font-family=\"Times,serif\" font-size=\"14.00\">stuff</text>\n",
       "</g>\n",
       "<!-- Split -->\n",
       "<g id=\"node4\" class=\"node\">\n",
       "<title>Split</title>\n",
       "<polygon fill=\"none\" stroke=\"black\" points=\"91,-75 91,-81 103,-81 103,-75 91,-75\"/>\n",
       "<polygon fill=\"none\" stroke=\"black\" points=\"91,-57 91,-75 97,-75 97,-57 91,-57\"/>\n",
       "<polygon fill=\"none\" stroke=\"black\" points=\"97,-69 97,-75 103,-75 103,-69 97,-69\"/>\n",
       "<polygon fill=\"none\" stroke=\"black\" points=\"97,-63 97,-69 103,-69 103,-63 97,-63\"/>\n",
       "<polygon fill=\"none\" stroke=\"black\" points=\"97,-57 97,-63 103,-63 103,-57 97,-57\"/>\n",
       "</g>\n",
       "<!-- stuff_G15&#45;&gt;Split -->\n",
       "<g id=\"edge1\" class=\"edge\">\n",
       "<title>stuff_G15:e-&gt;Split:w</title>\n",
       "<path fill=\"none\" stroke=\"black\" d=\"M54,-66C69.67,-66 74.14,-66 88.77,-66\"/>\n",
       "<ellipse fill=\"black\" stroke=\"black\" cx=\"90\" cy=\"-66\" rx=\"1\" ry=\"1\"/>\n",
       "<text text-anchor=\"middle\" x=\"72.5\" y=\"-69\" font-family=\"Times,serif\" font-size=\"10.00\">3</text>\n",
       "</g>\n",
       "<!-- Atom -->\n",
       "<g id=\"node2\" class=\"node\">\n",
       "<title>Atom</title>\n",
       "<polygon fill=\"none\" stroke=\"black\" points=\"140,-77 140,-94 170,-94 170,-77 140,-77\"/>\n",
       "<text text-anchor=\"start\" x=\"143\" y=\"-83\" font-family=\"Times,serif\" font-size=\"10.00\">Atom</text>\n",
       "<polygon fill=\"none\" stroke=\"black\" points=\"140,-56 140,-77 170,-77 170,-56 140,-56\"/>\n",
       "<text text-anchor=\"start\" x=\"151.5\" y=\"-62.8\" font-family=\"Times,serif\" font-size=\"14.00\">q</text>\n",
       "</g>\n",
       "<!-- Join -->\n",
       "<g id=\"node3\" class=\"node\">\n",
       "<title>Join</title>\n",
       "<polygon fill=\"none\" stroke=\"black\" points=\"207,-75 207,-81 219,-81 219,-75 207,-75\"/>\n",
       "<polygon fill=\"none\" stroke=\"black\" points=\"207,-69 207,-75 213,-75 213,-69 207,-69\"/>\n",
       "<polygon fill=\"none\" stroke=\"black\" points=\"213,-57 213,-75 219,-75 219,-57 213,-57\"/>\n",
       "<polygon fill=\"none\" stroke=\"black\" points=\"207,-63 207,-69 213,-69 213,-63 207,-63\"/>\n",
       "<polygon fill=\"none\" stroke=\"black\" points=\"207,-57 207,-63 213,-63 213,-57 207,-57\"/>\n",
       "</g>\n",
       "<!-- Atom&#45;&gt;Join -->\n",
       "<g id=\"edge6\" class=\"edge\">\n",
       "<title>Atom:e-&gt;Join:w</title>\n",
       "<path fill=\"none\" stroke=\"black\" d=\"M170,-66C185.67,-66 190.14,-66 204.77,-66\"/>\n",
       "<ellipse fill=\"black\" stroke=\"black\" cx=\"206\" cy=\"-66\" rx=\"1\" ry=\"1\"/>\n",
       "<text text-anchor=\"middle\" x=\"188.5\" y=\"-69\" font-family=\"Times,serif\" font-size=\"10.00\">1</text>\n",
       "</g>\n",
       "<!-- stuff -->\n",
       "<g id=\"node7\" class=\"node\">\n",
       "<title>stuff</title>\n",
       "<text text-anchor=\"middle\" x=\"283\" y=\"-62.3\" font-family=\"Times,serif\" font-size=\"14.00\">stuff</text>\n",
       "</g>\n",
       "<!-- Join&#45;&gt;stuff -->\n",
       "<g id=\"edge8\" class=\"edge\">\n",
       "<title>Join:e-&gt;stuff:w</title>\n",
       "<path fill=\"none\" stroke=\"black\" d=\"M219,-66C234.67,-66 239.14,-66 253.77,-66\"/>\n",
       "<ellipse fill=\"black\" stroke=\"black\" cx=\"255\" cy=\"-66\" rx=\"1\" ry=\"1\"/>\n",
       "<text text-anchor=\"middle\" x=\"237.5\" y=\"-69\" font-family=\"Times,serif\" font-size=\"10.00\">3</text>\n",
       "</g>\n",
       "<!-- Split&#45;&gt;Atom -->\n",
       "<g id=\"edge3\" class=\"edge\">\n",
       "<title>Split:e-&gt;Atom:w</title>\n",
       "<path fill=\"none\" stroke=\"black\" d=\"M103,-66C118.67,-66 123.14,-66 137.77,-66\"/>\n",
       "<ellipse fill=\"black\" stroke=\"black\" cx=\"139\" cy=\"-66\" rx=\"1\" ry=\"1\"/>\n",
       "<text text-anchor=\"middle\" x=\"121.5\" y=\"-69\" font-family=\"Times,serif\" font-size=\"10.00\">1</text>\n",
       "</g>\n",
       "<!-- Atom_G0 -->\n",
       "<g id=\"node5\" class=\"node\">\n",
       "<title>Atom_G0</title>\n",
       "<polygon fill=\"none\" stroke=\"black\" points=\"140,-133 140,-150 170,-150 170,-133 140,-133\"/>\n",
       "<text text-anchor=\"start\" x=\"143\" y=\"-139\" font-family=\"Times,serif\" font-size=\"10.00\">Atom</text>\n",
       "<polygon fill=\"none\" stroke=\"black\" points=\"140,-112 140,-133 170,-133 170,-112 140,-112\"/>\n",
       "<text text-anchor=\"start\" x=\"151.5\" y=\"-118.8\" font-family=\"Times,serif\" font-size=\"14.00\">q</text>\n",
       "</g>\n",
       "<!-- Split&#45;&gt;Atom_G0 -->\n",
       "<g id=\"edge2\" class=\"edge\">\n",
       "<title>Split:e-&gt;Atom_G0:w</title>\n",
       "<path fill=\"none\" stroke=\"black\" d=\"M103,-72C129.89,-72 113.32,-119.3 137.83,-121.89\"/>\n",
       "<ellipse fill=\"black\" stroke=\"black\" cx=\"139\" cy=\"-121.95\" rx=\"1\" ry=\"1\"/>\n",
       "<text text-anchor=\"middle\" x=\"121.5\" y=\"-101\" font-family=\"Times,serif\" font-size=\"10.00\">1</text>\n",
       "</g>\n",
       "<!-- Atom_G2 -->\n",
       "<g id=\"node6\" class=\"node\">\n",
       "<title>Atom_G2</title>\n",
       "<polygon fill=\"none\" stroke=\"black\" points=\"140,-21 140,-38 170,-38 170,-21 140,-21\"/>\n",
       "<text text-anchor=\"start\" x=\"143\" y=\"-27\" font-family=\"Times,serif\" font-size=\"10.00\">Atom</text>\n",
       "<polygon fill=\"none\" stroke=\"black\" points=\"140,0 140,-21 170,-21 170,0 140,0\"/>\n",
       "<text text-anchor=\"start\" x=\"151.5\" y=\"-6.8\" font-family=\"Times,serif\" font-size=\"14.00\">q</text>\n",
       "</g>\n",
       "<!-- Split&#45;&gt;Atom_G2 -->\n",
       "<g id=\"edge4\" class=\"edge\">\n",
       "<title>Split:e-&gt;Atom_G2:w</title>\n",
       "<path fill=\"none\" stroke=\"black\" d=\"M103,-60C129.89,-60 113.32,-12.7 137.83,-10.11\"/>\n",
       "<ellipse fill=\"black\" stroke=\"black\" cx=\"139\" cy=\"-10.05\" rx=\"1\" ry=\"1\"/>\n",
       "<text text-anchor=\"middle\" x=\"121.5\" y=\"-39\" font-family=\"Times,serif\" font-size=\"10.00\">1</text>\n",
       "</g>\n",
       "<!-- Atom_G0&#45;&gt;Join -->\n",
       "<g id=\"edge5\" class=\"edge\">\n",
       "<title>Atom_G0:e-&gt;Join:w</title>\n",
       "<path fill=\"none\" stroke=\"black\" d=\"M170,-122C196.89,-122 180.32,-74.7 204.83,-72.11\"/>\n",
       "<ellipse fill=\"black\" stroke=\"black\" cx=\"206\" cy=\"-72.05\" rx=\"1\" ry=\"1\"/>\n",
       "<text text-anchor=\"middle\" x=\"188.5\" y=\"-101\" font-family=\"Times,serif\" font-size=\"10.00\">1</text>\n",
       "</g>\n",
       "<!-- Atom_G2&#45;&gt;Join -->\n",
       "<g id=\"edge7\" class=\"edge\">\n",
       "<title>Atom_G2:e-&gt;Join:w</title>\n",
       "<path fill=\"none\" stroke=\"black\" d=\"M170,-10C196.89,-10 180.32,-57.3 204.83,-59.89\"/>\n",
       "<ellipse fill=\"black\" stroke=\"black\" cx=\"206\" cy=\"-59.95\" rx=\"1\" ry=\"1\"/>\n",
       "<text text-anchor=\"middle\" x=\"188.5\" y=\"-39\" font-family=\"Times,serif\" font-size=\"10.00\">1</text>\n",
       "</g>\n",
       "</g>\n",
       "</svg>"
      ],
      "text/plain": [
       "<IPython.core.display.SVG object>"
      ]
     },
     "metadata": {},
     "output_type": "display_data"
    }
   ],
   "source": [
    "show_bloq(TestParallelBloq().decompose_bloq())"
   ]
  },
  {
   "cell_type": "markdown",
   "id": "bf300ec8",
   "metadata": {},
   "source": [
    "## Split and Join"
   ]
  },
  {
   "cell_type": "code",
   "execution_count": null,
   "id": "b3b1c260",
   "metadata": {},
   "outputs": [],
   "source": [
    "cbloq = Split(3)\n",
    "dr = DrawCls(cbloq)\n",
    "SVG(dr.get_graph().create_svg())"
   ]
  },
  {
   "cell_type": "code",
   "execution_count": null,
   "id": "47fac74e",
   "metadata": {},
   "outputs": [],
   "source": [
    "cbloq = Join(3)\n",
    "dr = DrawCls(cbloq)\n",
    "SVG(dr.get_graph().create_svg())"
   ]
  },
  {
   "cell_type": "markdown",
   "id": "c6e3ad7e",
   "metadata": {},
   "source": [
    "## SplitJoin"
   ]
  },
  {
   "cell_type": "code",
   "execution_count": null,
   "id": "57415820",
   "metadata": {},
   "outputs": [],
   "source": [
    "cbloq = SplitJoin(10)\n",
    "dr = DrawCls(cbloq)\n",
    "SVG(dr.get_graph().create_svg())"
   ]
  },
  {
   "cell_type": "code",
   "execution_count": null,
   "id": "ee2c2319",
   "metadata": {},
   "outputs": [],
   "source": [
    "cbloq = SplitJoin(10).decompose_bloq()\n",
    "dr = DrawCls(cbloq)\n",
    "SVG(dr.get_graph().create_svg())"
   ]
  },
  {
   "cell_type": "markdown",
   "id": "ba877cb7",
   "metadata": {},
   "source": [
    "## Partition"
   ]
  },
  {
   "cell_type": "code",
   "execution_count": null,
   "id": "74b4976c",
   "metadata": {},
   "outputs": [],
   "source": [
    "cbloq = Partition((2,8))\n",
    "dr = DrawCls(cbloq)\n",
    "SVG(dr.get_graph().create_svg())"
   ]
  },
  {
   "cell_type": "markdown",
   "id": "b0df6f4b",
   "metadata": {},
   "source": [
    "## And"
   ]
  },
  {
   "cell_type": "code",
   "execution_count": null,
   "id": "2cb1c17a",
   "metadata": {},
   "outputs": [],
   "source": [
    "cbloq = And()\n",
    "dr = DrawCls(cbloq)\n",
    "SVG(dr.get_graph().create_svg())"
   ]
  },
  {
   "cell_type": "markdown",
   "id": "018d0da4",
   "metadata": {},
   "source": [
    "## MultiAnd"
   ]
  },
  {
   "cell_type": "code",
   "execution_count": null,
   "id": "852e6bf3",
   "metadata": {},
   "outputs": [],
   "source": [
    "cbloq = MultiAnd((1,1,1,1))\n",
    "dr = DrawCls(cbloq)\n",
    "SVG(dr.get_graph().create_svg())"
   ]
  },
  {
   "cell_type": "code",
   "execution_count": null,
   "id": "fbe9d779",
   "metadata": {
    "scrolled": false
   },
   "outputs": [],
   "source": [
    "cbloq = MultiAnd((1,1,1,1)).decompose_bloq()\n",
    "dr = DrawCls(cbloq)\n",
    "SVG(dr.get_graph().create_svg())"
   ]
  },
  {
   "cell_type": "markdown",
   "id": "dccc520e",
   "metadata": {},
   "source": [
    "## ModMultiply"
   ]
  },
  {
   "cell_type": "code",
   "execution_count": null,
   "id": "c3744829",
   "metadata": {},
   "outputs": [],
   "source": [
    "import sympy\n",
    "from sympy import S\n",
    "cbloq = ModMultiply(exponent_bitsize=S(\"e\"), x_bitsize=S(\"n_x\"), mul_constant=123, mod_N=5)\n",
    "dr = DrawCls(cbloq)\n",
    "SVG(dr.get_graph().create_svg())"
   ]
  },
  {
   "cell_type": "code",
   "execution_count": null,
   "id": "546d3ca5",
   "metadata": {},
   "outputs": [],
   "source": [
    "cbloq = ModMultiply(exponent_bitsize=3, x_bitsize=S(\"n_x\"), mul_constant=123, mod_N=5).decompose_bloq()\n",
    "dr = DrawCls(cbloq)\n",
    "SVG(dr.get_graph().create_svg())"
   ]
  }
 ],
 "metadata": {
  "kernelspec": {
   "display_name": "Python 3 (ipykernel)",
   "language": "python",
   "name": "python3"
  },
  "language_info": {
   "codemirror_mode": {
    "name": "ipython",
    "version": 3
   },
   "file_extension": ".py",
   "mimetype": "text/x-python",
   "name": "python",
   "nbconvert_exporter": "python",
   "pygments_lexer": "ipython3",
   "version": "3.10.9"
  }
 },
 "nbformat": 4,
 "nbformat_minor": 5
}
