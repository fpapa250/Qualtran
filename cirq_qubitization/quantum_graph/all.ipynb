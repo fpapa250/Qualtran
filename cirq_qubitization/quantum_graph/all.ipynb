{
 "cells": [
  {
   "cell_type": "code",
   "execution_count": null,
   "id": "91aaec8f",
   "metadata": {
    "cq.autogen": "top_imports"
   },
   "outputs": [],
   "source": [
    "import cirq\n",
    "import numpy as np\n",
    "import cirq_qubitization\n",
    "import cirq_qubitization.testing as cq_testing\n",
    "from cirq_qubitization.jupyter_tools import display_gate_and_compilation\n",
    "from cirq.contrib.svg import SVGCircuit\n",
    "from typing import *\n",
    "from pprint import pprint"
   ]
  },
  {
   "cell_type": "code",
   "execution_count": null,
   "id": "718515b1",
   "metadata": {},
   "outputs": [],
   "source": [
    "from cirq_qubitization.quantum_graph.graphviz import GraphDrawer, PrettyGraphDrawer\n",
    "from IPython.display import SVG"
   ]
  },
  {
   "cell_type": "code",
   "execution_count": null,
   "id": "d022f65d",
   "metadata": {},
   "outputs": [],
   "source": [
    "from cirq_qubitization.quantum_graph.examples import *\n",
    "from cirq_qubitization.quantum_graph.util_bloqs import *"
   ]
  },
  {
   "cell_type": "code",
   "execution_count": null,
   "id": "49c1da89",
   "metadata": {},
   "outputs": [],
   "source": [
    "DrawCls = GraphDrawer\n",
    "DrawCls = PrettyGraphDrawer"
   ]
  },
  {
   "cell_type": "markdown",
   "id": "23748672",
   "metadata": {},
   "source": [
    "## TestBloq"
   ]
  },
  {
   "cell_type": "code",
   "execution_count": null,
   "id": "093e945b",
   "metadata": {},
   "outputs": [],
   "source": [
    "cbloq = TestBloq()\n",
    "dr = DrawCls(cbloq)\n",
    "SVG(dr.get_graph().create_svg())"
   ]
  },
  {
   "cell_type": "markdown",
   "id": "bf300ec8",
   "metadata": {},
   "source": [
    "## Split and Join"
   ]
  },
  {
   "cell_type": "code",
   "execution_count": null,
   "id": "b3b1c260",
   "metadata": {},
   "outputs": [],
   "source": [
    "cbloq = Split(3)\n",
    "dr = DrawCls(cbloq)\n",
    "SVG(dr.get_graph().create_svg())"
   ]
  },
  {
   "cell_type": "code",
   "execution_count": null,
   "id": "47fac74e",
   "metadata": {},
   "outputs": [],
   "source": [
    "cbloq = Join(3)\n",
    "dr = DrawCls(cbloq)\n",
    "SVG(dr.get_graph().create_svg())"
   ]
  },
  {
   "cell_type": "markdown",
   "id": "c6e3ad7e",
   "metadata": {},
   "source": [
    "## SplitJoin"
   ]
  },
  {
   "cell_type": "code",
   "execution_count": null,
   "id": "57415820",
   "metadata": {},
   "outputs": [],
   "source": [
    "cbloq = SplitJoin(10)\n",
    "dr = DrawCls(cbloq)\n",
    "SVG(dr.get_graph().create_svg())"
   ]
  },
  {
   "cell_type": "code",
   "execution_count": null,
   "id": "ee2c2319",
   "metadata": {},
   "outputs": [],
   "source": [
    "cbloq = SplitJoin(10).decompose_bloq()\n",
    "dr = DrawCls(cbloq)\n",
    "SVG(dr.get_graph().create_svg())"
   ]
  },
  {
   "cell_type": "markdown",
   "id": "ba877cb7",
   "metadata": {},
   "source": [
    "## Partition"
   ]
  },
  {
   "cell_type": "code",
   "execution_count": null,
   "id": "74b4976c",
   "metadata": {},
   "outputs": [],
   "source": [
    "cbloq = Partition((2,8))\n",
    "dr = DrawCls(cbloq)\n",
    "SVG(dr.get_graph().create_svg())"
   ]
  },
  {
   "cell_type": "markdown",
   "id": "b0df6f4b",
   "metadata": {},
   "source": [
    "## And"
   ]
  },
  {
   "cell_type": "code",
   "execution_count": null,
   "id": "2cb1c17a",
   "metadata": {},
   "outputs": [],
   "source": [
    "cbloq = And()\n",
    "dr = DrawCls(cbloq)\n",
    "SVG(dr.get_graph().create_svg())"
   ]
  },
  {
   "cell_type": "markdown",
   "id": "018d0da4",
   "metadata": {},
   "source": [
    "## MultiAnd"
   ]
  },
  {
   "cell_type": "code",
   "execution_count": null,
   "id": "852e6bf3",
   "metadata": {},
   "outputs": [],
   "source": [
    "cbloq = MultiAnd((1,1,1,1))\n",
    "dr = DrawCls(cbloq)\n",
    "SVG(dr.get_graph().create_svg())"
   ]
  },
  {
   "cell_type": "code",
   "execution_count": null,
   "id": "fbe9d779",
   "metadata": {
    "scrolled": false
   },
   "outputs": [],
   "source": [
    "cbloq = MultiAnd((1,1,1,1)).decompose_bloq()\n",
    "dr = DrawCls(cbloq)\n",
    "SVG(dr.get_graph().create_svg())"
   ]
  },
  {
   "cell_type": "markdown",
   "id": "dccc520e",
   "metadata": {},
   "source": [
    "## ModMultiply"
   ]
  },
  {
   "cell_type": "code",
   "execution_count": null,
   "id": "c3744829",
   "metadata": {},
   "outputs": [],
   "source": [
    "import sympy\n",
    "from sympy import S\n",
    "cbloq = ModMultiply(exponent_bitsize=S(\"e\"), x_bitsize=S(\"n_x\"), mul_constant=123, mod_N=5)\n",
    "dr = DrawCls(cbloq)\n",
    "SVG(dr.get_graph().create_svg())"
   ]
  },
  {
   "cell_type": "code",
   "execution_count": null,
   "id": "546d3ca5",
   "metadata": {},
   "outputs": [],
   "source": [
    "cbloq = ModMultiply(exponent_bitsize=3, x_bitsize=S(\"n_x\"), mul_constant=123, mod_N=5).decompose_bloq()\n",
    "dr = DrawCls(cbloq)\n",
    "SVG(dr.get_graph().create_svg())"
   ]
  }
 ],
 "metadata": {
  "kernelspec": {
   "display_name": "Python 3 (ipykernel)",
   "language": "python",
   "name": "python3"
  },
  "language_info": {
   "codemirror_mode": {
    "name": "ipython",
    "version": 3
   },
   "file_extension": ".py",
   "mimetype": "text/x-python",
   "name": "python",
   "nbconvert_exporter": "python",
   "pygments_lexer": "ipython3",
   "version": "3.9.13"
  }
 },
 "nbformat": 4,
 "nbformat_minor": 5
}
