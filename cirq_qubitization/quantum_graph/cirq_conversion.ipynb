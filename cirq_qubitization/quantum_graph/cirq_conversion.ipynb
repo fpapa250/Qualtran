{
 "cells": [
  {
   "cell_type": "markdown",
   "id": "eb6226ee",
   "metadata": {},
   "source": [
    "# Cirq Conversion"
   ]
  },
  {
   "cell_type": "code",
   "execution_count": null,
   "id": "a2aee820",
   "metadata": {},
   "outputs": [],
   "source": [
    "import cirq\n",
    "from cirq.contrib.svg import SVGCircuit\n",
    "\n",
    "from cirq_qubitization.quantum_graph.composite_bloq import CompositeBloq\n",
    "from cirq_qubitization.jupyter_tools import show_bloq"
   ]
  },
  {
   "cell_type": "markdown",
   "id": "1e14d29e",
   "metadata": {},
   "source": [
    "## Using Cirq gates from Bloqs\n",
    "\n",
    " - `CirqGateAsBloq(gate)` lets you use any Cirq gate in your composite bloqs.\n",
    " - `CompositeBloq.from_cirq_circuit(circuit)` lets you turn any Cirq circuit into an equivalent `CompositeBloq`. Each subbloq will be a `CirqGateAsBloq` wrapper."
   ]
  },
  {
   "cell_type": "markdown",
   "id": "5dd2cc96",
   "metadata": {},
   "source": [
    "### `CirqGateAsBloq`\n",
    "\n",
    "This wrapper uses the Cirq \"calling convention\" of one thru-register composted of a 1d array of qubits."
   ]
  },
  {
   "cell_type": "code",
   "execution_count": null,
   "id": "02cb4281",
   "metadata": {},
   "outputs": [],
   "source": [
    "from cirq_qubitization.quantum_graph.cirq_conversion import CirqGateAsBloq\n",
    "\n",
    "cgab = CirqGateAsBloq(cirq.CNOT)\n",
    "print(cgab)\n",
    "for reg in cgab.registers:\n",
    "    print(' ', reg)"
   ]
  },
  {
   "cell_type": "code",
   "execution_count": null,
   "id": "8ba385b0",
   "metadata": {},
   "outputs": [],
   "source": [
    "show_bloq(cgab)"
   ]
  },
  {
   "cell_type": "markdown",
   "id": "847b01e7",
   "metadata": {},
   "source": [
    "### `CompositeBloq.from_cirq_circuit`\n",
    "\n",
    "A Cirq circuit can be converted to a composite bloq by wrapping each operation with the `CirqGateAsBloq` wrapper. "
   ]
  },
  {
   "cell_type": "code",
   "execution_count": null,
   "id": "3fa0b8e9",
   "metadata": {},
   "outputs": [],
   "source": [
    "# Make a random cirq circuit\n",
    "qubits = cirq.LineQubit.range(4)\n",
    "circuit = cirq.testing.random_circuit(qubits, n_moments=5, op_density=1.0, random_state=52)\n",
    "\n",
    "# Convert to CompositeBloq\n",
    "cbloq = CompositeBloq.from_cirq_circuit(circuit)\n",
    "display(SVGCircuit(circuit))\n",
    "display(show_bloq(cbloq))"
   ]
  },
  {
   "cell_type": "markdown",
   "id": "5d9997f4",
   "metadata": {},
   "source": [
    "### Unitaries\n",
    "\n",
    "Both containers support numerical contraction to a dense unitary matrix. Cirq contracts operations into a large identity matrix \"in order\". Bloqs use `quimb` to find a good contraction ordering and perform the contraction. "
   ]
  },
  {
   "cell_type": "code",
   "execution_count": null,
   "id": "85a40f2a",
   "metadata": {},
   "outputs": [],
   "source": [
    "import numpy as np\n",
    "\n",
    "bloq_unitary = cbloq.tensor_contract()\n",
    "cirq_unitary = circuit.unitary(qubits)\n",
    "np.testing.assert_allclose(cirq_unitary, bloq_unitary, atol=1e-8)"
   ]
  },
  {
   "cell_type": "markdown",
   "id": "2fe60767",
   "metadata": {},
   "source": [
    "### Back to `cirq.Circuit`"
   ]
  },
  {
   "cell_type": "code",
   "execution_count": null,
   "id": "97be35a3",
   "metadata": {},
   "outputs": [],
   "source": [
    "# Note: a 1d `wireshape` bloq register is actually two-dimensional in cirq-world\n",
    "# because of the implicit `bitsize` dimension (which must be explicit in cirq-world).\n",
    "# CirqGateAsBloq has registers of bitsize=1 and wireshape=(n,); hence the list transpose below.\n",
    "circuit2 = cbloq.to_cirq_circuit({'qubits': [[q] for q in qubits]})\n",
    "SVGCircuit(circuit2)"
   ]
  },
  {
   "cell_type": "code",
   "execution_count": null,
   "id": "f95dbe1d",
   "metadata": {},
   "outputs": [],
   "source": [
    "# We lose the moment structure during the roundtrip.\n",
    "circuit == circuit2"
   ]
  },
  {
   "cell_type": "code",
   "execution_count": null,
   "id": "ce93a502",
   "metadata": {},
   "outputs": [],
   "source": [
    "# But the left-aligned `circuit` is recovered.\n",
    "cirq.Circuit(circuit.all_operations()) == circuit2"
   ]
  },
  {
   "cell_type": "markdown",
   "id": "03f03231",
   "metadata": {},
   "source": [
    "## Converting Bloqs to Cirq objects\n",
    "\n",
    " - `Bloq.as_cirq_op` is an overridable method to declare what cirq operation corresponds to a bloq.\n",
    " - `CompositeBloq.to_cirq_circuit` will export a CompositeBloq to a cirq circuit.\n",
    " - `BloqAsCirqGate` provides a shim for using bloqs in cirq circuits automatically."
   ]
  },
  {
   "cell_type": "markdown",
   "id": "6efb079b",
   "metadata": {},
   "source": [
    "### `as_cirq_op` \n",
    "\n",
    "Bloqs can override `as_cirq_op` to optionally declare their corresponding Cirq operation."
   ]
  },
  {
   "cell_type": "code",
   "execution_count": null,
   "id": "9aa00801",
   "metadata": {},
   "outputs": [],
   "source": [
    "# TODO: show a bloq definition"
   ]
  },
  {
   "cell_type": "markdown",
   "id": "ca594c53",
   "metadata": {},
   "source": [
    "### `CompositeBloq.to_cirq_circuit`\n",
    "\n",
    "A composite bloq can be turned into a circuit composed of the result of `as_cirq_op` for each of the subbloqs."
   ]
  },
  {
   "cell_type": "code",
   "execution_count": null,
   "id": "4b4be2a0",
   "metadata": {},
   "outputs": [],
   "source": [
    "# TODO: show a composite bloq"
   ]
  },
  {
   "cell_type": "markdown",
   "id": "01bf3b99",
   "metadata": {},
   "source": [
    "### `BloqAsCirqGate`\n",
    "\n",
    "The default behavior of `as_cirq_op` will shim the bloq into this object which lets you use a bloq in cirq circuits."
   ]
  },
  {
   "cell_type": "code",
   "execution_count": null,
   "id": "c36205ba",
   "metadata": {},
   "outputs": [],
   "source": [
    "# TODO: show example"
   ]
  },
  {
   "cell_type": "markdown",
   "id": "6b16c692",
   "metadata": {},
   "source": [
    "### Allocation and de-allocation\n",
    "\n",
    "TODO: describe"
   ]
  },
  {
   "cell_type": "code",
   "execution_count": null,
   "id": "7b846fba",
   "metadata": {},
   "outputs": [],
   "source": [
    "from cirq_qubitization.bloq_algos.and_bloq import MultiAnd\n",
    "\n",
    "multi_and = MultiAnd(cvs=(1, 1, 1, 1))"
   ]
  },
  {
   "cell_type": "code",
   "execution_count": null,
   "id": "0f13f658",
   "metadata": {},
   "outputs": [],
   "source": [
    "cirq_quregs = multi_and.registers.get_cirq_quregs()\n",
    "cirq_quregs"
   ]
  },
  {
   "cell_type": "code",
   "execution_count": null,
   "id": "a956c712",
   "metadata": {},
   "outputs": [],
   "source": [
    "multi_and_circuit = multi_and.decompose_bloq().to_cirq_circuit(cirq_quregs)\n",
    "SVGCircuit(multi_and_circuit)"
   ]
  },
  {
   "cell_type": "code",
   "execution_count": null,
   "id": "fb2890bd",
   "metadata": {},
   "outputs": [],
   "source": [
    "# Note: our dictionary is mutated. We can figure out the\n",
    "# identity of the allocated qubits.\n",
    "cirq_quregs"
   ]
  }
 ],
 "metadata": {
  "kernelspec": {
   "display_name": "Python 3 (ipykernel)",
   "language": "python",
   "name": "python3"
  },
  "language_info": {
   "codemirror_mode": {
    "name": "ipython",
    "version": 3
   },
   "file_extension": ".py",
   "mimetype": "text/x-python",
   "name": "python",
   "nbconvert_exporter": "python",
   "pygments_lexer": "ipython3",
   "version": "3.10.9"
  }
 },
 "nbformat": 4,
 "nbformat_minor": 5
}
