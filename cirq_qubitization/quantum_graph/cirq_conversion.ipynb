{
 "cells": [
  {
   "cell_type": "markdown",
   "id": "eb6226ee",
   "metadata": {},
   "source": [
    "# Cirq Conversion"
   ]
  },
  {
   "cell_type": "code",
   "execution_count": 1,
   "id": "a2aee820",
   "metadata": {},
   "outputs": [],
   "source": [
    "import cirq\n",
    "from cirq.contrib.svg import SVGCircuit\n",
    "\n",
    "from cirq_qubitization.quantum_graph.composite_bloq import CompositeBloq\n",
    "from cirq_qubitization.jupyter_tools import show_bloq"
   ]
  },
  {
   "cell_type": "markdown",
   "id": "1e14d29e",
   "metadata": {},
   "source": [
    "## Using Cirq gates from Bloqs\n",
    "\n",
    " - `CirqGateAsBloq(gate)` lets you use any Cirq gate in your composite bloqs.\n",
    " - `CompositeBloq.from_cirq_circuit(circuit)` lets you turn any Cirq circuit into an equivalent `CompositeBloq`. Each subbloq will be a `CirqGateAsBloq` wrapper."
   ]
  },
  {
   "cell_type": "markdown",
   "id": "5dd2cc96",
   "metadata": {},
   "source": [
    "### `CirqGateAsBloq`\n",
    "\n",
    "This wrapper uses the Cirq \"calling convention\" of one thru-register composted of a 1d array of qubits."
   ]
  },
  {
   "cell_type": "code",
   "execution_count": 2,
   "id": "02cb4281",
   "metadata": {},
   "outputs": [
    {
     "name": "stdout",
     "output_type": "stream",
     "text": [
      "CirqGateAsBloq(gate=cirq.CNOT)\n",
      "  FancyRegister(name='qubits', bitsize=1, wireshape=(2,), side=<Side.THRU: 3>)\n"
     ]
    }
   ],
   "source": [
    "from cirq_qubitization.quantum_graph.cirq_conversion import CirqGateAsBloq\n",
    "\n",
    "cgab = CirqGateAsBloq(cirq.CNOT)\n",
    "print(cgab)\n",
    "for reg in cgab.registers:\n",
    "    print(' ', reg)"
   ]
  },
  {
   "cell_type": "code",
   "execution_count": 3,
   "id": "8ba385b0",
   "metadata": {},
   "outputs": [
    {
     "data": {
      "image/svg+xml": [
       "<svg xmlns=\"http://www.w3.org/2000/svg\" xmlns:xlink=\"http://www.w3.org/1999/xlink\" width=\"264pt\" height=\"98pt\" viewBox=\"0.00 0.00 264.00 98.00\">\n",
       "<g id=\"graph0\" class=\"graph\" transform=\"scale(1 1) rotate(0) translate(4 94)\">\n",
       "<title>my_graph</title>\n",
       "<polygon fill=\"white\" stroke=\"transparent\" points=\"-4,4 -4,-94 260,-94 260,4 -4,4\"/>\n",
       "<!-- qubits_G3 -->\n",
       "<g id=\"node1\" class=\"node\">\n",
       "<title>qubits_G3</title>\n",
       "<text text-anchor=\"middle\" x=\"32.5\" y=\"-68.3\" font-family=\"Times,serif\" font-size=\"14.00\">qubits[0]</text>\n",
       "</g>\n",
       "<!-- CirqGateAsBloq -->\n",
       "<g id=\"node3\" class=\"node\">\n",
       "<title>CirqGateAsBloq</title>\n",
       "<polygon fill=\"none\" stroke=\"black\" points=\"102,-66 102,-83 154,-83 154,-66 102,-66\"/>\n",
       "<text text-anchor=\"start\" x=\"105\" y=\"-72\" font-family=\"Times,serif\" font-size=\"10.00\">cirq.CNOT</text>\n",
       "<polygon fill=\"none\" stroke=\"black\" points=\"102,-45 102,-66 154,-66 154,-45 102,-45\"/>\n",
       "<text text-anchor=\"start\" x=\"121\" y=\"-51.8\" font-family=\"Times,serif\" font-size=\"14.00\">q0</text>\n",
       "<polygon fill=\"none\" stroke=\"black\" points=\"102,-24 102,-45 154,-45 154,-24 102,-24\"/>\n",
       "<text text-anchor=\"start\" x=\"121\" y=\"-30.8\" font-family=\"Times,serif\" font-size=\"14.00\">q1</text>\n",
       "</g>\n",
       "<!-- qubits_G3&#45;&gt;CirqGateAsBloq -->\n",
       "<g id=\"edge1\" class=\"edge\">\n",
       "<title>qubits_G3:e-&gt;CirqGateAsBloq:w</title>\n",
       "<path fill=\"none\" stroke=\"black\" d=\"M65,-72C82.22,-72 83.97,-57.23 99.98,-56.07\"/>\n",
       "<ellipse fill=\"black\" stroke=\"black\" cx=\"101\" cy=\"-56.04\" rx=\"1\" ry=\"1\"/>\n",
       "<text text-anchor=\"middle\" x=\"83.5\" y=\"-67\" font-family=\"Times,serif\" font-size=\"10.00\">1</text>\n",
       "</g>\n",
       "<!-- qubits_G0 -->\n",
       "<g id=\"node2\" class=\"node\">\n",
       "<title>qubits_G0</title>\n",
       "<text text-anchor=\"middle\" x=\"32.5\" y=\"-14.3\" font-family=\"Times,serif\" font-size=\"14.00\">qubits[1]</text>\n",
       "</g>\n",
       "<!-- qubits_G0&#45;&gt;CirqGateAsBloq -->\n",
       "<g id=\"edge2\" class=\"edge\">\n",
       "<title>qubits_G0:e-&gt;CirqGateAsBloq:w</title>\n",
       "<path fill=\"none\" stroke=\"black\" d=\"M65,-18C82.22,-18 83.97,-32.77 99.98,-33.93\"/>\n",
       "<ellipse fill=\"black\" stroke=\"black\" cx=\"101\" cy=\"-33.96\" rx=\"1\" ry=\"1\"/>\n",
       "<text text-anchor=\"middle\" x=\"83.5\" y=\"-29\" font-family=\"Times,serif\" font-size=\"10.00\">1</text>\n",
       "</g>\n",
       "<!-- qubits_G2 -->\n",
       "<g id=\"node4\" class=\"node\">\n",
       "<title>qubits_G2</title>\n",
       "<text text-anchor=\"middle\" x=\"223.5\" y=\"-68.3\" font-family=\"Times,serif\" font-size=\"14.00\">qubits[0]</text>\n",
       "</g>\n",
       "<!-- CirqGateAsBloq&#45;&gt;qubits_G2 -->\n",
       "<g id=\"edge3\" class=\"edge\">\n",
       "<title>CirqGateAsBloq:e-&gt;qubits_G2:w</title>\n",
       "<path fill=\"none\" stroke=\"black\" d=\"M154,-56C171.22,-56 172.97,-70.77 188.98,-71.93\"/>\n",
       "<ellipse fill=\"black\" stroke=\"black\" cx=\"190\" cy=\"-71.96\" rx=\"1\" ry=\"1\"/>\n",
       "<text text-anchor=\"middle\" x=\"172.5\" y=\"-67\" font-family=\"Times,serif\" font-size=\"10.00\">1</text>\n",
       "</g>\n",
       "<!-- qubits_G5 -->\n",
       "<g id=\"node5\" class=\"node\">\n",
       "<title>qubits_G5</title>\n",
       "<text text-anchor=\"middle\" x=\"223.5\" y=\"-14.3\" font-family=\"Times,serif\" font-size=\"14.00\">qubits[1]</text>\n",
       "</g>\n",
       "<!-- CirqGateAsBloq&#45;&gt;qubits_G5 -->\n",
       "<g id=\"edge4\" class=\"edge\">\n",
       "<title>CirqGateAsBloq:e-&gt;qubits_G5:w</title>\n",
       "<path fill=\"none\" stroke=\"black\" d=\"M154,-34C171.22,-34 172.97,-19.23 188.98,-18.07\"/>\n",
       "<ellipse fill=\"black\" stroke=\"black\" cx=\"190\" cy=\"-18.04\" rx=\"1\" ry=\"1\"/>\n",
       "<text text-anchor=\"middle\" x=\"172.5\" y=\"-29\" font-family=\"Times,serif\" font-size=\"10.00\">1</text>\n",
       "</g>\n",
       "</g>\n",
       "</svg>"
      ],
      "text/plain": [
       "<IPython.core.display.SVG object>"
      ]
     },
     "execution_count": 3,
     "metadata": {},
     "output_type": "execute_result"
    }
   ],
   "source": [
    "show_bloq(cgab)"
   ]
  },
  {
   "cell_type": "markdown",
   "id": "847b01e7",
   "metadata": {},
   "source": [
    "### `CompositeBloq.from_cirq_circuit`\n",
    "\n",
    "A Cirq circuit can be converted to a composite bloq by wrapping each operation with the `CirqGateAsBloq` wrapper. "
   ]
  },
  {
   "cell_type": "code",
   "execution_count": 4,
   "id": "3fa0b8e9",
   "metadata": {},
   "outputs": [
    {
     "name": "stderr",
     "output_type": "stream",
     "text": [
      "findfont: Font family 'Arial' not found.\n",
      "findfont: Font family 'Arial' not found.\n",
      "findfont: Font family 'Arial' not found.\n",
      "findfont: Font family 'Arial' not found.\n",
      "findfont: Font family 'Arial' not found.\n",
      "findfont: Font family 'Arial' not found.\n",
      "findfont: Font family 'Arial' not found.\n",
      "findfont: Font family 'Arial' not found.\n",
      "findfont: Font family 'Arial' not found.\n",
      "findfont: Font family 'Arial' not found.\n",
      "findfont: Font family 'Arial' not found.\n",
      "findfont: Font family 'Arial' not found.\n",
      "findfont: Font family 'Arial' not found.\n",
      "findfont: Font family 'Arial' not found.\n",
      "findfont: Font family 'Arial' not found.\n",
      "findfont: Font family 'Arial' not found.\n",
      "findfont: Font family 'Arial' not found.\n",
      "findfont: Font family 'Arial' not found.\n",
      "findfont: Font family 'Arial' not found.\n",
      "findfont: Font family 'Arial' not found.\n",
      "findfont: Font family 'Arial' not found.\n"
     ]
    },
    {
     "data": {
      "image/svg+xml": [
       "<svg xmlns=\"http://www.w3.org/2000/svg\" width=\"489.6087890625\" height=\"240.0\"><line x1=\"30.0\" x2=\"459.6087890625\" y1=\"45.0\" y2=\"45.0\" stroke=\"#1967d2\" stroke-width=\"1\" /><line x1=\"30.0\" x2=\"459.6087890625\" y1=\"95.0\" y2=\"95.0\" stroke=\"#1967d2\" stroke-width=\"1\" /><line x1=\"30.0\" x2=\"459.6087890625\" y1=\"145.0\" y2=\"145.0\" stroke=\"#1967d2\" stroke-width=\"1\" /><line x1=\"30.0\" x2=\"459.6087890625\" y1=\"195.0\" y2=\"195.0\" stroke=\"#1967d2\" stroke-width=\"1\" /><line x1=\"289.6087890625\" x2=\"379.6087890625\" y1=\"5.0\" y2=\"5.0\" stroke=\"black\" stroke-width=\"1\" /><line x1=\"289.6087890625\" x2=\"379.6087890625\" y1=\"235.0\" y2=\"235.0\" stroke=\"black\" stroke-width=\"1\" /><line x1=\"120.0\" x2=\"219.6087890625\" y1=\"5.0\" y2=\"5.0\" stroke=\"black\" stroke-width=\"1\" /><line x1=\"120.0\" x2=\"219.6087890625\" y1=\"235.0\" y2=\"235.0\" stroke=\"black\" stroke-width=\"1\" /><line x1=\"90.0\" x2=\"90.0\" y1=\"145.0\" y2=\"195.0\" stroke=\"black\" stroke-width=\"3\" /><line x1=\"144.80439453125\" x2=\"144.80439453125\" y1=\"45.0\" y2=\"145.0\" stroke=\"black\" stroke-width=\"3\" /><line x1=\"189.6087890625\" x2=\"189.6087890625\" y1=\"95.0\" y2=\"195.0\" stroke=\"black\" stroke-width=\"3\" /><line x1=\"349.6087890625\" x2=\"349.6087890625\" y1=\"45.0\" y2=\"195.0\" stroke=\"black\" stroke-width=\"3\" /><line x1=\"419.6087890625\" x2=\"419.6087890625\" y1=\"95.0\" y2=\"145.0\" stroke=\"black\" stroke-width=\"3\" /><line x1=\"289.6087890625\" x2=\"289.6087890625\" y1=\"5.0\" y2=\"15.0\" stroke=\"black\" stroke-width=\"3\" /><line x1=\"379.6087890625\" x2=\"379.6087890625\" y1=\"5.0\" y2=\"15.0\" stroke=\"black\" stroke-width=\"3\" /><line x1=\"289.6087890625\" x2=\"289.6087890625\" y1=\"225.0\" y2=\"235.0\" stroke=\"black\" stroke-width=\"3\" /><line x1=\"379.6087890625\" x2=\"379.6087890625\" y1=\"225.0\" y2=\"235.0\" stroke=\"black\" stroke-width=\"3\" /><line x1=\"120.0\" x2=\"120.0\" y1=\"5.0\" y2=\"15.0\" stroke=\"black\" stroke-width=\"3\" /><line x1=\"219.6087890625\" x2=\"219.6087890625\" y1=\"5.0\" y2=\"15.0\" stroke=\"black\" stroke-width=\"3\" /><line x1=\"120.0\" x2=\"120.0\" y1=\"225.0\" y2=\"235.0\" stroke=\"black\" stroke-width=\"3\" /><line x1=\"219.6087890625\" x2=\"219.6087890625\" y1=\"225.0\" y2=\"235.0\" stroke=\"black\" stroke-width=\"3\" /><rect x=\"10.0\" y=\"25.0\" width=\"40\" height=\"40\" stroke=\"black\" fill=\"white\" stroke-width=\"0\" /><text x=\"30.0\" y=\"45.0\" dominant-baseline=\"middle\" text-anchor=\"middle\" font-size=\"14px\" font-family=\"Arial\">0: </text><rect x=\"10.0\" y=\"75.0\" width=\"40\" height=\"40\" stroke=\"black\" fill=\"white\" stroke-width=\"0\" /><text x=\"30.0\" y=\"95.0\" dominant-baseline=\"middle\" text-anchor=\"middle\" font-size=\"14px\" font-family=\"Arial\">1: </text><rect x=\"10.0\" y=\"125.0\" width=\"40\" height=\"40\" stroke=\"black\" fill=\"white\" stroke-width=\"0\" /><text x=\"30.0\" y=\"145.0\" dominant-baseline=\"middle\" text-anchor=\"middle\" font-size=\"14px\" font-family=\"Arial\">2: </text><rect x=\"10.0\" y=\"175.0\" width=\"40\" height=\"40\" stroke=\"black\" fill=\"white\" stroke-width=\"0\" /><text x=\"30.0\" y=\"195.0\" dominant-baseline=\"middle\" text-anchor=\"middle\" font-size=\"14px\" font-family=\"Arial\">3: </text><text x=\"90.0\" y=\"198.0\" dominant-baseline=\"middle\" text-anchor=\"middle\" font-size=\"40px\" font-family=\"Arial\">×</text><text x=\"90.0\" y=\"148.0\" dominant-baseline=\"middle\" text-anchor=\"middle\" font-size=\"40px\" font-family=\"Arial\">×</text><rect x=\"70.0\" y=\"75.0\" width=\"40\" height=\"40\" stroke=\"black\" fill=\"white\" stroke-width=\"1\" /><text x=\"90.0\" y=\"95.0\" dominant-baseline=\"middle\" text-anchor=\"middle\" font-size=\"18px\" font-family=\"Arial\">X</text><rect x=\"120.00000000000001\" y=\"25.0\" width=\"49.6087890625\" height=\"40\" stroke=\"black\" fill=\"white\" stroke-width=\"1\" /><text x=\"144.80439453125\" y=\"45.0\" dominant-baseline=\"middle\" text-anchor=\"middle\" font-size=\"14px\" font-family=\"Arial\">iSwap</text><rect x=\"120.00000000000001\" y=\"125.0\" width=\"49.6087890625\" height=\"40\" stroke=\"black\" fill=\"white\" stroke-width=\"1\" /><text x=\"144.80439453125\" y=\"145.0\" dominant-baseline=\"middle\" text-anchor=\"middle\" font-size=\"14px\" font-family=\"Arial\">iSwap</text><circle cx=\"189.6087890625\" cy=\"195.0\" r=\"10.0\" /><circle cx=\"189.6087890625\" cy=\"95.0\" r=\"10.0\" /><rect x=\"239.60878906250002\" y=\"25.0\" width=\"40\" height=\"40\" stroke=\"black\" fill=\"white\" stroke-width=\"1\" /><text x=\"259.6087890625\" y=\"45.0\" dominant-baseline=\"middle\" text-anchor=\"middle\" font-size=\"18px\" font-family=\"Arial\">T</text><rect x=\"239.60878906250002\" y=\"175.0\" width=\"40\" height=\"40\" stroke=\"black\" fill=\"white\" stroke-width=\"1\" /><text x=\"259.6087890625\" y=\"195.0\" dominant-baseline=\"middle\" text-anchor=\"middle\" font-size=\"18px\" font-family=\"Arial\">T</text><rect x=\"239.60878906250002\" y=\"125.0\" width=\"40\" height=\"40\" stroke=\"black\" fill=\"white\" stroke-width=\"1\" /><text x=\"259.6087890625\" y=\"145.0\" dominant-baseline=\"middle\" text-anchor=\"middle\" font-size=\"18px\" font-family=\"Arial\">S</text><rect x=\"289.6087890625\" y=\"75.0\" width=\"40\" height=\"40\" stroke=\"black\" fill=\"white\" stroke-width=\"1\" /><text x=\"309.6087890625\" y=\"95.0\" dominant-baseline=\"middle\" text-anchor=\"middle\" font-size=\"18px\" font-family=\"Arial\">X</text><rect x=\"289.6087890625\" y=\"125.0\" width=\"40\" height=\"40\" stroke=\"black\" fill=\"white\" stroke-width=\"1\" /><text x=\"309.6087890625\" y=\"145.0\" dominant-baseline=\"middle\" text-anchor=\"middle\" font-size=\"18px\" font-family=\"Arial\">S</text><circle cx=\"349.6087890625\" cy=\"195.0\" r=\"10.0\" /><circle cx=\"349.6087890625\" cy=\"45.0\" r=\"10.0\" /><rect x=\"399.6087890625\" y=\"25.0\" width=\"40\" height=\"40\" stroke=\"black\" fill=\"white\" stroke-width=\"1\" /><text x=\"419.6087890625\" y=\"45.0\" dominant-baseline=\"middle\" text-anchor=\"middle\" font-size=\"18px\" font-family=\"Arial\">T</text><circle cx=\"419.6087890625\" cy=\"145.0\" r=\"10.0\" /><rect x=\"399.6087890625\" y=\"75.0\" width=\"40\" height=\"40\" stroke=\"black\" fill=\"white\" stroke-width=\"1\" /><text x=\"419.6087890625\" y=\"95.0\" dominant-baseline=\"middle\" text-anchor=\"middle\" font-size=\"18px\" font-family=\"Arial\">X</text></svg>"
      ],
      "text/plain": [
       "<cirq.contrib.svg.svg.SVGCircuit at 0x7f39ca0e2680>"
      ]
     },
     "metadata": {},
     "output_type": "display_data"
    },
    {
     "data": {
      "image/svg+xml": [
       "<svg xmlns=\"http://www.w3.org/2000/svg\" xmlns:xlink=\"http://www.w3.org/1999/xlink\" width=\"616pt\" height=\"236pt\" viewBox=\"0.00 0.00 616.00 236.00\">\n",
       "<g id=\"graph0\" class=\"graph\" transform=\"scale(1 1) rotate(0) translate(4 232)\">\n",
       "<title>my_graph</title>\n",
       "<polygon fill=\"white\" stroke=\"transparent\" points=\"-4,4 -4,-232 612,-232 612,4 -4,4\"/>\n",
       "<!-- qubits_G32 -->\n",
       "<g id=\"node1\" class=\"node\">\n",
       "<title>qubits_G32</title>\n",
       "<text text-anchor=\"middle\" x=\"32.5\" y=\"-176.3\" font-family=\"Times,serif\" font-size=\"14.00\">qubits[0]</text>\n",
       "</g>\n",
       "<!-- CirqGateAsBloq_G18 -->\n",
       "<g id=\"node15\" class=\"node\">\n",
       "<title>CirqGateAsBloq_G18</title>\n",
       "<polygon fill=\"none\" stroke=\"black\" points=\"190,-176 190,-193 244,-193 244,-176 190,-176\"/>\n",
       "<text text-anchor=\"start\" x=\"193\" y=\"-182\" font-family=\"Times,serif\" font-size=\"10.00\">cirq.ISWAP</text>\n",
       "<polygon fill=\"none\" stroke=\"black\" points=\"190,-155 190,-176 244,-176 244,-155 190,-155\"/>\n",
       "<text text-anchor=\"start\" x=\"210\" y=\"-161.8\" font-family=\"Times,serif\" font-size=\"14.00\">q0</text>\n",
       "<polygon fill=\"none\" stroke=\"black\" points=\"190,-134 190,-155 244,-155 244,-134 190,-134\"/>\n",
       "<text text-anchor=\"start\" x=\"210\" y=\"-140.8\" font-family=\"Times,serif\" font-size=\"14.00\">q1</text>\n",
       "</g>\n",
       "<!-- qubits_G32&#45;&gt;CirqGateAsBloq_G18 -->\n",
       "<g id=\"edge4\" class=\"edge\">\n",
       "<title>qubits_G32:e-&gt;CirqGateAsBloq_G18:w</title>\n",
       "<path fill=\"none\" stroke=\"black\" d=\"M65,-180C120.14,-180 133.73,-166.38 187.73,-166.01\"/>\n",
       "<ellipse fill=\"black\" stroke=\"black\" cx=\"189\" cy=\"-166\" rx=\"1\" ry=\"1\"/>\n",
       "<text text-anchor=\"middle\" x=\"127.5\" y=\"-180\" font-family=\"Times,serif\" font-size=\"10.00\">1</text>\n",
       "</g>\n",
       "<!-- qubits_G29 -->\n",
       "<g id=\"node2\" class=\"node\">\n",
       "<title>qubits_G29</title>\n",
       "<text text-anchor=\"middle\" x=\"32.5\" y=\"-14.3\" font-family=\"Times,serif\" font-size=\"14.00\">qubits[1]</text>\n",
       "</g>\n",
       "<!-- CirqGateAsBloq_G8 -->\n",
       "<g id=\"node10\" class=\"node\">\n",
       "<title>CirqGateAsBloq_G8</title>\n",
       "<polygon fill=\"none\" stroke=\"black\" points=\"111.5,-36 111.5,-53 143.5,-53 143.5,-36 111.5,-36\"/>\n",
       "<text text-anchor=\"start\" x=\"114.5\" y=\"-42\" font-family=\"Times,serif\" font-size=\"10.00\">cirq.X</text>\n",
       "<polygon fill=\"none\" stroke=\"black\" points=\"111.5,-15 111.5,-36 143.5,-36 143.5,-15 111.5,-15\"/>\n",
       "<text text-anchor=\"start\" x=\"120.5\" y=\"-21.8\" font-family=\"Times,serif\" font-size=\"14.00\">q0</text>\n",
       "</g>\n",
       "<!-- qubits_G29&#45;&gt;CirqGateAsBloq_G8 -->\n",
       "<g id=\"edge3\" class=\"edge\">\n",
       "<title>qubits_G29:e-&gt;CirqGateAsBloq_G8:w</title>\n",
       "<path fill=\"none\" stroke=\"black\" d=\"M65,-18C84.66,-18 89.66,-24.46 108.17,-24.97\"/>\n",
       "<ellipse fill=\"black\" stroke=\"black\" cx=\"109.5\" cy=\"-24.99\" rx=\"1\" ry=\"1\"/>\n",
       "<text text-anchor=\"middle\" x=\"83.5\" y=\"-24\" font-family=\"Times,serif\" font-size=\"10.00\">1</text>\n",
       "</g>\n",
       "<!-- qubits_G36 -->\n",
       "<g id=\"node3\" class=\"node\">\n",
       "<title>qubits_G36</title>\n",
       "<text text-anchor=\"middle\" x=\"32.5\" y=\"-68.3\" font-family=\"Times,serif\" font-size=\"14.00\">qubits[2]</text>\n",
       "</g>\n",
       "<!-- CirqGateAsBloq_G0 -->\n",
       "<g id=\"node6\" class=\"node\">\n",
       "<title>CirqGateAsBloq_G0</title>\n",
       "<polygon fill=\"none\" stroke=\"black\" points=\"102.5,-123 102.5,-140 153.5,-140 153.5,-123 102.5,-123\"/>\n",
       "<text text-anchor=\"start\" x=\"105.5\" y=\"-129\" font-family=\"Times,serif\" font-size=\"10.00\">cirq.SWAP</text>\n",
       "<polygon fill=\"none\" stroke=\"black\" points=\"102.5,-102 102.5,-123 153.5,-123 153.5,-102 102.5,-102\"/>\n",
       "<text text-anchor=\"start\" x=\"121\" y=\"-108.8\" font-family=\"Times,serif\" font-size=\"14.00\">q0</text>\n",
       "<polygon fill=\"none\" stroke=\"black\" points=\"102.5,-81 102.5,-102 153.5,-102 153.5,-81 102.5,-81\"/>\n",
       "<text text-anchor=\"start\" x=\"121\" y=\"-87.8\" font-family=\"Times,serif\" font-size=\"14.00\">q1</text>\n",
       "</g>\n",
       "<!-- qubits_G36&#45;&gt;CirqGateAsBloq_G0 -->\n",
       "<g id=\"edge2\" class=\"edge\">\n",
       "<title>qubits_G36:e-&gt;CirqGateAsBloq_G0:w</title>\n",
       "<path fill=\"none\" stroke=\"black\" d=\"M65,-72C82.76,-72 83.48,-89.54 99.92,-90.92\"/>\n",
       "<ellipse fill=\"black\" stroke=\"black\" cx=\"101\" cy=\"-90.96\" rx=\"1\" ry=\"1\"/>\n",
       "<text text-anchor=\"middle\" x=\"83.5\" y=\"-84\" font-family=\"Times,serif\" font-size=\"10.00\">1</text>\n",
       "</g>\n",
       "<!-- qubits_G42 -->\n",
       "<g id=\"node4\" class=\"node\">\n",
       "<title>qubits_G42</title>\n",
       "<text text-anchor=\"middle\" x=\"32.5\" y=\"-122.3\" font-family=\"Times,serif\" font-size=\"14.00\">qubits[3]</text>\n",
       "</g>\n",
       "<!-- qubits_G42&#45;&gt;CirqGateAsBloq_G0 -->\n",
       "<g id=\"edge1\" class=\"edge\">\n",
       "<title>qubits_G42:e-&gt;CirqGateAsBloq_G0:w</title>\n",
       "<path fill=\"none\" stroke=\"black\" d=\"M65,-126C81.61,-126 84.34,-114.19 99.65,-113.08\"/>\n",
       "<ellipse fill=\"black\" stroke=\"black\" cx=\"101\" cy=\"-113.04\" rx=\"1\" ry=\"1\"/>\n",
       "<text text-anchor=\"middle\" x=\"83.5\" y=\"-122\" font-family=\"Times,serif\" font-size=\"10.00\">1</text>\n",
       "</g>\n",
       "<!-- CirqGateAsBloq -->\n",
       "<g id=\"node5\" class=\"node\">\n",
       "<title>CirqGateAsBloq</title>\n",
       "<polygon fill=\"none\" stroke=\"black\" points=\"281.5,-142 281.5,-159 311.5,-159 311.5,-142 281.5,-142\"/>\n",
       "<text text-anchor=\"start\" x=\"284.5\" y=\"-148\" font-family=\"Times,serif\" font-size=\"10.00\">cirq.S</text>\n",
       "<polygon fill=\"none\" stroke=\"black\" points=\"281.5,-121 281.5,-142 311.5,-142 311.5,-121 281.5,-121\"/>\n",
       "<text text-anchor=\"start\" x=\"289.5\" y=\"-127.8\" font-family=\"Times,serif\" font-size=\"14.00\">q0</text>\n",
       "</g>\n",
       "<!-- CirqGateAsBloq_G14 -->\n",
       "<g id=\"node13\" class=\"node\">\n",
       "<title>CirqGateAsBloq_G14</title>\n",
       "<polygon fill=\"none\" stroke=\"black\" points=\"383.5,-115 383.5,-132 413.5,-132 413.5,-115 383.5,-115\"/>\n",
       "<text text-anchor=\"start\" x=\"386.5\" y=\"-121\" font-family=\"Times,serif\" font-size=\"10.00\">cirq.S</text>\n",
       "<polygon fill=\"none\" stroke=\"black\" points=\"383.5,-94 383.5,-115 413.5,-115 413.5,-94 383.5,-94\"/>\n",
       "<text text-anchor=\"start\" x=\"391.5\" y=\"-100.8\" font-family=\"Times,serif\" font-size=\"14.00\">q0</text>\n",
       "</g>\n",
       "<!-- CirqGateAsBloq&#45;&gt;CirqGateAsBloq_G14 -->\n",
       "<g id=\"edge12\" class=\"edge\">\n",
       "<title>CirqGateAsBloq:e-&gt;CirqGateAsBloq_G14:w</title>\n",
       "<path fill=\"none\" stroke=\"black\" d=\"M312,-131C344.77,-131 348.77,-105.25 380.19,-104.04\"/>\n",
       "<ellipse fill=\"black\" stroke=\"black\" cx=\"381.5\" cy=\"-104.02\" rx=\"1\" ry=\"1\"/>\n",
       "<text text-anchor=\"middle\" x=\"346\" y=\"-130\" font-family=\"Times,serif\" font-size=\"10.00\">1</text>\n",
       "</g>\n",
       "<!-- CirqGateAsBloq_G0&#45;&gt;CirqGateAsBloq_G18 -->\n",
       "<g id=\"edge5\" class=\"edge\">\n",
       "<title>CirqGateAsBloq_G0:e-&gt;CirqGateAsBloq_G18:w</title>\n",
       "<path fill=\"none\" stroke=\"black\" d=\"M153,-91C180.94,-91 162.35,-141.14 187.75,-143.88\"/>\n",
       "<ellipse fill=\"black\" stroke=\"black\" cx=\"189\" cy=\"-143.95\" rx=\"1\" ry=\"1\"/>\n",
       "<text text-anchor=\"middle\" x=\"171.5\" y=\"-122\" font-family=\"Times,serif\" font-size=\"10.00\">1</text>\n",
       "</g>\n",
       "<!-- CirqGateAsBloq_G20 -->\n",
       "<g id=\"node16\" class=\"node\">\n",
       "<title>CirqGateAsBloq_G20</title>\n",
       "<polygon fill=\"none\" stroke=\"black\" points=\"199,-76 199,-93 236,-93 236,-76 199,-76\"/>\n",
       "<text text-anchor=\"start\" x=\"202\" y=\"-82\" font-family=\"Times,serif\" font-size=\"10.00\">cirq.CZ</text>\n",
       "<polygon fill=\"none\" stroke=\"black\" points=\"199,-55 199,-76 236,-76 236,-55 199,-55\"/>\n",
       "<text text-anchor=\"start\" x=\"210.5\" y=\"-61.8\" font-family=\"Times,serif\" font-size=\"14.00\">q0</text>\n",
       "<polygon fill=\"none\" stroke=\"black\" points=\"199,-34 199,-55 236,-55 236,-34 199,-34\"/>\n",
       "<text text-anchor=\"start\" x=\"210.5\" y=\"-40.8\" font-family=\"Times,serif\" font-size=\"14.00\">q1</text>\n",
       "</g>\n",
       "<!-- CirqGateAsBloq_G0&#45;&gt;CirqGateAsBloq_G20 -->\n",
       "<g id=\"edge6\" class=\"edge\">\n",
       "<title>CirqGateAsBloq_G0:e-&gt;CirqGateAsBloq_G20:w</title>\n",
       "<path fill=\"none\" stroke=\"black\" d=\"M153,-113C170.49,-113 158.29,-90.01 171,-78 180.02,-69.47 184.38,-66.34 195.92,-66.03\"/>\n",
       "<ellipse fill=\"black\" stroke=\"black\" cx=\"197\" cy=\"-66.01\" rx=\"1\" ry=\"1\"/>\n",
       "<text text-anchor=\"middle\" x=\"171.5\" y=\"-81\" font-family=\"Times,serif\" font-size=\"10.00\">1</text>\n",
       "</g>\n",
       "<!-- CirqGateAsBloq_G2 -->\n",
       "<g id=\"node7\" class=\"node\">\n",
       "<title>CirqGateAsBloq_G2</title>\n",
       "<polygon fill=\"none\" stroke=\"black\" points=\"380.5,-194 380.5,-211 417.5,-211 417.5,-194 380.5,-194\"/>\n",
       "<text text-anchor=\"start\" x=\"383.5\" y=\"-200\" font-family=\"Times,serif\" font-size=\"10.00\">cirq.CZ</text>\n",
       "<polygon fill=\"none\" stroke=\"black\" points=\"380.5,-173 380.5,-194 417.5,-194 417.5,-173 380.5,-173\"/>\n",
       "<text text-anchor=\"start\" x=\"392\" y=\"-179.8\" font-family=\"Times,serif\" font-size=\"14.00\">q0</text>\n",
       "<polygon fill=\"none\" stroke=\"black\" points=\"380.5,-152 380.5,-173 417.5,-173 417.5,-152 380.5,-152\"/>\n",
       "<text text-anchor=\"start\" x=\"392\" y=\"-158.8\" font-family=\"Times,serif\" font-size=\"14.00\">q1</text>\n",
       "</g>\n",
       "<!-- CirqGateAsBloq_G16 -->\n",
       "<g id=\"node14\" class=\"node\">\n",
       "<title>CirqGateAsBloq_G16</title>\n",
       "<polygon fill=\"none\" stroke=\"black\" points=\"465,-157 465,-174 496,-174 496,-157 465,-157\"/>\n",
       "<text text-anchor=\"start\" x=\"468\" y=\"-163\" font-family=\"Times,serif\" font-size=\"10.00\">cirq.T</text>\n",
       "<polygon fill=\"none\" stroke=\"black\" points=\"465,-136 465,-157 496,-157 496,-136 465,-136\"/>\n",
       "<text text-anchor=\"start\" x=\"473.5\" y=\"-142.8\" font-family=\"Times,serif\" font-size=\"14.00\">q0</text>\n",
       "</g>\n",
       "<!-- CirqGateAsBloq_G2&#45;&gt;CirqGateAsBloq_G16 -->\n",
       "<g id=\"edge15\" class=\"edge\">\n",
       "<title>CirqGateAsBloq_G2:e-&gt;CirqGateAsBloq_G16:w</title>\n",
       "<path fill=\"none\" stroke=\"black\" d=\"M417,-162C438.38,-162 441.74,-146.98 461.99,-146.05\"/>\n",
       "<ellipse fill=\"black\" stroke=\"black\" cx=\"463\" cy=\"-146.02\" rx=\"1\" ry=\"1\"/>\n",
       "<text text-anchor=\"middle\" x=\"435.5\" y=\"-160\" font-family=\"Times,serif\" font-size=\"10.00\">1</text>\n",
       "</g>\n",
       "<!-- qubits_G35 -->\n",
       "<g id=\"node20\" class=\"node\">\n",
       "<title>qubits_G35</title>\n",
       "<text text-anchor=\"middle\" x=\"575.5\" y=\"-206.3\" font-family=\"Times,serif\" font-size=\"14.00\">qubits[3]</text>\n",
       "</g>\n",
       "<!-- CirqGateAsBloq_G2&#45;&gt;qubits_G35 -->\n",
       "<g id=\"edge21\" class=\"edge\">\n",
       "<title>CirqGateAsBloq_G2:e-&gt;qubits_G35:w</title>\n",
       "<path fill=\"none\" stroke=\"black\" d=\"M417,-184C473.4,-184 485.49,-209.29 540.68,-209.99\"/>\n",
       "<ellipse fill=\"black\" stroke=\"black\" cx=\"542\" cy=\"-209.99\" rx=\"1\" ry=\"1\"/>\n",
       "<text text-anchor=\"middle\" x=\"480\" y=\"-208\" font-family=\"Times,serif\" font-size=\"10.00\">1</text>\n",
       "</g>\n",
       "<!-- CirqGateAsBloq_G4 -->\n",
       "<g id=\"node8\" class=\"node\">\n",
       "<title>CirqGateAsBloq_G4</title>\n",
       "<polygon fill=\"none\" stroke=\"black\" points=\"281.5,-86 281.5,-103 312.5,-103 312.5,-86 281.5,-86\"/>\n",
       "<text text-anchor=\"start\" x=\"284.5\" y=\"-92\" font-family=\"Times,serif\" font-size=\"10.00\">cirq.T</text>\n",
       "<polygon fill=\"none\" stroke=\"black\" points=\"281.5,-65 281.5,-86 312.5,-86 312.5,-65 281.5,-65\"/>\n",
       "<text text-anchor=\"start\" x=\"290\" y=\"-71.8\" font-family=\"Times,serif\" font-size=\"14.00\">q0</text>\n",
       "</g>\n",
       "<!-- CirqGateAsBloq_G4&#45;&gt;CirqGateAsBloq_G2 -->\n",
       "<g id=\"edge13\" class=\"edge\">\n",
       "<title>CirqGateAsBloq_G4:e-&gt;CirqGateAsBloq_G2:w</title>\n",
       "<path fill=\"none\" stroke=\"black\" d=\"M312,-75C351.92,-75 304.67,-132.15 330,-163 344.82,-181.05 355.23,-183.84 377.78,-183.99\"/>\n",
       "<ellipse fill=\"black\" stroke=\"black\" cx=\"379\" cy=\"-184\" rx=\"1\" ry=\"1\"/>\n",
       "<text text-anchor=\"middle\" x=\"346\" y=\"-185\" font-family=\"Times,serif\" font-size=\"10.00\">1</text>\n",
       "</g>\n",
       "<!-- CirqGateAsBloq_G6 -->\n",
       "<g id=\"node9\" class=\"node\">\n",
       "<title>CirqGateAsBloq_G6</title>\n",
       "<polygon fill=\"none\" stroke=\"black\" points=\"454,-97 454,-114 506,-114 506,-97 454,-97\"/>\n",
       "<text text-anchor=\"start\" x=\"457\" y=\"-103\" font-family=\"Times,serif\" font-size=\"10.00\">cirq.CNOT</text>\n",
       "<polygon fill=\"none\" stroke=\"black\" points=\"454,-76 454,-97 506,-97 506,-76 454,-76\"/>\n",
       "<text text-anchor=\"start\" x=\"473\" y=\"-82.8\" font-family=\"Times,serif\" font-size=\"14.00\">q0</text>\n",
       "<polygon fill=\"none\" stroke=\"black\" points=\"454,-55 454,-76 506,-76 506,-55 454,-55\"/>\n",
       "<text text-anchor=\"start\" x=\"473\" y=\"-61.8\" font-family=\"Times,serif\" font-size=\"14.00\">q1</text>\n",
       "</g>\n",
       "<!-- qubits_G24 -->\n",
       "<g id=\"node18\" class=\"node\">\n",
       "<title>qubits_G24</title>\n",
       "<text text-anchor=\"middle\" x=\"575.5\" y=\"-33.3\" font-family=\"Times,serif\" font-size=\"14.00\">qubits[1]</text>\n",
       "</g>\n",
       "<!-- CirqGateAsBloq_G6&#45;&gt;qubits_G24 -->\n",
       "<g id=\"edge19\" class=\"edge\">\n",
       "<title>CirqGateAsBloq_G6:e-&gt;qubits_G24:w</title>\n",
       "<path fill=\"none\" stroke=\"black\" d=\"M506,-65C525.82,-65 522.67,-39.14 540.69,-37.12\"/>\n",
       "<ellipse fill=\"black\" stroke=\"black\" cx=\"542\" cy=\"-37.05\" rx=\"1\" ry=\"1\"/>\n",
       "<text text-anchor=\"middle\" x=\"524.5\" y=\"-55\" font-family=\"Times,serif\" font-size=\"10.00\">1</text>\n",
       "</g>\n",
       "<!-- qubits_G28 -->\n",
       "<g id=\"node19\" class=\"node\">\n",
       "<title>qubits_G28</title>\n",
       "<text text-anchor=\"middle\" x=\"575.5\" y=\"-87.3\" font-family=\"Times,serif\" font-size=\"14.00\">qubits[2]</text>\n",
       "</g>\n",
       "<!-- CirqGateAsBloq_G6&#45;&gt;qubits_G28 -->\n",
       "<g id=\"edge20\" class=\"edge\">\n",
       "<title>CirqGateAsBloq_G6:e-&gt;qubits_G28:w</title>\n",
       "<path fill=\"none\" stroke=\"black\" d=\"M506,-87C521.76,-87 526.06,-90.63 540.75,-90.97\"/>\n",
       "<ellipse fill=\"black\" stroke=\"black\" cx=\"542\" cy=\"-90.99\" rx=\"1\" ry=\"1\"/>\n",
       "<text text-anchor=\"middle\" x=\"524.5\" y=\"-92\" font-family=\"Times,serif\" font-size=\"10.00\">1</text>\n",
       "</g>\n",
       "<!-- CirqGateAsBloq_G8&#45;&gt;CirqGateAsBloq_G20 -->\n",
       "<g id=\"edge7\" class=\"edge\">\n",
       "<title>CirqGateAsBloq_G8:e-&gt;CirqGateAsBloq_G20:w</title>\n",
       "<path fill=\"none\" stroke=\"black\" d=\"M144.5,-25C169.04,-25 172.58,-42.98 195.98,-43.96\"/>\n",
       "<ellipse fill=\"black\" stroke=\"black\" cx=\"197\" cy=\"-43.98\" rx=\"1\" ry=\"1\"/>\n",
       "<text text-anchor=\"middle\" x=\"171.5\" y=\"-38\" font-family=\"Times,serif\" font-size=\"10.00\">1</text>\n",
       "</g>\n",
       "<!-- CirqGateAsBloq_G10 -->\n",
       "<g id=\"node11\" class=\"node\">\n",
       "<title>CirqGateAsBloq_G10</title>\n",
       "<polygon fill=\"none\" stroke=\"black\" points=\"330,-63 330,-80 362,-80 362,-63 330,-63\"/>\n",
       "<text text-anchor=\"start\" x=\"333\" y=\"-69\" font-family=\"Times,serif\" font-size=\"10.00\">cirq.X</text>\n",
       "<polygon fill=\"none\" stroke=\"black\" points=\"330,-42 330,-63 362,-63 362,-42 330,-42\"/>\n",
       "<text text-anchor=\"start\" x=\"339\" y=\"-48.8\" font-family=\"Times,serif\" font-size=\"14.00\">q0</text>\n",
       "</g>\n",
       "<!-- CirqGateAsBloq_G10&#45;&gt;CirqGateAsBloq_G6 -->\n",
       "<g id=\"edge17\" class=\"edge\">\n",
       "<title>CirqGateAsBloq_G10:e-&gt;CirqGateAsBloq_G6:w</title>\n",
       "<path fill=\"none\" stroke=\"black\" d=\"M362,-52C402.49,-52 412.33,-64.5 451.62,-64.99\"/>\n",
       "<ellipse fill=\"black\" stroke=\"black\" cx=\"453\" cy=\"-64.99\" rx=\"1\" ry=\"1\"/>\n",
       "<text text-anchor=\"middle\" x=\"398.5\" y=\"-64\" font-family=\"Times,serif\" font-size=\"10.00\">1</text>\n",
       "</g>\n",
       "<!-- CirqGateAsBloq_G12 -->\n",
       "<g id=\"node12\" class=\"node\">\n",
       "<title>CirqGateAsBloq_G12</title>\n",
       "<polygon fill=\"none\" stroke=\"black\" points=\"281.5,-198 281.5,-215 312.5,-215 312.5,-198 281.5,-198\"/>\n",
       "<text text-anchor=\"start\" x=\"284.5\" y=\"-204\" font-family=\"Times,serif\" font-size=\"10.00\">cirq.T</text>\n",
       "<polygon fill=\"none\" stroke=\"black\" points=\"281.5,-177 281.5,-198 312.5,-198 312.5,-177 281.5,-177\"/>\n",
       "<text text-anchor=\"start\" x=\"290\" y=\"-183.8\" font-family=\"Times,serif\" font-size=\"14.00\">q0</text>\n",
       "</g>\n",
       "<!-- CirqGateAsBloq_G12&#45;&gt;CirqGateAsBloq_G2 -->\n",
       "<g id=\"edge14\" class=\"edge\">\n",
       "<title>CirqGateAsBloq_G12:e-&gt;CirqGateAsBloq_G2:w</title>\n",
       "<path fill=\"none\" stroke=\"black\" d=\"M312,-187C323,-187 320.13,-174.86 330,-170 349.56,-160.37 357.03,-161.89 377.93,-161.99\"/>\n",
       "<ellipse fill=\"black\" stroke=\"black\" cx=\"379\" cy=\"-162\" rx=\"1\" ry=\"1\"/>\n",
       "<text text-anchor=\"middle\" x=\"346\" y=\"-173\" font-family=\"Times,serif\" font-size=\"10.00\">1</text>\n",
       "</g>\n",
       "<!-- CirqGateAsBloq_G14&#45;&gt;CirqGateAsBloq_G6 -->\n",
       "<g id=\"edge16\" class=\"edge\">\n",
       "<title>CirqGateAsBloq_G14:e-&gt;CirqGateAsBloq_G6:w</title>\n",
       "<path fill=\"none\" stroke=\"black\" d=\"M414.5,-104C432.87,-104 434.76,-88.3 451.84,-87.08\"/>\n",
       "<ellipse fill=\"black\" stroke=\"black\" cx=\"453\" cy=\"-87.04\" rx=\"1\" ry=\"1\"/>\n",
       "<text text-anchor=\"middle\" x=\"435.5\" y=\"-97\" font-family=\"Times,serif\" font-size=\"10.00\">1</text>\n",
       "</g>\n",
       "<!-- qubits_G25 -->\n",
       "<g id=\"node17\" class=\"node\">\n",
       "<title>qubits_G25</title>\n",
       "<text text-anchor=\"middle\" x=\"575.5\" y=\"-142.3\" font-family=\"Times,serif\" font-size=\"14.00\">qubits[0]</text>\n",
       "</g>\n",
       "<!-- CirqGateAsBloq_G16&#45;&gt;qubits_G25 -->\n",
       "<g id=\"edge18\" class=\"edge\">\n",
       "<title>CirqGateAsBloq_G16:e-&gt;qubits_G25:w</title>\n",
       "<path fill=\"none\" stroke=\"black\" d=\"M497,-146C516.65,-146 522.13,-146 540.67,-146\"/>\n",
       "<ellipse fill=\"black\" stroke=\"black\" cx=\"542\" cy=\"-146\" rx=\"1\" ry=\"1\"/>\n",
       "<text text-anchor=\"middle\" x=\"524.5\" y=\"-149\" font-family=\"Times,serif\" font-size=\"10.00\">1</text>\n",
       "</g>\n",
       "<!-- CirqGateAsBloq_G18&#45;&gt;CirqGateAsBloq -->\n",
       "<g id=\"edge10\" class=\"edge\">\n",
       "<title>CirqGateAsBloq_G18:e-&gt;CirqGateAsBloq:w</title>\n",
       "<path fill=\"none\" stroke=\"black\" d=\"M244,-144C260.61,-144 263.34,-132.19 278.65,-131.08\"/>\n",
       "<ellipse fill=\"black\" stroke=\"black\" cx=\"280\" cy=\"-131.04\" rx=\"1\" ry=\"1\"/>\n",
       "<text text-anchor=\"middle\" x=\"262.5\" y=\"-140\" font-family=\"Times,serif\" font-size=\"10.00\">1</text>\n",
       "</g>\n",
       "<!-- CirqGateAsBloq_G18&#45;&gt;CirqGateAsBloq_G12 -->\n",
       "<g id=\"edge8\" class=\"edge\">\n",
       "<title>CirqGateAsBloq_G18:e-&gt;CirqGateAsBloq_G12:w</title>\n",
       "<path fill=\"none\" stroke=\"black\" d=\"M244,-166C262.17,-166 262.13,-185.39 278.87,-186.91\"/>\n",
       "<ellipse fill=\"black\" stroke=\"black\" cx=\"280\" cy=\"-186.96\" rx=\"1\" ry=\"1\"/>\n",
       "<text text-anchor=\"middle\" x=\"262.5\" y=\"-179\" font-family=\"Times,serif\" font-size=\"10.00\">1</text>\n",
       "</g>\n",
       "<!-- CirqGateAsBloq_G20&#45;&gt;CirqGateAsBloq_G4 -->\n",
       "<g id=\"edge9\" class=\"edge\">\n",
       "<title>CirqGateAsBloq_G20:e-&gt;CirqGateAsBloq_G4:w</title>\n",
       "<path fill=\"none\" stroke=\"black\" d=\"M237,-66C256.18,-66 260.7,-74.31 278.73,-74.96\"/>\n",
       "<ellipse fill=\"black\" stroke=\"black\" cx=\"280\" cy=\"-74.98\" rx=\"1\" ry=\"1\"/>\n",
       "<text text-anchor=\"middle\" x=\"262.5\" y=\"-74\" font-family=\"Times,serif\" font-size=\"10.00\">1</text>\n",
       "</g>\n",
       "<!-- CirqGateAsBloq_G20&#45;&gt;CirqGateAsBloq_G10 -->\n",
       "<g id=\"edge11\" class=\"edge\">\n",
       "<title>CirqGateAsBloq_G20:e-&gt;CirqGateAsBloq_G10:w</title>\n",
       "<path fill=\"none\" stroke=\"black\" d=\"M237,-44C277.68,-44 288.11,-51.69 327.6,-51.99\"/>\n",
       "<ellipse fill=\"black\" stroke=\"black\" cx=\"329\" cy=\"-52\" rx=\"1\" ry=\"1\"/>\n",
       "<text text-anchor=\"middle\" x=\"262.5\" y=\"-49\" font-family=\"Times,serif\" font-size=\"10.00\">1</text>\n",
       "</g>\n",
       "</g>\n",
       "</svg>"
      ],
      "text/plain": [
       "<IPython.core.display.SVG object>"
      ]
     },
     "metadata": {},
     "output_type": "display_data"
    }
   ],
   "source": [
    "# Make a random cirq circuit\n",
    "qubits = cirq.LineQubit.range(4)\n",
    "circuit = cirq.testing.random_circuit(qubits, n_moments=5, op_density=1.0, random_state=52)\n",
    "\n",
    "# Convert to CompositeBloq\n",
    "cbloq = CompositeBloq.from_cirq_circuit(circuit)\n",
    "display(SVGCircuit(circuit))\n",
    "display(show_bloq(cbloq))"
   ]
  },
  {
   "cell_type": "markdown",
   "id": "5d9997f4",
   "metadata": {},
   "source": [
    "### Unitaries\n",
    "\n",
    "Both containers support numerical contraction to a dense unitary matrix. Cirq contracts operations into a large identity matrix \"in order\". Bloqs use `quimb` to find a good contraction ordering and perform the contraction. "
   ]
  },
  {
   "cell_type": "code",
   "execution_count": 5,
   "id": "85a40f2a",
   "metadata": {},
   "outputs": [],
   "source": [
    "import numpy as np\n",
    "\n",
    "bloq_unitary = cbloq.tensor_contract()\n",
    "cirq_unitary = circuit.unitary(qubits)\n",
    "np.testing.assert_allclose(cirq_unitary, bloq_unitary, atol=1e-8)"
   ]
  },
  {
   "cell_type": "markdown",
   "id": "2fe60767",
   "metadata": {},
   "source": [
    "### Back to `cirq.Circuit`"
   ]
  },
  {
   "cell_type": "code",
   "execution_count": 7,
   "id": "97be35a3",
   "metadata": {},
   "outputs": [
    {
     "name": "stderr",
     "output_type": "stream",
     "text": [
      "findfont: Font family 'Arial' not found.\n",
      "findfont: Font family 'Arial' not found.\n",
      "findfont: Font family 'Arial' not found.\n",
      "findfont: Font family 'Arial' not found.\n",
      "findfont: Font family 'Arial' not found.\n",
      "findfont: Font family 'Arial' not found.\n",
      "findfont: Font family 'Arial' not found.\n",
      "findfont: Font family 'Arial' not found.\n",
      "findfont: Font family 'Arial' not found.\n",
      "findfont: Font family 'Arial' not found.\n",
      "findfont: Font family 'Arial' not found.\n",
      "findfont: Font family 'Arial' not found.\n",
      "findfont: Font family 'Arial' not found.\n",
      "findfont: Font family 'Arial' not found.\n",
      "findfont: Font family 'Arial' not found.\n",
      "findfont: Font family 'Arial' not found.\n",
      "findfont: Font family 'Arial' not found.\n",
      "findfont: Font family 'Arial' not found.\n",
      "findfont: Font family 'Arial' not found.\n",
      "findfont: Font family 'Arial' not found.\n",
      "findfont: Font family 'Arial' not found.\n"
     ]
    },
    {
     "data": {
      "image/svg+xml": [
       "<svg xmlns=\"http://www.w3.org/2000/svg\" width=\"489.6087890625\" height=\"240.0\"><line x1=\"30.0\" x2=\"459.6087890625\" y1=\"45.0\" y2=\"45.0\" stroke=\"#1967d2\" stroke-width=\"1\" /><line x1=\"30.0\" x2=\"459.6087890625\" y1=\"95.0\" y2=\"95.0\" stroke=\"#1967d2\" stroke-width=\"1\" /><line x1=\"30.0\" x2=\"459.6087890625\" y1=\"145.0\" y2=\"145.0\" stroke=\"#1967d2\" stroke-width=\"1\" /><line x1=\"30.0\" x2=\"459.6087890625\" y1=\"195.0\" y2=\"195.0\" stroke=\"#1967d2\" stroke-width=\"1\" /><line x1=\"289.6087890625\" x2=\"379.6087890625\" y1=\"5.0\" y2=\"5.0\" stroke=\"black\" stroke-width=\"1\" /><line x1=\"289.6087890625\" x2=\"379.6087890625\" y1=\"235.0\" y2=\"235.0\" stroke=\"black\" stroke-width=\"1\" /><line x1=\"120.0\" x2=\"219.6087890625\" y1=\"5.0\" y2=\"5.0\" stroke=\"black\" stroke-width=\"1\" /><line x1=\"120.0\" x2=\"219.6087890625\" y1=\"235.0\" y2=\"235.0\" stroke=\"black\" stroke-width=\"1\" /><line x1=\"90.0\" x2=\"90.0\" y1=\"145.0\" y2=\"195.0\" stroke=\"black\" stroke-width=\"3\" /><line x1=\"144.80439453125\" x2=\"144.80439453125\" y1=\"45.0\" y2=\"145.0\" stroke=\"black\" stroke-width=\"3\" /><line x1=\"189.6087890625\" x2=\"189.6087890625\" y1=\"95.0\" y2=\"195.0\" stroke=\"black\" stroke-width=\"3\" /><line x1=\"349.6087890625\" x2=\"349.6087890625\" y1=\"45.0\" y2=\"195.0\" stroke=\"black\" stroke-width=\"3\" /><line x1=\"419.6087890625\" x2=\"419.6087890625\" y1=\"95.0\" y2=\"145.0\" stroke=\"black\" stroke-width=\"3\" /><line x1=\"289.6087890625\" x2=\"289.6087890625\" y1=\"5.0\" y2=\"15.0\" stroke=\"black\" stroke-width=\"3\" /><line x1=\"379.6087890625\" x2=\"379.6087890625\" y1=\"5.0\" y2=\"15.0\" stroke=\"black\" stroke-width=\"3\" /><line x1=\"289.6087890625\" x2=\"289.6087890625\" y1=\"225.0\" y2=\"235.0\" stroke=\"black\" stroke-width=\"3\" /><line x1=\"379.6087890625\" x2=\"379.6087890625\" y1=\"225.0\" y2=\"235.0\" stroke=\"black\" stroke-width=\"3\" /><line x1=\"120.0\" x2=\"120.0\" y1=\"5.0\" y2=\"15.0\" stroke=\"black\" stroke-width=\"3\" /><line x1=\"219.6087890625\" x2=\"219.6087890625\" y1=\"5.0\" y2=\"15.0\" stroke=\"black\" stroke-width=\"3\" /><line x1=\"120.0\" x2=\"120.0\" y1=\"225.0\" y2=\"235.0\" stroke=\"black\" stroke-width=\"3\" /><line x1=\"219.6087890625\" x2=\"219.6087890625\" y1=\"225.0\" y2=\"235.0\" stroke=\"black\" stroke-width=\"3\" /><rect x=\"10.0\" y=\"25.0\" width=\"40\" height=\"40\" stroke=\"black\" fill=\"white\" stroke-width=\"0\" /><text x=\"30.0\" y=\"45.0\" dominant-baseline=\"middle\" text-anchor=\"middle\" font-size=\"14px\" font-family=\"Arial\">0: </text><rect x=\"10.0\" y=\"75.0\" width=\"40\" height=\"40\" stroke=\"black\" fill=\"white\" stroke-width=\"0\" /><text x=\"30.0\" y=\"95.0\" dominant-baseline=\"middle\" text-anchor=\"middle\" font-size=\"14px\" font-family=\"Arial\">1: </text><rect x=\"10.0\" y=\"125.0\" width=\"40\" height=\"40\" stroke=\"black\" fill=\"white\" stroke-width=\"0\" /><text x=\"30.0\" y=\"145.0\" dominant-baseline=\"middle\" text-anchor=\"middle\" font-size=\"14px\" font-family=\"Arial\">2: </text><rect x=\"10.0\" y=\"175.0\" width=\"40\" height=\"40\" stroke=\"black\" fill=\"white\" stroke-width=\"0\" /><text x=\"30.0\" y=\"195.0\" dominant-baseline=\"middle\" text-anchor=\"middle\" font-size=\"14px\" font-family=\"Arial\">3: </text><text x=\"90.0\" y=\"198.0\" dominant-baseline=\"middle\" text-anchor=\"middle\" font-size=\"40px\" font-family=\"Arial\">×</text><text x=\"90.0\" y=\"148.0\" dominant-baseline=\"middle\" text-anchor=\"middle\" font-size=\"40px\" font-family=\"Arial\">×</text><rect x=\"70.0\" y=\"75.0\" width=\"40\" height=\"40\" stroke=\"black\" fill=\"white\" stroke-width=\"1\" /><text x=\"90.0\" y=\"95.0\" dominant-baseline=\"middle\" text-anchor=\"middle\" font-size=\"18px\" font-family=\"Arial\">X</text><rect x=\"120.00000000000001\" y=\"25.0\" width=\"49.6087890625\" height=\"40\" stroke=\"black\" fill=\"white\" stroke-width=\"1\" /><text x=\"144.80439453125\" y=\"45.0\" dominant-baseline=\"middle\" text-anchor=\"middle\" font-size=\"14px\" font-family=\"Arial\">iSwap</text><rect x=\"120.00000000000001\" y=\"125.0\" width=\"49.6087890625\" height=\"40\" stroke=\"black\" fill=\"white\" stroke-width=\"1\" /><text x=\"144.80439453125\" y=\"145.0\" dominant-baseline=\"middle\" text-anchor=\"middle\" font-size=\"14px\" font-family=\"Arial\">iSwap</text><circle cx=\"189.6087890625\" cy=\"195.0\" r=\"10.0\" /><circle cx=\"189.6087890625\" cy=\"95.0\" r=\"10.0\" /><rect x=\"239.60878906250002\" y=\"25.0\" width=\"40\" height=\"40\" stroke=\"black\" fill=\"white\" stroke-width=\"1\" /><text x=\"259.6087890625\" y=\"45.0\" dominant-baseline=\"middle\" text-anchor=\"middle\" font-size=\"18px\" font-family=\"Arial\">T</text><rect x=\"239.60878906250002\" y=\"125.0\" width=\"40\" height=\"40\" stroke=\"black\" fill=\"white\" stroke-width=\"1\" /><text x=\"259.6087890625\" y=\"145.0\" dominant-baseline=\"middle\" text-anchor=\"middle\" font-size=\"18px\" font-family=\"Arial\">S</text><rect x=\"239.60878906250002\" y=\"175.0\" width=\"40\" height=\"40\" stroke=\"black\" fill=\"white\" stroke-width=\"1\" /><text x=\"259.6087890625\" y=\"195.0\" dominant-baseline=\"middle\" text-anchor=\"middle\" font-size=\"18px\" font-family=\"Arial\">T</text><rect x=\"239.60878906250002\" y=\"75.0\" width=\"40\" height=\"40\" stroke=\"black\" fill=\"white\" stroke-width=\"1\" /><text x=\"259.6087890625\" y=\"95.0\" dominant-baseline=\"middle\" text-anchor=\"middle\" font-size=\"18px\" font-family=\"Arial\">X</text><rect x=\"289.6087890625\" y=\"125.0\" width=\"40\" height=\"40\" stroke=\"black\" fill=\"white\" stroke-width=\"1\" /><text x=\"309.6087890625\" y=\"145.0\" dominant-baseline=\"middle\" text-anchor=\"middle\" font-size=\"18px\" font-family=\"Arial\">S</text><circle cx=\"349.6087890625\" cy=\"195.0\" r=\"10.0\" /><circle cx=\"349.6087890625\" cy=\"45.0\" r=\"10.0\" /><circle cx=\"419.6087890625\" cy=\"145.0\" r=\"10.0\" /><rect x=\"399.6087890625\" y=\"75.0\" width=\"40\" height=\"40\" stroke=\"black\" fill=\"white\" stroke-width=\"1\" /><text x=\"419.6087890625\" y=\"95.0\" dominant-baseline=\"middle\" text-anchor=\"middle\" font-size=\"18px\" font-family=\"Arial\">X</text><rect x=\"399.6087890625\" y=\"25.0\" width=\"40\" height=\"40\" stroke=\"black\" fill=\"white\" stroke-width=\"1\" /><text x=\"419.6087890625\" y=\"45.0\" dominant-baseline=\"middle\" text-anchor=\"middle\" font-size=\"18px\" font-family=\"Arial\">T</text></svg>"
      ],
      "text/plain": [
       "<cirq.contrib.svg.svg.SVGCircuit at 0x7f39ca0eff40>"
      ]
     },
     "execution_count": 7,
     "metadata": {},
     "output_type": "execute_result"
    }
   ],
   "source": [
    "# Note: a 1d `wireshape` bloq register is actually two-dimensional in cirq-world\n",
    "# because of the implicit `bitsize` dimension (which must be explicit in cirq-world).\n",
    "# CirqGateAsBloq has registers of bitsize=1 and wireshape=(n,); hence the list transpose below.\n",
    "circuit2, _ = cbloq.to_cirq_circuit(**{'qubits': [[q] for q in qubits]})\n",
    "SVGCircuit(circuit2)"
   ]
  },
  {
   "cell_type": "code",
   "execution_count": 8,
   "id": "f95dbe1d",
   "metadata": {},
   "outputs": [
    {
     "data": {
      "text/plain": [
       "False"
      ]
     },
     "execution_count": 8,
     "metadata": {},
     "output_type": "execute_result"
    }
   ],
   "source": [
    "# We lose the moment structure during the roundtrip.\n",
    "circuit == circuit2"
   ]
  },
  {
   "cell_type": "code",
   "execution_count": 9,
   "id": "ce93a502",
   "metadata": {},
   "outputs": [
    {
     "data": {
      "text/plain": [
       "True"
      ]
     },
     "execution_count": 9,
     "metadata": {},
     "output_type": "execute_result"
    }
   ],
   "source": [
    "# But the left-aligned `circuit` is recovered.\n",
    "cirq.Circuit(circuit.all_operations()) == circuit2"
   ]
  },
  {
   "cell_type": "markdown",
   "id": "03f03231",
   "metadata": {},
   "source": [
    "## Converting Bloqs to Cirq objects\n",
    "\n",
    " - `Bloq.as_cirq_op` is an overridable method to declare what cirq operation corresponds to a bloq.\n",
    " - `CompositeBloq.to_cirq_circuit` will export a CompositeBloq to a cirq circuit.\n",
    " - `BloqAsCirqGate` provides a shim for using bloqs in cirq circuits automatically."
   ]
  },
  {
   "cell_type": "markdown",
   "id": "6efb079b",
   "metadata": {},
   "source": [
    "### `as_cirq_op` \n",
    "\n",
    "Bloqs can override `as_cirq_op` to optionally declare their corresponding Cirq operation."
   ]
  },
  {
   "cell_type": "code",
   "execution_count": 10,
   "id": "9aa00801",
   "metadata": {},
   "outputs": [],
   "source": [
    "# TODO: show a bloq definition"
   ]
  },
  {
   "cell_type": "markdown",
   "id": "ca594c53",
   "metadata": {},
   "source": [
    "### `CompositeBloq.to_cirq_circuit`\n",
    "\n",
    "A composite bloq can be turned into a circuit composed of the result of `as_cirq_op` for each of the subbloqs."
   ]
  },
  {
   "cell_type": "code",
   "execution_count": 11,
   "id": "4b4be2a0",
   "metadata": {},
   "outputs": [],
   "source": [
    "# TODO: show a composite bloq"
   ]
  },
  {
   "cell_type": "markdown",
   "id": "01bf3b99",
   "metadata": {},
   "source": [
    "### `BloqAsCirqGate`\n",
    "\n",
    "The default behavior of `as_cirq_op` will shim the bloq into this object which lets you use a bloq in cirq circuits."
   ]
  },
  {
   "cell_type": "code",
   "execution_count": 12,
   "id": "c36205ba",
   "metadata": {},
   "outputs": [],
   "source": [
    "# TODO: show example"
   ]
  },
  {
   "cell_type": "markdown",
   "id": "6b16c692",
   "metadata": {},
   "source": [
    "### Allocation and de-allocation\n",
    "\n",
    "TODO: describe"
   ]
  },
  {
   "cell_type": "code",
   "execution_count": 13,
   "id": "7b846fba",
   "metadata": {},
   "outputs": [],
   "source": [
    "from cirq_qubitization.bloq_algos.and_bloq import MultiAnd\n",
    "\n",
    "multi_and = MultiAnd(cvs=(1, 1, 1, 1))"
   ]
  },
  {
   "cell_type": "code",
   "execution_count": 14,
   "id": "0f13f658",
   "metadata": {},
   "outputs": [
    {
     "data": {
      "text/plain": [
       "{'ctrl': array([[cirq.NamedQubit('ctrl[0, 0]')],\n",
       "        [cirq.NamedQubit('ctrl[1, 0]')],\n",
       "        [cirq.NamedQubit('ctrl[2, 0]')],\n",
       "        [cirq.NamedQubit('ctrl[3, 0]')]], dtype=object)}"
      ]
     },
     "execution_count": 14,
     "metadata": {},
     "output_type": "execute_result"
    }
   ],
   "source": [
    "cirq_quregs = multi_and.registers.get_cirq_quregs()\n",
    "cirq_quregs"
   ]
  },
  {
   "cell_type": "code",
   "execution_count": 16,
   "id": "a956c712",
   "metadata": {},
   "outputs": [
    {
     "name": "stderr",
     "output_type": "stream",
     "text": [
      "findfont: Font family 'Arial' not found.\n",
      "findfont: Font family 'Arial' not found.\n",
      "findfont: Font family 'Arial' not found.\n",
      "findfont: Font family 'Arial' not found.\n",
      "findfont: Font family 'Arial' not found.\n",
      "findfont: Font family 'Arial' not found.\n",
      "findfont: Font family 'Arial' not found.\n",
      "findfont: Font family 'Arial' not found.\n",
      "findfont: Font family 'Arial' not found.\n",
      "findfont: Font family 'Arial' not found.\n",
      "findfont: Font family 'Arial' not found.\n",
      "findfont: Font family 'Arial' not found.\n",
      "findfont: Font family 'Arial' not found.\n",
      "findfont: Font family 'Arial' not found.\n",
      "findfont: Font family 'Arial' not found.\n",
      "findfont: Font family 'Arial' not found.\n"
     ]
    },
    {
     "data": {
      "image/svg+xml": [
       "<svg xmlns=\"http://www.w3.org/2000/svg\" width=\"348.350859375\" height=\"350.0\"><line x1=\"46.3903515625\" x2=\"318.350859375\" y1=\"25.0\" y2=\"25.0\" stroke=\"#1967d2\" stroke-width=\"1\" /><line x1=\"46.3903515625\" x2=\"318.350859375\" y1=\"75.0\" y2=\"75.0\" stroke=\"#1967d2\" stroke-width=\"1\" /><line x1=\"46.3903515625\" x2=\"318.350859375\" y1=\"125.0\" y2=\"125.0\" stroke=\"#1967d2\" stroke-width=\"1\" /><line x1=\"46.3903515625\" x2=\"318.350859375\" y1=\"175.0\" y2=\"175.0\" stroke=\"#1967d2\" stroke-width=\"1\" /><line x1=\"46.3903515625\" x2=\"318.350859375\" y1=\"225.0\" y2=\"225.0\" stroke=\"#1967d2\" stroke-width=\"1\" /><line x1=\"46.3903515625\" x2=\"318.350859375\" y1=\"275.0\" y2=\"275.0\" stroke=\"#1967d2\" stroke-width=\"1\" /><line x1=\"46.3903515625\" x2=\"318.350859375\" y1=\"325.0\" y2=\"325.0\" stroke=\"#1967d2\" stroke-width=\"1\" /><line x1=\"128.70906250000002\" x2=\"128.70906250000002\" y1=\"25.0\" y2=\"225.0\" stroke=\"black\" stroke-width=\"3\" /><line x1=\"200.56578125\" x2=\"200.56578125\" y1=\"25.0\" y2=\"275.0\" stroke=\"black\" stroke-width=\"3\" /><line x1=\"272.4225\" x2=\"272.4225\" y1=\"75.0\" y2=\"325.0\" stroke=\"black\" stroke-width=\"3\" /><rect x=\"10.0\" y=\"5.0\" width=\"72.780703125\" height=\"40\" stroke=\"black\" fill=\"white\" stroke-width=\"0\" /><text x=\"46.3903515625\" y=\"25.0\" dominant-baseline=\"middle\" text-anchor=\"middle\" font-size=\"14px\" font-family=\"Arial\">_c0: </text><rect x=\"10.0\" y=\"55.0\" width=\"72.780703125\" height=\"40\" stroke=\"black\" fill=\"white\" stroke-width=\"0\" /><text x=\"46.3903515625\" y=\"75.0\" dominant-baseline=\"middle\" text-anchor=\"middle\" font-size=\"14px\" font-family=\"Arial\">_c1: </text><rect x=\"10.0\" y=\"105.0\" width=\"72.780703125\" height=\"40\" stroke=\"black\" fill=\"white\" stroke-width=\"0\" /><text x=\"46.3903515625\" y=\"125.0\" dominant-baseline=\"middle\" text-anchor=\"middle\" font-size=\"14px\" font-family=\"Arial\">_c2: </text><rect x=\"10.0\" y=\"155.0\" width=\"72.780703125\" height=\"40\" stroke=\"black\" fill=\"white\" stroke-width=\"0\" /><text x=\"46.3903515625\" y=\"175.0\" dominant-baseline=\"middle\" text-anchor=\"middle\" font-size=\"14px\" font-family=\"Arial\">ctrl[0, 0]: </text><rect x=\"10.0\" y=\"205.0\" width=\"72.780703125\" height=\"40\" stroke=\"black\" fill=\"white\" stroke-width=\"0\" /><text x=\"46.3903515625\" y=\"225.0\" dominant-baseline=\"middle\" text-anchor=\"middle\" font-size=\"14px\" font-family=\"Arial\">ctrl[1, 0]: </text><rect x=\"10.0\" y=\"255.0\" width=\"72.780703125\" height=\"40\" stroke=\"black\" fill=\"white\" stroke-width=\"0\" /><text x=\"46.3903515625\" y=\"275.0\" dominant-baseline=\"middle\" text-anchor=\"middle\" font-size=\"14px\" font-family=\"Arial\">ctrl[2, 0]: </text><rect x=\"10.0\" y=\"305.0\" width=\"72.780703125\" height=\"40\" stroke=\"black\" fill=\"white\" stroke-width=\"0\" /><text x=\"46.3903515625\" y=\"325.0\" dominant-baseline=\"middle\" text-anchor=\"middle\" font-size=\"14px\" font-family=\"Arial\">ctrl[3, 0]: </text><rect x=\"102.78070312500002\" y=\"155.0\" width=\"51.85671875\" height=\"40\" stroke=\"black\" fill=\"white\" stroke-width=\"1\" /><text x=\"128.70906250000002\" y=\"175.0\" dominant-baseline=\"middle\" text-anchor=\"middle\" font-size=\"14px\" font-family=\"Arial\">ctrl</text><rect x=\"102.78070312500002\" y=\"205.0\" width=\"51.85671875\" height=\"40\" stroke=\"black\" fill=\"white\" stroke-width=\"1\" /><text x=\"128.70906250000002\" y=\"225.0\" dominant-baseline=\"middle\" text-anchor=\"middle\" font-size=\"14px\" font-family=\"Arial\">ctrl</text><rect x=\"102.78070312500002\" y=\"5.0\" width=\"51.85671875\" height=\"40\" stroke=\"black\" fill=\"white\" stroke-width=\"1\" /><text x=\"128.70906250000002\" y=\"25.0\" dominant-baseline=\"middle\" text-anchor=\"middle\" font-size=\"14px\" font-family=\"Arial\">target</text><rect x=\"174.63742187499997\" y=\"5.0\" width=\"51.85671875\" height=\"40\" stroke=\"black\" fill=\"white\" stroke-width=\"1\" /><text x=\"200.56578125\" y=\"25.0\" dominant-baseline=\"middle\" text-anchor=\"middle\" font-size=\"14px\" font-family=\"Arial\">ctrl</text><rect x=\"174.63742187499997\" y=\"255.0\" width=\"51.85671875\" height=\"40\" stroke=\"black\" fill=\"white\" stroke-width=\"1\" /><text x=\"200.56578125\" y=\"275.0\" dominant-baseline=\"middle\" text-anchor=\"middle\" font-size=\"14px\" font-family=\"Arial\">ctrl</text><rect x=\"174.63742187499997\" y=\"55.0\" width=\"51.85671875\" height=\"40\" stroke=\"black\" fill=\"white\" stroke-width=\"1\" /><text x=\"200.56578125\" y=\"75.0\" dominant-baseline=\"middle\" text-anchor=\"middle\" font-size=\"14px\" font-family=\"Arial\">target</text><rect x=\"246.494140625\" y=\"55.0\" width=\"51.85671875\" height=\"40\" stroke=\"black\" fill=\"white\" stroke-width=\"1\" /><text x=\"272.4225\" y=\"75.0\" dominant-baseline=\"middle\" text-anchor=\"middle\" font-size=\"14px\" font-family=\"Arial\">ctrl</text><rect x=\"246.494140625\" y=\"305.0\" width=\"51.85671875\" height=\"40\" stroke=\"black\" fill=\"white\" stroke-width=\"1\" /><text x=\"272.4225\" y=\"325.0\" dominant-baseline=\"middle\" text-anchor=\"middle\" font-size=\"14px\" font-family=\"Arial\">ctrl</text><rect x=\"246.494140625\" y=\"105.0\" width=\"51.85671875\" height=\"40\" stroke=\"black\" fill=\"white\" stroke-width=\"1\" /><text x=\"272.4225\" y=\"125.0\" dominant-baseline=\"middle\" text-anchor=\"middle\" font-size=\"14px\" font-family=\"Arial\">target</text></svg>"
      ],
      "text/plain": [
       "<cirq.contrib.svg.svg.SVGCircuit at 0x7f39d48326e0>"
      ]
     },
     "execution_count": 16,
     "metadata": {},
     "output_type": "execute_result"
    }
   ],
   "source": [
    "multi_and_circuit, out_quregs = multi_and.decompose_bloq().to_cirq_circuit(**cirq_quregs)\n",
    "SVGCircuit(multi_and_circuit)"
   ]
  },
  {
   "cell_type": "code",
   "execution_count": 17,
   "id": "fb2890bd",
   "metadata": {},
   "outputs": [
    {
     "data": {
      "text/plain": [
       "{'ctrl': array([[cirq.NamedQubit('ctrl[0, 0]')],\n",
       "        [cirq.NamedQubit('ctrl[1, 0]')],\n",
       "        [cirq.NamedQubit('ctrl[2, 0]')],\n",
       "        [cirq.NamedQubit('ctrl[3, 0]')]], dtype=object),\n",
       " 'junk': array([[CleanQubit(0)],\n",
       "        [CleanQubit(1)]], dtype=object),\n",
       " 'target': array([CleanQubit(2)], dtype=object)}"
      ]
     },
     "execution_count": 17,
     "metadata": {},
     "output_type": "execute_result"
    }
   ],
   "source": [
    "# We are returned the final assignment of registers to qubits\n",
    "# Note that some qubits were allocated.\n",
    "out_quregs"
   ]
  }
 ],
 "metadata": {
  "kernelspec": {
   "display_name": "Python 3 (ipykernel)",
   "language": "python",
   "name": "python3"
  },
  "language_info": {
   "codemirror_mode": {
    "name": "ipython",
    "version": 3
   },
   "file_extension": ".py",
   "mimetype": "text/x-python",
   "name": "python",
   "nbconvert_exporter": "python",
   "pygments_lexer": "ipython3",
   "version": "3.10.9"
  }
 },
 "nbformat": 4,
 "nbformat_minor": 5
}
