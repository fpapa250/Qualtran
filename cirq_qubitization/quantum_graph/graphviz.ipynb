{
 "cells": [
  {
   "cell_type": "markdown",
   "id": "3d517c93",
   "metadata": {},
   "source": [
    "# Graphviz\n",
    "\n",
    "We include code for converting composite bloqs to graphs, drawn with graphviz."
   ]
  },
  {
   "cell_type": "code",
   "execution_count": null,
   "id": "718515b1",
   "metadata": {},
   "outputs": [],
   "source": [
    "from cirq_qubitization.quantum_graph.graphviz import GraphDrawer, PrettyGraphDrawer\n",
    "from cirq_qubitization.quantum_graph.graphviz_test import Atom, TestParallelBloq\n",
    "\n",
    "from IPython.display import SVG\n",
    "\n",
    "def show_bloq(bloq, draw_cls=PrettyGraphDrawer):\n",
    "    display(SVG(draw_cls(bloq).get_graph().create_svg()))"
   ]
  },
  {
   "cell_type": "markdown",
   "id": "5c4bf50e",
   "metadata": {},
   "source": [
    "Each constituent bloq is a table whose header contains the bloq name. Each row is a register. Edges represent connections between soquets. Each edge is labeled with the bitsize of the connected registers. Dangling soquets (corresponding to the enclosing bloq's registers) are drawn as plain text."
   ]
  },
  {
   "cell_type": "code",
   "execution_count": null,
   "id": "767bb12a",
   "metadata": {},
   "outputs": [],
   "source": [
    "show_bloq(Atom())"
   ]
  },
  {
   "cell_type": "code",
   "execution_count": null,
   "id": "05c06c0c",
   "metadata": {},
   "outputs": [],
   "source": [
    "show_bloq(TestParallelBloq())"
   ]
  },
  {
   "cell_type": "code",
   "execution_count": null,
   "id": "58b65061",
   "metadata": {},
   "outputs": [],
   "source": [
    "show_bloq(TestParallelBloq().decompose_bloq())"
   ]
  },
  {
   "cell_type": "markdown",
   "id": "ea9d5d8b",
   "metadata": {},
   "source": [
    "The `PrettyGraphDrawer` abbreviates names, hides some details of reshaping bloqs, and chooses drawing parameters to give a compact visualization of the bloq. `GraphDrawer` does not add any styling information and relies on graphviz defaults."
   ]
  },
  {
   "cell_type": "code",
   "execution_count": null,
   "id": "6feed93c",
   "metadata": {},
   "outputs": [],
   "source": [
    "show_bloq(TestParallelBloq().decompose_bloq(), draw_cls=GraphDrawer)"
   ]
  },
  {
   "cell_type": "markdown",
   "id": "9b9c8c51",
   "metadata": {},
   "source": [
    "We use `pydot` to manupulate graphviz graphs. You can get that graph directly:"
   ]
  },
  {
   "cell_type": "code",
   "execution_count": null,
   "id": "47f60696",
   "metadata": {},
   "outputs": [],
   "source": [
    "graph = GraphDrawer(TestParallelBloq().decompose_bloq()).get_graph()\n",
    "print(graph.to_string())"
   ]
  }
 ],
 "metadata": {
  "kernelspec": {
   "display_name": "Python 3 (ipykernel)",
   "language": "python",
   "name": "python3"
  },
  "language_info": {
   "codemirror_mode": {
    "name": "ipython",
    "version": 3
   },
   "file_extension": ".py",
   "mimetype": "text/x-python",
   "name": "python",
   "nbconvert_exporter": "python",
   "pygments_lexer": "ipython3",
   "version": "3.10.9"
  }
 },
 "nbformat": 4,
 "nbformat_minor": 5
}
