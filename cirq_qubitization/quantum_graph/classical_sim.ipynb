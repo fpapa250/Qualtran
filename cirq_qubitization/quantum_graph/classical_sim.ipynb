{
 "cells": [
  {
   "cell_type": "markdown",
   "id": "19c8aede",
   "metadata": {},
   "source": [
    "# Classical Simulation\n",
    "\n",
    "Many quantum information subroutines are reversible classical operations. The catch is that they are operated on superpositions of classical bitstrings. However, we can unit test these operations by checking against specific bitstrings through the `call_classically` bloqs protocol."
   ]
  },
  {
   "cell_type": "code",
   "execution_count": null,
   "id": "689149fc",
   "metadata": {},
   "outputs": [],
   "source": [
    "from typing import *\n",
    "\n",
    "import numpy as np\n",
    "from attrs import frozen\n",
    "from numpy.typing import NDArray\n",
    "\n",
    "from cirq_qubitization.quantum_graph.bloq import Bloq\n",
    "from cirq_qubitization.quantum_graph.composite_bloq import CompositeBloqBuilder\n",
    "from cirq_qubitization.quantum_graph.fancy_registers import FancyRegister, FancyRegisters, Side\n",
    "from cirq_qubitization.jupyter_tools import show_bloq"
   ]
  },
  {
   "cell_type": "markdown",
   "id": "71193328",
   "metadata": {},
   "source": [
    "## CNOT\n",
    "\n",
    "The simplest classical gate is the controlled not. This flips the target bit if `ctrl` is set. We can implement the `on_classical_vals` method to encode this behavior."
   ]
  },
  {
   "cell_type": "code",
   "execution_count": null,
   "id": "3f251026",
   "metadata": {},
   "outputs": [],
   "source": [
    "@frozen\n",
    "class CNOTExample(Bloq):\n",
    "    @property\n",
    "    def registers(self) -> 'FancyRegisters':\n",
    "        return FancyRegisters.build(ctrl=1, target=1)\n",
    "\n",
    "    def on_classical_vals(\n",
    "        self, ctrl: NDArray[np.uint8], target: NDArray[np.uint8]\n",
    "    ) -> Dict[str, NDArray[np.uint8]]:\n",
    "        target_out = (ctrl + target) % 2\n",
    "        return {'ctrl': ctrl, 'target': target_out}"
   ]
  },
  {
   "cell_type": "code",
   "execution_count": null,
   "id": "84d2ee13",
   "metadata": {},
   "outputs": [],
   "source": [
    "CNOTExample().call_classically(ctrl=1, target=0)"
   ]
  },
  {
   "cell_type": "code",
   "execution_count": null,
   "id": "4d5fd4dc",
   "metadata": {},
   "outputs": [],
   "source": [
    "import itertools\n",
    "for c, t in itertools.product([0,1], repeat=2):\n",
    "    ret = CNOTExample().apply_classical(ctrl=c, target=t)\n",
    "    print(f'{c}{t} -> {ret[\"ctrl\"]}{ret[\"target\"]}')"
   ]
  },
  {
   "cell_type": "code",
   "execution_count": null,
   "id": "4653d4f9",
   "metadata": {},
   "outputs": [],
   "source": [
    "from cirq_qubitization.quantum_graph.graphviz import ClassicalSimGraphDrawer\n",
    "\n",
    "in_data = {\n",
    "    'ctrl': np.array([1], dtype=np.uint8),\n",
    "    'target': np.array([0], dtype=np.uint8),\n",
    "}\n",
    "\n",
    "drawer = ClassicalSimGraphDrawer(CNOTExample(), in_data)\n",
    "drawer.get_svg()"
   ]
  },
  {
   "cell_type": "code",
   "execution_count": null,
   "id": "8b62e282",
   "metadata": {},
   "outputs": [],
   "source": [
    "bb = CompositeBloqBuilder()\n",
    "q0 = bb.add_register('q0', 1)\n",
    "q1 = bb.add_register('q1', 1)\n",
    "q0, q1 = bb.add(CNOTExample(), ctrl=q0, target=q1)\n",
    "q1, q0 = bb.add(CNOTExample(), ctrl=q1, target=q0)\n",
    "q0, q1 = bb.add(CNOTExample(), ctrl=q0, target=q1)\n",
    "cbloq = bb.finalize(q0=q0, q1=q1)\n",
    "\n",
    "in_data = {\n",
    "    'q0': np.array([1], dtype=np.uint8),\n",
    "    'q1': np.array([0], dtype=np.uint8),\n",
    "}\n",
    "\n",
    "drawer = ClassicalSimGraphDrawer(cbloq, in_data)\n",
    "drawer.get_svg()"
   ]
  }
 ],
 "metadata": {
  "kernelspec": {
   "display_name": "Python 3 (ipykernel)",
   "language": "python",
   "name": "python3"
  },
  "language_info": {
   "codemirror_mode": {
    "name": "ipython",
    "version": 3
   },
   "file_extension": ".py",
   "mimetype": "text/x-python",
   "name": "python",
   "nbconvert_exporter": "python",
   "pygments_lexer": "ipython3",
   "version": "3.10.9"
  }
 },
 "nbformat": 4,
 "nbformat_minor": 5
}
