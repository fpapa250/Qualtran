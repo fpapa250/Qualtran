{
 "cells": [
  {
   "cell_type": "markdown",
   "id": "1117ec28",
   "metadata": {
    "cq.autogen": "title_cell"
   },
   "source": [
    "# Hubbard Model\n",
    "\n",
    "Gates for Qubitizing the Hubbard Model.\n",
    "\n",
    "This follows section V. of the [Linear T Paper](https://arxiv.org/abs/1805.03662).\n",
    "\n",
    "The Hubbard model is a special case of the electronic structure Hamiltonian\n",
    "restricted to spins on a planar grid.\n",
    "\n",
    "$$\n",
    "H = -t \\sum_{\\langle p,q \\rangle, \\sigma} a_{p,\\sigma}^\\dagger a_{q,\\sigma}\n",
    "    + \\frac{u}{2} \\sum_{p,\\alpha\\ne\\beta} n_{p, \\alpha} n_{p, \\beta}\n",
    "$$\n",
    "\n",
    "Under the Jordan-Wigner transformation this is\n",
    "\n",
    "$$\n",
    "\\def\\Zvec{\\overrightarrow{Z}}\n",
    "\\def\\hop#1{#1_{p,\\sigma} \\Zvec #1_{q,\\sigma}}\n",
    "H = -\\frac{t}{2} \\sum_{\\langle p,q \\rangle, \\sigma} (\\hop{X} + \\hop{Y})\n",
    "  + \\frac{u}{8} \\sum_{p,\\alpha\\ne\\beta} Z_{p,\\alpha}Z_{p,\\beta}\n",
    "  - \\frac{u}{4} \\sum_{p,\\sigma} Z_{p,\\sigma} + \\frac{uN}{4}\\mathbb{1}\n",
    "$$\n",
    "\n",
    "\n",
    "This model consists of a PREPARE and SELECT operation where our selection operation has indices\n",
    "for p, alpha, q, and beta as well as two indicator bits U and V. There are four cases considered\n",
    "in both the PREPARE and SELECT operations corresponding to the terms in the Hamiltonian:\n",
    "\n",
    " - $U=1$, single-body Z\n",
    " - $V=1$, spin-spin ZZ term\n",
    " - $p<q$, XZX term\n",
    " - $p>q$, YZY term.\n",
    "\n",
    "See the documentation for `PrepareHubbard` and `SelectHubbard` for details."
   ]
  },
  {
   "cell_type": "code",
   "execution_count": null,
   "id": "079e71f9",
   "metadata": {
    "cq.autogen": "top_imports"
   },
   "outputs": [],
   "source": [
    "import cirq\n",
    "import numpy as np\n",
    "import cirq_qubitization as cq\n",
    "import cirq_qubitization.cirq_infra.testing as cq_testing\n",
    "from cirq_qubitization.jupyter_tools import display_gate_and_compilation\n",
    "from typing import *"
   ]
  },
  {
   "cell_type": "markdown",
   "id": "1156cf4f",
   "metadata": {
    "cq.autogen": "_make_SelectHubbard.md"
   },
   "source": [
    "## `SelectHubbard`\n",
    "The SELECT operation optimized for the 2D Hubbard model.\n",
    "\n",
    "In contrast to the arbitrary chemistry Hamiltonian, we:\n",
    " - explicitly consider the two dimensions of indices to permit optimization of the circuits.\n",
    " - dispense with the `theta` parameter.\n",
    "\n",
    "If neither `U` nor `V` is set we apply the kinetic terms of the Hamiltonian:\n",
    "\n",
    "$$\n",
    "-\\hop{X} \\quad p < q \\\\\n",
    "-\\hop{Y} \\quad p > q\n",
    "$$\n",
    "\n",
    "If U is set we know $(p,\\alpha)=(q,\\beta)$ and apply the single-body term: $-Z_{p,\\alpha}$.\n",
    "If V is set we know $p=q, \\alpha=0$, and $\\beta=1$ and apply the spin term:\n",
    "$Z_{p,\\alpha}Z_{p,\\beta}$\n",
    "\n",
    "\n",
    "#### Parameters\n",
    " - `x_dim`: the number of sites in the x axis.\n",
    " - `y_dim`: the number of site along the y axis. \n",
    "\n",
    "#### Registers\n",
    " - `control[1]`: A control bit for the entire gate.\n",
    " - `U[1]`: Whether we're applying the single-site part of the potential.\n",
    " - `V[1]`: Whether we're applying the pairwise part of the potential.\n",
    " - `p_x`: First set of site indices, x component.\n",
    " - `p_y`: First set of site indices, y component.\n",
    " - `alpha[1]`: First set of sites' spin indicator.\n",
    " - `q_x`: Second set of site indices, x component.\n",
    " - `q_y`: Second set of site indices, y component.\n",
    " - `beta[1]`: Second set of sites' spin indicator.\n",
    " - `target`: The system register to apply the select operation.\n",
    " - `ancilla`: Work space. \n",
    "\n",
    "#### References\n",
    "Section V. and Fig. 19 of https://arxiv.org/abs/1805.03662.\n"
   ]
  },
  {
   "cell_type": "code",
   "execution_count": null,
   "id": "6bfb9288",
   "metadata": {
    "cq.autogen": "_make_SelectHubbard.py"
   },
   "outputs": [],
   "source": [
    "from cirq_qubitization.cirq_algos.hubbard_model import *\n",
    "\n",
    "x_dim, y_dim, t = 2, 2, 5\n",
    "mu = 4 * t\n",
    "\n",
    "select = cq_testing.GateHelper(\n",
    "    SelectHubbard(x_dim=x_dim, y_dim=y_dim)\n",
    ")\n",
    "display_gate_and_compilation(select)"
   ]
  },
  {
   "cell_type": "code",
   "execution_count": null,
   "id": "09b0da48",
   "metadata": {},
   "outputs": [],
   "source": [
    "print(cq.t_complexity(SelectHubbard(x_dim=x_dim, y_dim=y_dim)))"
   ]
  },
  {
   "cell_type": "markdown",
   "id": "fa794187",
   "metadata": {},
   "source": [
    "## `PrepareHubbard`\n",
    "The PREPARE operation optimized for the 2D Hubbard model.\n",
    "\n",
    "In contrast to the arbitrary chemistry Hamiltonian, we:\n",
    " - explicitly consider the two dimensions of indices to permit optimization of the circuits.\n",
    " - dispense with the `theta` parameter.\n",
    "\n",
    "#### Parameters\n",
    "- `x_dim`: the number of sites along the x axis.\n",
    "- `y_dim`: the number of sites along the y axis.\n",
    "- `t`: coefficient for XZX and YZY terms in the Hubbard model hamiltonian.\n",
    "- `mu`: coefficeint for single body Z term and two-body ZZ terms in the Hubbard model hamiltonian.\n",
    "\n",
    "#### Registers\n",
    " - `control[1]`: A control bit for the entire gate.\n",
    " - `U[1]`: Whether we're applying the single-site part of the potential.\n",
    " - `V[1]`: Whether we're applying the pairwise part of the potential.\n",
    " - `p_x`: First set of site indices, x component.\n",
    " - `p_y`: First set of site indices, y component.\n",
    " - `alpha[1]`: First set of sites' spin indicator.\n",
    " - `q_x`: Second set of site indices, x component.\n",
    " - `q_y`: Second set of site indices, y component.\n",
    " - `beta[1]`: Second set of sites' spin indicator.\n",
    " - `target`: The system register to apply the select operation.\n",
    " - `ancilla`: Work space. \n",
    "\n",
    "#### References\n",
    "Section V. and Fig. 20 of https://arxiv.org/abs/1805.03662."
   ]
  },
  {
   "cell_type": "code",
   "execution_count": null,
   "id": "6464ad4f",
   "metadata": {},
   "outputs": [],
   "source": [
    "prepare = cq_testing.GateHelper(\n",
    "    PrepareHubbard(x_dim=x_dim, y_dim=y_dim, t=t, mu=mu)\n",
    ")\n",
    "display_gate_and_compilation(prepare)"
   ]
  },
  {
   "cell_type": "code",
   "execution_count": null,
   "id": "54a4259c",
   "metadata": {},
   "outputs": [],
   "source": [
    "print(cq.t_complexity(PrepareHubbard(x_dim=x_dim, y_dim=y_dim, t=t, mu=mu)))"
   ]
  }
 ],
 "metadata": {
  "kernelspec": {
   "display_name": "Python 3 (ipykernel)",
   "language": "python",
   "name": "python3"
  },
  "language_info": {
   "codemirror_mode": {
    "name": "ipython",
    "version": 3
   },
   "file_extension": ".py",
   "mimetype": "text/x-python",
   "name": "python",
   "nbconvert_exporter": "python",
   "pygments_lexer": "ipython3",
   "version": "3.10.10"
  }
 },
 "nbformat": 4,
 "nbformat_minor": 5
}
