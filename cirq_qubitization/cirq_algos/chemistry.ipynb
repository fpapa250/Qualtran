{
 "cells": [
  {
   "cell_type": "code",
   "execution_count": null,
   "id": "079e71f9",
   "metadata": {
    "cq.autogen": "top_imports"
   },
   "outputs": [],
   "source": [
    "import cirq\n",
    "import numpy as np\n",
    "import cirq_qubitization as cq\n",
    "import cirq_qubitization.cirq_infra.testing as cq_testing\n",
    "from cirq_qubitization.jupyter_tools import display_gate_and_compilation\n",
    "from typing import *"
   ]
  },
  {
   "attachments": {},
   "cell_type": "markdown",
   "id": "ad34c73c",
   "metadata": {},
   "source": [
    "## Select"
   ]
  },
  {
   "cell_type": "code",
   "execution_count": null,
   "id": "6bfb9288",
   "metadata": {
    "cq.autogen": "_make_SelectHubbard.py"
   },
   "outputs": [],
   "source": [
    "from cirq_qubitization.cirq_algos.chemistry import SelectChem\n",
    "\n",
    "num_spin_orb = 4\n",
    "\n",
    "select = cq_testing.GateHelper(\n",
    "    SelectChem(num_spin_orb=num_spin_orb, control_val=1)\n",
    ")\n",
    "display_gate_and_compilation(select)"
   ]
  },
  {
   "cell_type": "code",
   "execution_count": null,
   "id": "2153a607",
   "metadata": {},
   "outputs": [],
   "source": [
    "import matplotlib.pyplot as plt\n",
    "import scipy.optimize\n",
    "res = []\n",
    "\n",
    "ns = range(10, 300, 10)\n",
    "def linear(x, a, b, c):\n",
    "    return a*x + b * np.log2(x) + c\n",
    "\n",
    "for n in ns:\n",
    "    res.append(cq.t_complexity(SelectChem(num_spin_orb=n, control_val=1)).t)\n",
    "popt, pcov = scipy.optimize.curve_fit(linear, ns, res)\n",
    "plt.plot(ns, res, marker=\"o\", lw=0, color=\"C0\")\n",
    "plt.plot([ns[0], ns[-1]], [linear(ns[0], *popt), linear(ns[-1], *popt)], ls=\":\", color=\"C3\", lw=3, label=fr\"{popt[0]:2.2f} $N$ + {popt[1]:2.2f} $\\log N$\")\n",
    "plt.legend()\n",
    "plt.xlabel(\"$N$\")\n",
    "plt.ylabel(\"$T$-count\")"
   ]
  },
  {
   "attachments": {},
   "cell_type": "markdown",
   "id": "387511c0",
   "metadata": {},
   "source": [
    "## Subprepare"
   ]
  },
  {
   "cell_type": "code",
   "execution_count": null,
   "id": "aea6fea5",
   "metadata": {},
   "outputs": [],
   "source": [
    "from cirq_qubitization.cirq_algos.chemistry import SubPrepareChem \n",
    "\n",
    "num_orb = 4\n",
    "Us, Ts, Vs, Vxs = np.random.normal(size=4 * num_orb).reshape((4, num_orb))\n",
    "lambda_H = np.sum(np.abs([Us, Ts, Vs]))\n",
    "select = SubPrepareChem.build(num_spin_orb=2 * num_orb, T=Ts, U=Us, V=Vs, Vx=Vxs, lambda_H=lambda_H, probability_epsilon=1e-3)\n",
    "g = cq_testing.GateHelper(select)\n",
    "circuit = cirq.Circuit(cirq.decompose_once(g.operation))\n",
    "print(cq.t_complexity(select))"
   ]
  },
  {
   "cell_type": "code",
   "execution_count": null,
   "id": "4df0921e",
   "metadata": {},
   "outputs": [],
   "source": [
    "import numpy as np\n",
    "hash(tuple(np.ones((3, 3)).ravel()))"
   ]
  },
  {
   "cell_type": "code",
   "execution_count": null,
   "id": "fba4f9f9",
   "metadata": {},
   "outputs": [],
   "source": []
  }
 ],
 "metadata": {
  "kernelspec": {
   "display_name": "Python 3 (ipykernel)",
   "language": "python",
   "name": "python3"
  },
  "language_info": {
   "codemirror_mode": {
    "name": "ipython",
    "version": 3
   },
   "file_extension": ".py",
   "mimetype": "text/x-python",
   "name": "python",
   "nbconvert_exporter": "python",
   "pygments_lexer": "ipython3",
   "version": "3.10.9"
  }
 },
 "nbformat": 4,
 "nbformat_minor": 5
}
