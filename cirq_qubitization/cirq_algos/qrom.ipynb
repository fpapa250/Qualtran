{
 "cells": [
  {
   "cell_type": "markdown",
   "id": "ffe91e97",
   "metadata": {
    "cq.autogen": "title_cell"
   },
   "source": [
    "# QROM"
   ]
  },
  {
   "cell_type": "code",
   "execution_count": null,
   "id": "2737c79f",
   "metadata": {
    "cq.autogen": "top_imports"
   },
   "outputs": [],
   "source": [
    "import cirq\n",
    "import numpy as np\n",
    "import cirq_qubitization\n",
    "import cirq_qubitization.cirq_infra.testing as cq_testing\n",
    "from cirq_qubitization.jupyter_tools import display_gate_and_compilation, show_bloq\n",
    "from typing import *"
   ]
  },
  {
   "cell_type": "markdown",
   "id": "5d6a18ce",
   "metadata": {
    "cq.autogen": "_make_QROM.md"
   },
   "source": [
    "## `QROM`\n",
    "Gate to load data[l] in the target register when the selection register stores integer l."
   ]
  },
  {
   "cell_type": "code",
   "execution_count": null,
   "id": "7a91a2db",
   "metadata": {
    "cq.autogen": "_make_QROM.py"
   },
   "outputs": [],
   "source": [
    "from cirq_qubitization.cirq_algos import QROM\n",
    "\n",
    "qrom = QROM([1, 2, 3, 4, 5])\n",
    "g = cq_testing.GateHelper(\n",
    "    qrom\n",
    ")\n",
    "cirq.Circuit(cirq.decompose_once(g.operation))\n",
    "\n",
    "display_gate_and_compilation(g)"
   ]
  },
  {
   "cell_type": "code",
   "execution_count": null,
   "id": "16328fb7",
   "metadata": {},
   "outputs": [],
   "source": [
    "from cirq_qubitization.bit_tools import iter_bits\n",
    "data = [[1, 2, 3, 4, 5]]\n",
    "for selection_integer in range(qrom.iteration_length):\n",
    "    qubit_vals = {x: 0 for x in g.all_qubits}\n",
    "    qubit_vals |= zip(\n",
    "        g.quregs['selection'], iter_bits(selection_integer, g.r['selection'].bitsize)\n",
    "    )\n",
    "\n",
    "    initial_state = [qubit_vals[x] for x in g.all_qubits]\n",
    "    for ti, d in enumerate(data):\n",
    "        target = g.quregs[f\"target{ti}\"]\n",
    "        qubit_vals |= zip(target, iter_bits(d[selection_integer], len(target)))\n",
    "    final_state = [qubit_vals[x] for x in g.all_qubits]\n",
    "    cq_testing.assert_circuit_inp_out_cirqsim(\n",
    "        g.decomposed_circuit, g.all_qubits, initial_state, final_state\n",
    "    )"
   ]
  },
  {
   "attachments": {},
   "cell_type": "markdown",
   "id": "70adccb1",
   "metadata": {},
   "source": [
    "We can also use QROM to load floating point data, typically by converting to a fixed point representation. Complex numbers can similarly be loaded by splitting the data array into real and complex values."
   ]
  },
  {
   "cell_type": "code",
   "execution_count": null,
   "id": "b339afe3",
   "metadata": {},
   "outputs": [],
   "source": [
    "\n",
    "import select\n",
    "from cirq_qubitization.bit_tools import fixed_point_bits_to_float, float_to_fixed_point_bits \n",
    "data = [10.38, -2.15, -0.999, 12.33, -19.34]\n",
    "bin_width = 10\n",
    "frac_width = 4\n",
    "data_fixed_point = [int(float_to_fixed_point_bits(d, bin_width, frac_width), 2) for d in data]\n",
    "qrom = QROM(data_fixed_point)\n",
    "g = cq_testing.GateHelper(\n",
    "    qrom\n",
    ")\n",
    "cirq.Circuit(cirq.decompose_once(g.operation))\n",
    "\n",
    "for selection_integer in range(qrom.iteration_length):\n",
    "    qubit_vals = {x: 0 for x in g.all_qubits}\n",
    "    qubit_vals |= zip(\n",
    "        g.quregs['selection'], iter_bits(selection_integer, g.r['selection'].bitsize)\n",
    "    )\n",
    "\n",
    "    initial_state = [qubit_vals[x] for x in g.all_qubits]\n",
    "    for ti, d in enumerate([data_fixed_point]):\n",
    "        target = g.quregs[f\"target{ti}\"]\n",
    "        qubit_vals |= zip(target, iter_bits(data_fixed_point[selection_integer], len(target)))\n",
    "    final_state = [qubit_vals[x] for x in g.all_qubits]\n",
    "    cq_testing.assert_circuit_inp_out_cirqsim(\n",
    "        g.decomposed_circuit, g.all_qubits, initial_state, final_state\n",
    "    )\n",
    "\n",
    "    target_val = ''.join(f\"{tv}\" for tv in [final_state[g.all_qubits.index(q)] for q in g.quregs[\"target0\"]])\n",
    "    loaded_value = fixed_point_bits_to_float(target_val, frac_width)\n",
    "    fp_int = float_to_fixed_point_bits(data[selection_integer], bin_width, frac_width)\n",
    "    expected_value = fixed_point_bits_to_float(fp_int, frac_width)\n",
    "    print(\"loaded = {}, expected = {}, exact = {}\".format(loaded_value, expected_value, data[selection_integer]))"
   ]
  },
  {
   "cell_type": "code",
   "execution_count": null,
   "id": "0668b3e6",
   "metadata": {},
   "outputs": [],
   "source": []
  }
 ],
 "metadata": {
  "kernelspec": {
   "display_name": "qubitization",
   "language": "python",
   "name": "python3"
  },
  "language_info": {
   "codemirror_mode": {
    "name": "ipython",
    "version": 3
   },
   "file_extension": ".py",
   "mimetype": "text/x-python",
   "name": "python",
   "nbconvert_exporter": "python",
   "pygments_lexer": "ipython3",
   "version": "3.10.9"
  },
  "vscode": {
   "interpreter": {
    "hash": "4587b499bc0e93b7fd5bd43a928c2009928964bbad1f52af90c3e08584bf2706"
   }
  }
 },
 "nbformat": 4,
 "nbformat_minor": 5
}
