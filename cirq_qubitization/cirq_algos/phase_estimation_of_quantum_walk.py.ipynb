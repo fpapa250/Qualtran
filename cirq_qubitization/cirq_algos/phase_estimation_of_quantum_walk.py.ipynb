{
 "cells": [
  {
   "cell_type": "code",
   "execution_count": null,
   "metadata": {},
   "outputs": [],
   "source": [
    "import cirq\n",
    "import numpy as np\n",
    "\n",
    "import cirq_qubitization as cq\n",
    "\n",
    "from cirq_qubitization.cirq_algos.qubitization_walk_operator_test import get_walk_operator_for_1d_ising_model"
   ]
  },
  {
   "attachments": {},
   "cell_type": "markdown",
   "metadata": {},
   "source": [
    "Implements Heisenberg-Limited Phase Estimation of the Qubitized Quantum Walks as described in Section-II B. of [Encoding Electronic Spectra in Quantum Circuits with Linear T Complexity](https://arxiv.org/abs/1805.03662)"
   ]
  },
  {
   "cell_type": "code",
   "execution_count": null,
   "metadata": {},
   "outputs": [],
   "source": [
    "def get_resource_state(m: int):\n",
    "    den = 1 + 2 ** m\n",
    "    norm = np.sqrt(2 / den)\n",
    "    return norm * np.sin(np.pi * (1 + np.arange(2**m)) / den)        \n",
    "    \n",
    "def phase_estimation(walk: cq.QubitizationWalkOperator, m: int) -> cirq.OP_TREE:\n",
    "    reflect = walk._reflect\n",
    "    walk_regs = walk.registers.get_named_qubits()\n",
    "    reflect_regs = {k:v for k, v in walk_regs.items() if k in reflect.registers}\n",
    "    \n",
    "    reflect_controlled = reflect.controlled(control_values=[0])\n",
    "    walk_controlled = walk.controlled(control_values=[1])\n",
    "    reflect_op = reflect.on_registers(**reflect_regs)\n",
    "\n",
    "    m_qubits = [cirq.q(f'm_{i}') for i in range(m)]\n",
    "    state_prep = cirq.StatePreparationChannel(get_resource_state(m), name='𝜒_m')\n",
    "\n",
    "    yield state_prep.on(*m_qubits)\n",
    "    yield walk_controlled.on_registers(**walk_regs, control=m_qubits[0])\n",
    "    for i in range(1, m):\n",
    "        yield reflect_controlled.on_registers(control=m_qubits[i], **reflect_regs)\n",
    "        yield walk.on_registers(**walk_regs)\n",
    "        walk = walk ** 2\n",
    "        yield reflect_controlled.on_registers(control=m_qubits[i], **reflect_regs)\n",
    "        \n",
    "    yield cirq.qft(*m_qubits, inverse=True)"
   ]
  },
  {
   "cell_type": "code",
   "execution_count": null,
   "metadata": {},
   "outputs": [],
   "source": [
    "num_sites: int = 6\n",
    "eps: float = 1e-2\n",
    "m_bits: int = 4\n",
    "\n",
    "circuit = cirq.Circuit(phase_estimation(get_walk_operator_for_1d_ising_model(num_sites, eps), m=m_bits))\n",
    "print(circuit)"
   ]
  },
  {
   "cell_type": "code",
   "execution_count": null,
   "metadata": {},
   "outputs": [],
   "source": [
    "num_sites: int = 200\n",
    "eps: float = 1e-5\n",
    "m_bits: int = 14\n",
    "\n",
    "circuit = cirq.Circuit(phase_estimation(get_walk_operator_for_1d_ising_model(num_sites, eps), m=m_bits))\n",
    "%time cq.t_complexity(circuit[1:-1])"
   ]
  }
 ],
 "metadata": {
  "kernelspec": {
   "display_name": "Python 3 (ipykernel)",
   "language": "python",
   "name": "python3"
  },
  "language_info": {
   "codemirror_mode": {
    "name": "ipython",
    "version": 3
   },
   "file_extension": ".py",
   "mimetype": "text/x-python",
   "name": "python",
   "nbconvert_exporter": "python",
   "pygments_lexer": "ipython3",
   "version": "3.10.10"
  }
 },
 "nbformat": 4,
 "nbformat_minor": 1
}
